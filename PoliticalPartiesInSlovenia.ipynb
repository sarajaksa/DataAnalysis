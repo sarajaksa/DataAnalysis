{
 "cells": [
  {
   "cell_type": "markdown",
   "metadata": {},
   "source": [
    "# Analysis of Political Parties"
   ]
  },
  {
   "cell_type": "markdown",
   "metadata": {},
   "source": [
    "In Slovenia, before the 2018 elections, the political parties were asked to answer some of the questions, to find out about their ideology. The agregate results were found the the Political portret website ( https://danesjenovdan.si/politicni-portret/ ). "
   ]
  },
  {
   "cell_type": "markdown",
   "metadata": {},
   "source": [
    "The data, that I copied from that website can be found on: http://sarajaksa.eu/content/static/politicno-mnenje.csv"
   ]
  },
  {
   "cell_type": "code",
   "execution_count": 1,
   "metadata": {},
   "outputs": [],
   "source": [
    "import pandas"
   ]
  },
  {
   "cell_type": "code",
   "execution_count": 2,
   "metadata": {},
   "outputs": [],
   "source": [
    "from sklearn.cluster import KMeans\n",
    "from sklearn.cluster import AgglomerativeClustering\n",
    "from scipy.cluster.hierarchy import dendrogram, linkage\n",
    "from scipy.stats import wilcoxon"
   ]
  },
  {
   "cell_type": "code",
   "execution_count": 3,
   "metadata": {},
   "outputs": [],
   "source": [
    "from matplotlib import pyplot"
   ]
  },
  {
   "cell_type": "markdown",
   "metadata": {},
   "source": [
    "In order to analise the data, it first needs to be imported and cleaned and the variables needed later need to be created. "
   ]
  },
  {
   "cell_type": "code",
   "execution_count": 4,
   "metadata": {},
   "outputs": [],
   "source": [
    "my_answers = [10, 60, 50, 33, 62, 12, 48, 24, 10, 71, 10, 60, 21, 33, 19, 43]"
   ]
  },
  {
   "cell_type": "code",
   "execution_count": 5,
   "metadata": {},
   "outputs": [],
   "source": [
    "political_opinion = pandas.read_csv(\"politicno-mnenje.csv\", sep=',')"
   ]
  },
  {
   "cell_type": "code",
   "execution_count": 6,
   "metadata": {},
   "outputs": [
    {
     "data": {
      "text/html": [
       "<div>\n",
       "<style scoped>\n",
       "    .dataframe tbody tr th:only-of-type {\n",
       "        vertical-align: middle;\n",
       "    }\n",
       "\n",
       "    .dataframe tbody tr th {\n",
       "        vertical-align: top;\n",
       "    }\n",
       "\n",
       "    .dataframe thead th {\n",
       "        text-align: right;\n",
       "    }\n",
       "</style>\n",
       "<table border=\"1\" class=\"dataframe\">\n",
       "  <thead>\n",
       "    <tr style=\"text-align: right;\">\n",
       "      <th></th>\n",
       "      <th>StrankaIme</th>\n",
       "      <th>Stranka</th>\n",
       "      <th>Konstruktivizem</th>\n",
       "      <th>Esencializem</th>\n",
       "      <th>Rehabilitacija</th>\n",
       "      <th>Kaznovanje</th>\n",
       "      <th>Progresivnost</th>\n",
       "      <th>Konzervativnost</th>\n",
       "      <th>Internacionalizem</th>\n",
       "      <th>Nacionalizem</th>\n",
       "      <th>Komunizem</th>\n",
       "      <th>Kapitalizem</th>\n",
       "      <th>Regulacija</th>\n",
       "      <th>Laissez-faire</th>\n",
       "      <th>Ekologija</th>\n",
       "      <th>Produktivnost</th>\n",
       "      <th>Revolucija</th>\n",
       "      <th>Reformizem</th>\n",
       "    </tr>\n",
       "  </thead>\n",
       "  <tbody>\n",
       "    <tr>\n",
       "      <th>0</th>\n",
       "      <td>Zeleni Slovenije</td>\n",
       "      <td>Zeleni</td>\n",
       "      <td>21</td>\n",
       "      <td>28</td>\n",
       "      <td>33</td>\n",
       "      <td>39</td>\n",
       "      <td>38</td>\n",
       "      <td>22</td>\n",
       "      <td>29</td>\n",
       "      <td>44</td>\n",
       "      <td>40</td>\n",
       "      <td>25</td>\n",
       "      <td>51</td>\n",
       "      <td>14</td>\n",
       "      <td>54</td>\n",
       "      <td>10</td>\n",
       "      <td>12</td>\n",
       "      <td>62</td>\n",
       "    </tr>\n",
       "    <tr>\n",
       "      <th>1</th>\n",
       "      <td>Demokratična Stranka Upokojencev</td>\n",
       "      <td>DESUS</td>\n",
       "      <td>19</td>\n",
       "      <td>31</td>\n",
       "      <td>21</td>\n",
       "      <td>40</td>\n",
       "      <td>45</td>\n",
       "      <td>14</td>\n",
       "      <td>31</td>\n",
       "      <td>24</td>\n",
       "      <td>24</td>\n",
       "      <td>31</td>\n",
       "      <td>50</td>\n",
       "      <td>21</td>\n",
       "      <td>24</td>\n",
       "      <td>21</td>\n",
       "      <td>5</td>\n",
       "      <td>60</td>\n",
       "    </tr>\n",
       "    <tr>\n",
       "      <th>2</th>\n",
       "      <td>Gospodarsko Aktivna Stranka</td>\n",
       "      <td>GAS</td>\n",
       "      <td>40</td>\n",
       "      <td>52</td>\n",
       "      <td>40</td>\n",
       "      <td>36</td>\n",
       "      <td>48</td>\n",
       "      <td>38</td>\n",
       "      <td>50</td>\n",
       "      <td>31</td>\n",
       "      <td>19</td>\n",
       "      <td>69</td>\n",
       "      <td>38</td>\n",
       "      <td>43</td>\n",
       "      <td>50</td>\n",
       "      <td>38</td>\n",
       "      <td>0</td>\n",
       "      <td>95</td>\n",
       "    </tr>\n",
       "  </tbody>\n",
       "</table>\n",
       "</div>"
      ],
      "text/plain": [
       "                         StrankaIme Stranka  Konstruktivizem  Esencializem  \\\n",
       "0                  Zeleni Slovenije  Zeleni               21            28   \n",
       "1  Demokratična Stranka Upokojencev   DESUS               19            31   \n",
       "2       Gospodarsko Aktivna Stranka     GAS               40            52   \n",
       "\n",
       "   Rehabilitacija  Kaznovanje  Progresivnost  Konzervativnost  \\\n",
       "0              33          39             38               22   \n",
       "1              21          40             45               14   \n",
       "2              40          36             48               38   \n",
       "\n",
       "   Internacionalizem  Nacionalizem  Komunizem  Kapitalizem  Regulacija  \\\n",
       "0                 29            44         40           25          51   \n",
       "1                 31            24         24           31          50   \n",
       "2                 50            31         19           69          38   \n",
       "\n",
       "   Laissez-faire  Ekologija  Produktivnost  Revolucija  Reformizem  \n",
       "0             14         54             10          12          62  \n",
       "1             21         24             21           5          60  \n",
       "2             43         50             38           0          95  "
      ]
     },
     "execution_count": 6,
     "metadata": {},
     "output_type": "execute_result"
    }
   ],
   "source": [
    "political_opinion.head(3)"
   ]
  },
  {
   "cell_type": "code",
   "execution_count": 7,
   "metadata": {},
   "outputs": [],
   "source": [
    "stranke = political_opinion.Stranka"
   ]
  },
  {
   "cell_type": "code",
   "execution_count": 8,
   "metadata": {},
   "outputs": [],
   "source": [
    "political_opinion = political_opinion.loc[:,political_opinion.columns[2:]]"
   ]
  },
  {
   "cell_type": "code",
   "execution_count": 9,
   "metadata": {},
   "outputs": [],
   "source": [
    "prepričanja = political_opinion.columns"
   ]
  },
  {
   "cell_type": "code",
   "execution_count": 10,
   "metadata": {},
   "outputs": [
    {
     "data": {
      "text/html": [
       "<div>\n",
       "<style scoped>\n",
       "    .dataframe tbody tr th:only-of-type {\n",
       "        vertical-align: middle;\n",
       "    }\n",
       "\n",
       "    .dataframe tbody tr th {\n",
       "        vertical-align: top;\n",
       "    }\n",
       "\n",
       "    .dataframe thead th {\n",
       "        text-align: right;\n",
       "    }\n",
       "</style>\n",
       "<table border=\"1\" class=\"dataframe\">\n",
       "  <thead>\n",
       "    <tr style=\"text-align: right;\">\n",
       "      <th></th>\n",
       "      <th>Konstruktivizem</th>\n",
       "      <th>Esencializem</th>\n",
       "      <th>Rehabilitacija</th>\n",
       "      <th>Kaznovanje</th>\n",
       "      <th>Progresivnost</th>\n",
       "      <th>Konzervativnost</th>\n",
       "      <th>Internacionalizem</th>\n",
       "      <th>Nacionalizem</th>\n",
       "      <th>Komunizem</th>\n",
       "      <th>Kapitalizem</th>\n",
       "      <th>Regulacija</th>\n",
       "      <th>Laissez-faire</th>\n",
       "      <th>Ekologija</th>\n",
       "      <th>Produktivnost</th>\n",
       "      <th>Revolucija</th>\n",
       "      <th>Reformizem</th>\n",
       "    </tr>\n",
       "  </thead>\n",
       "  <tbody>\n",
       "    <tr>\n",
       "      <th>0</th>\n",
       "      <td>21</td>\n",
       "      <td>28</td>\n",
       "      <td>33</td>\n",
       "      <td>39</td>\n",
       "      <td>38</td>\n",
       "      <td>22</td>\n",
       "      <td>29</td>\n",
       "      <td>44</td>\n",
       "      <td>40</td>\n",
       "      <td>25</td>\n",
       "      <td>51</td>\n",
       "      <td>14</td>\n",
       "      <td>54</td>\n",
       "      <td>10</td>\n",
       "      <td>12</td>\n",
       "      <td>62</td>\n",
       "    </tr>\n",
       "    <tr>\n",
       "      <th>1</th>\n",
       "      <td>19</td>\n",
       "      <td>31</td>\n",
       "      <td>21</td>\n",
       "      <td>40</td>\n",
       "      <td>45</td>\n",
       "      <td>14</td>\n",
       "      <td>31</td>\n",
       "      <td>24</td>\n",
       "      <td>24</td>\n",
       "      <td>31</td>\n",
       "      <td>50</td>\n",
       "      <td>21</td>\n",
       "      <td>24</td>\n",
       "      <td>21</td>\n",
       "      <td>5</td>\n",
       "      <td>60</td>\n",
       "    </tr>\n",
       "    <tr>\n",
       "      <th>2</th>\n",
       "      <td>40</td>\n",
       "      <td>52</td>\n",
       "      <td>40</td>\n",
       "      <td>36</td>\n",
       "      <td>48</td>\n",
       "      <td>38</td>\n",
       "      <td>50</td>\n",
       "      <td>31</td>\n",
       "      <td>19</td>\n",
       "      <td>69</td>\n",
       "      <td>38</td>\n",
       "      <td>43</td>\n",
       "      <td>50</td>\n",
       "      <td>38</td>\n",
       "      <td>0</td>\n",
       "      <td>95</td>\n",
       "    </tr>\n",
       "  </tbody>\n",
       "</table>\n",
       "</div>"
      ],
      "text/plain": [
       "   Konstruktivizem  Esencializem  Rehabilitacija  Kaznovanje  Progresivnost  \\\n",
       "0               21            28              33          39             38   \n",
       "1               19            31              21          40             45   \n",
       "2               40            52              40          36             48   \n",
       "\n",
       "   Konzervativnost  Internacionalizem  Nacionalizem  Komunizem  Kapitalizem  \\\n",
       "0               22                 29            44         40           25   \n",
       "1               14                 31            24         24           31   \n",
       "2               38                 50            31         19           69   \n",
       "\n",
       "   Regulacija  Laissez-faire  Ekologija  Produktivnost  Revolucija  Reformizem  \n",
       "0          51             14         54             10          12          62  \n",
       "1          50             21         24             21           5          60  \n",
       "2          38             43         50             38           0          95  "
      ]
     },
     "execution_count": 10,
     "metadata": {},
     "output_type": "execute_result"
    }
   ],
   "source": [
    "political_opinion.head(3)"
   ]
  },
  {
   "cell_type": "markdown",
   "metadata": {},
   "source": [
    "## Nearest Party"
   ]
  },
  {
   "cell_type": "markdown",
   "metadata": {},
   "source": [
    "The first thing that I wanted to do, was to see which party is the most similar to me. The information of the person studied is saved in the my_answers variable, that is defined above. After that, the euqilidian distance is calculated between these answers and each party. "
   ]
  },
  {
   "cell_type": "code",
   "execution_count": 11,
   "metadata": {},
   "outputs": [],
   "source": [
    "razdalja_do_strank = []"
   ]
  },
  {
   "cell_type": "code",
   "execution_count": 12,
   "metadata": {},
   "outputs": [],
   "source": [
    "for i, stranka in enumerate(stranke):\n",
    "    stranka_answers = list(political_opinion.iloc[i])\n",
    "    current = [stranka, sum([(s - m)**2 for s, m in zip(stranka_answers, my_answers)])]\n",
    "    razdalja_do_strank.append(current)"
   ]
  },
  {
   "cell_type": "code",
   "execution_count": 13,
   "metadata": {},
   "outputs": [],
   "source": [
    "razdalja_do_strank = pandas.DataFrame(razdalja_do_strank)"
   ]
  },
  {
   "cell_type": "code",
   "execution_count": 14,
   "metadata": {},
   "outputs": [],
   "source": [
    "razdalja_do_strank.columns = [\"Stranka\", \"Razdalja\"]"
   ]
  },
  {
   "cell_type": "code",
   "execution_count": 15,
   "metadata": {},
   "outputs": [],
   "source": [
    "razdalja_do_strank.sort_values(by=\"Razdalja\", ascending=True, inplace=True)"
   ]
  },
  {
   "cell_type": "code",
   "execution_count": 16,
   "metadata": {},
   "outputs": [
    {
     "data": {
      "text/html": [
       "<div>\n",
       "<style scoped>\n",
       "    .dataframe tbody tr th:only-of-type {\n",
       "        vertical-align: middle;\n",
       "    }\n",
       "\n",
       "    .dataframe tbody tr th {\n",
       "        vertical-align: top;\n",
       "    }\n",
       "\n",
       "    .dataframe thead th {\n",
       "        text-align: right;\n",
       "    }\n",
       "</style>\n",
       "<table border=\"1\" class=\"dataframe\">\n",
       "  <thead>\n",
       "    <tr style=\"text-align: right;\">\n",
       "      <th></th>\n",
       "      <th>Stranka</th>\n",
       "      <th>Razdalja</th>\n",
       "    </tr>\n",
       "  </thead>\n",
       "  <tbody>\n",
       "    <tr>\n",
       "      <th>9</th>\n",
       "      <td>Elite</td>\n",
       "      <td>4068</td>\n",
       "    </tr>\n",
       "    <tr>\n",
       "      <th>3</th>\n",
       "      <td>K+P</td>\n",
       "      <td>6196</td>\n",
       "    </tr>\n",
       "    <tr>\n",
       "      <th>14</th>\n",
       "      <td>SMC</td>\n",
       "      <td>6580</td>\n",
       "    </tr>\n",
       "    <tr>\n",
       "      <th>10</th>\n",
       "      <td>SNS</td>\n",
       "      <td>6608</td>\n",
       "    </tr>\n",
       "    <tr>\n",
       "      <th>2</th>\n",
       "      <td>GAS</td>\n",
       "      <td>7087</td>\n",
       "    </tr>\n",
       "    <tr>\n",
       "      <th>7</th>\n",
       "      <td>Nsi</td>\n",
       "      <td>7799</td>\n",
       "    </tr>\n",
       "    <tr>\n",
       "      <th>1</th>\n",
       "      <td>DESUS</td>\n",
       "      <td>7949</td>\n",
       "    </tr>\n",
       "    <tr>\n",
       "      <th>5</th>\n",
       "      <td>LMŠ</td>\n",
       "      <td>8989</td>\n",
       "    </tr>\n",
       "    <tr>\n",
       "      <th>6</th>\n",
       "      <td>Naprej</td>\n",
       "      <td>10445</td>\n",
       "    </tr>\n",
       "    <tr>\n",
       "      <th>0</th>\n",
       "      <td>Zeleni</td>\n",
       "      <td>11748</td>\n",
       "    </tr>\n",
       "    <tr>\n",
       "      <th>15</th>\n",
       "      <td>SSN</td>\n",
       "      <td>12307</td>\n",
       "    </tr>\n",
       "    <tr>\n",
       "      <th>13</th>\n",
       "      <td>SAB</td>\n",
       "      <td>12577</td>\n",
       "    </tr>\n",
       "    <tr>\n",
       "      <th>16</th>\n",
       "      <td>Zdravje</td>\n",
       "      <td>14002</td>\n",
       "    </tr>\n",
       "    <tr>\n",
       "      <th>8</th>\n",
       "      <td>Pirati</td>\n",
       "      <td>14188</td>\n",
       "    </tr>\n",
       "    <tr>\n",
       "      <th>12</th>\n",
       "      <td>Solidarnost</td>\n",
       "      <td>16952</td>\n",
       "    </tr>\n",
       "    <tr>\n",
       "      <th>11</th>\n",
       "      <td>SD</td>\n",
       "      <td>17766</td>\n",
       "    </tr>\n",
       "    <tr>\n",
       "      <th>17</th>\n",
       "      <td>ZLS</td>\n",
       "      <td>18089</td>\n",
       "    </tr>\n",
       "    <tr>\n",
       "      <th>18</th>\n",
       "      <td>ZS</td>\n",
       "      <td>25107</td>\n",
       "    </tr>\n",
       "    <tr>\n",
       "      <th>4</th>\n",
       "      <td>Levica</td>\n",
       "      <td>38420</td>\n",
       "    </tr>\n",
       "  </tbody>\n",
       "</table>\n",
       "</div>"
      ],
      "text/plain": [
       "        Stranka  Razdalja\n",
       "9         Elite      4068\n",
       "3           K+P      6196\n",
       "14          SMC      6580\n",
       "10          SNS      6608\n",
       "2           GAS      7087\n",
       "7           Nsi      7799\n",
       "1         DESUS      7949\n",
       "5           LMŠ      8989\n",
       "6        Naprej     10445\n",
       "0        Zeleni     11748\n",
       "15          SSN     12307\n",
       "13          SAB     12577\n",
       "16      Zdravje     14002\n",
       "8        Pirati     14188\n",
       "12  Solidarnost     16952\n",
       "11           SD     17766\n",
       "17          ZLS     18089\n",
       "18           ZS     25107\n",
       "4        Levica     38420"
      ]
     },
     "execution_count": 16,
     "metadata": {},
     "output_type": "execute_result"
    }
   ],
   "source": [
    "razdalja_do_strank"
   ]
  },
  {
   "cell_type": "markdown",
   "metadata": {},
   "source": [
    "## Nearest Party - Try 2"
   ]
  },
  {
   "cell_type": "markdown",
   "metadata": {},
   "source": [
    "There is another way to see, which party is the most similar to the answers provided."
   ]
  },
  {
   "cell_type": "code",
   "execution_count": 17,
   "metadata": {},
   "outputs": [],
   "source": [
    "all_answers = political_opinion"
   ]
  },
  {
   "cell_type": "code",
   "execution_count": 18,
   "metadata": {},
   "outputs": [],
   "source": [
    "row_to_append = pandas.Series(list(my_answers), index=list(prepričanja))"
   ]
  },
  {
   "cell_type": "code",
   "execution_count": 19,
   "metadata": {},
   "outputs": [],
   "source": [
    "all_answers = all_answers.append(row_to_append, ignore_index=True)"
   ]
  },
  {
   "cell_type": "code",
   "execution_count": 20,
   "metadata": {},
   "outputs": [],
   "source": [
    "all_names = list(stranke)\n",
    "all_names.append(\"Me\")"
   ]
  },
  {
   "cell_type": "code",
   "execution_count": 21,
   "metadata": {},
   "outputs": [],
   "source": [
    "all_answers[\"Stranke\"] = all_names"
   ]
  },
  {
   "cell_type": "code",
   "execution_count": 22,
   "metadata": {},
   "outputs": [],
   "source": [
    "all_answers[\"Konstruktivizem\"] = 100 - all_answers[\"Konstruktivizem\"]\n",
    "all_answers[\"Konstruktivizem-Esencializem\"] = (all_answers[\"Konstruktivizem\"] + all_answers[\"Esencializem\"])/2\n",
    "all_answers.drop(\"Konstruktivizem\", axis=1, inplace=True)\n",
    "all_answers.drop(\"Esencializem\", axis=1, inplace=True)\n",
    "all_answers[\"Rehabilitacija\"] = 100 - all_answers[\"Rehabilitacija\"]\n",
    "all_answers[\"Rehabilitacija-Kaznovanje\"] = (all_answers[\"Rehabilitacija\"] + all_answers[\"Kaznovanje\"])/2\n",
    "all_answers.drop(\"Rehabilitacija\", axis=1, inplace=True)\n",
    "all_answers.drop(\"Kaznovanje\", axis=1, inplace=True)\n",
    "all_answers[\"Progresivnost\"] = 100 - all_answers[\"Progresivnost\"]\n",
    "all_answers[\"Progresivnost-Konzervativnost\"] = (all_answers[\"Progresivnost\"] + all_answers[\"Konzervativnost\"])/2\n",
    "all_answers.drop(\"Progresivnost\", axis=1, inplace=True)\n",
    "all_answers.drop(\"Konzervativnost\", axis=1, inplace=True)\n",
    "all_answers[\"Internacionalizem\"] = 100 - all_answers[\"Internacionalizem\"]\n",
    "all_answers[\"Internacionalizem-Nacionalizem\"] = (all_answers[\"Internacionalizem\"] + all_answers[\"Nacionalizem\"])/2\n",
    "all_answers.drop(\"Internacionalizem\", axis=1, inplace=True)\n",
    "all_answers.drop(\"Nacionalizem\", axis=1, inplace=True)\n",
    "all_answers[\"Kapitalizem\"] = 100 - all_answers[\"Kapitalizem\"]\n",
    "all_answers[\"Kapitalizem-Komunizem\"] = (all_answers[\"Kapitalizem\"] + all_answers[\"Komunizem\"])/2\n",
    "all_answers.drop(\"Kapitalizem\", axis=1, inplace=True)\n",
    "all_answers.drop(\"Komunizem\", axis=1, inplace=True)\n",
    "all_answers[\"Regulacija\"] = 100 - all_answers[\"Regulacija\"]\n",
    "all_answers[\"Regulacija-Laissez-faire\"] = (all_answers[\"Regulacija\"] + all_answers[\"Laissez-faire\"])/2\n",
    "all_answers.drop(\"Regulacija\", axis=1, inplace=True)\n",
    "all_answers.drop(\"Laissez-faire\", axis=1, inplace=True)\n",
    "all_answers[\"Ekologija\"] = 100 - all_answers[\"Ekologija\"]\n",
    "all_answers[\"Ekologija-Produktivnost\"] = (all_answers[\"Ekologija\"] + all_answers[\"Produktivnost\"])/2\n",
    "all_answers.drop(\"Ekologija\", axis=1, inplace=True)\n",
    "all_answers.drop(\"Produktivnost\", axis=1, inplace=True)\n",
    "\n",
    "all_answers[\"Revolucija\"] = 100 - all_answers[\"Revolucija\"]\n",
    "all_answers[\"Revolucija-Reformizem\"] = (all_answers[\"Revolucija\"] + all_answers[\"Reformizem\"])/2\n",
    "all_answers.drop(\"Revolucija\", axis=1, inplace=True)\n",
    "all_answers.drop(\"Reformizem\", axis=1, inplace=True)"
   ]
  },
  {
   "cell_type": "code",
   "execution_count": 23,
   "metadata": {},
   "outputs": [
    {
     "data": {
      "text/html": [
       "<div>\n",
       "<style scoped>\n",
       "    .dataframe tbody tr th:only-of-type {\n",
       "        vertical-align: middle;\n",
       "    }\n",
       "\n",
       "    .dataframe tbody tr th {\n",
       "        vertical-align: top;\n",
       "    }\n",
       "\n",
       "    .dataframe thead th {\n",
       "        text-align: right;\n",
       "    }\n",
       "</style>\n",
       "<table border=\"1\" class=\"dataframe\">\n",
       "  <thead>\n",
       "    <tr style=\"text-align: right;\">\n",
       "      <th></th>\n",
       "      <th>Stranke</th>\n",
       "      <th>Konstruktivizem-Esencializem</th>\n",
       "      <th>Rehabilitacija-Kaznovanje</th>\n",
       "      <th>Progresivnost-Konzervativnost</th>\n",
       "      <th>Internacionalizem-Nacionalizem</th>\n",
       "      <th>Kapitalizem-Komunizem</th>\n",
       "      <th>Regulacija-Laissez-faire</th>\n",
       "      <th>Ekologija-Produktivnost</th>\n",
       "      <th>Revolucija-Reformizem</th>\n",
       "    </tr>\n",
       "  </thead>\n",
       "  <tbody>\n",
       "    <tr>\n",
       "      <th>0</th>\n",
       "      <td>Zeleni</td>\n",
       "      <td>53.5</td>\n",
       "      <td>53.0</td>\n",
       "      <td>42.0</td>\n",
       "      <td>57.5</td>\n",
       "      <td>57.5</td>\n",
       "      <td>31.5</td>\n",
       "      <td>28.0</td>\n",
       "      <td>75.0</td>\n",
       "    </tr>\n",
       "    <tr>\n",
       "      <th>1</th>\n",
       "      <td>DESUS</td>\n",
       "      <td>56.0</td>\n",
       "      <td>59.5</td>\n",
       "      <td>34.5</td>\n",
       "      <td>46.5</td>\n",
       "      <td>46.5</td>\n",
       "      <td>35.5</td>\n",
       "      <td>48.5</td>\n",
       "      <td>77.5</td>\n",
       "    </tr>\n",
       "    <tr>\n",
       "      <th>2</th>\n",
       "      <td>GAS</td>\n",
       "      <td>56.0</td>\n",
       "      <td>48.0</td>\n",
       "      <td>45.0</td>\n",
       "      <td>40.5</td>\n",
       "      <td>25.0</td>\n",
       "      <td>52.5</td>\n",
       "      <td>44.0</td>\n",
       "      <td>97.5</td>\n",
       "    </tr>\n",
       "    <tr>\n",
       "      <th>3</th>\n",
       "      <td>K+P</td>\n",
       "      <td>57.0</td>\n",
       "      <td>51.5</td>\n",
       "      <td>47.5</td>\n",
       "      <td>44.0</td>\n",
       "      <td>51.5</td>\n",
       "      <td>53.5</td>\n",
       "      <td>49.0</td>\n",
       "      <td>68.0</td>\n",
       "    </tr>\n",
       "    <tr>\n",
       "      <th>4</th>\n",
       "      <td>Levica</td>\n",
       "      <td>8.5</td>\n",
       "      <td>24.0</td>\n",
       "      <td>15.5</td>\n",
       "      <td>8.5</td>\n",
       "      <td>88.0</td>\n",
       "      <td>1.0</td>\n",
       "      <td>37.0</td>\n",
       "      <td>16.5</td>\n",
       "    </tr>\n",
       "    <tr>\n",
       "      <th>5</th>\n",
       "      <td>LMŠ</td>\n",
       "      <td>58.5</td>\n",
       "      <td>60.5</td>\n",
       "      <td>49.0</td>\n",
       "      <td>44.0</td>\n",
       "      <td>43.0</td>\n",
       "      <td>32.0</td>\n",
       "      <td>34.5</td>\n",
       "      <td>75.0</td>\n",
       "    </tr>\n",
       "    <tr>\n",
       "      <th>6</th>\n",
       "      <td>Naprej</td>\n",
       "      <td>66.5</td>\n",
       "      <td>55.0</td>\n",
       "      <td>56.0</td>\n",
       "      <td>46.5</td>\n",
       "      <td>46.5</td>\n",
       "      <td>57.0</td>\n",
       "      <td>21.5</td>\n",
       "      <td>33.5</td>\n",
       "    </tr>\n",
       "    <tr>\n",
       "      <th>7</th>\n",
       "      <td>Nsi</td>\n",
       "      <td>76.0</td>\n",
       "      <td>59.5</td>\n",
       "      <td>61.0</td>\n",
       "      <td>53.5</td>\n",
       "      <td>38.0</td>\n",
       "      <td>50.0</td>\n",
       "      <td>44.0</td>\n",
       "      <td>85.5</td>\n",
       "    </tr>\n",
       "    <tr>\n",
       "      <th>8</th>\n",
       "      <td>Pirati</td>\n",
       "      <td>29.5</td>\n",
       "      <td>34.5</td>\n",
       "      <td>21.5</td>\n",
       "      <td>28.5</td>\n",
       "      <td>59.5</td>\n",
       "      <td>21.5</td>\n",
       "      <td>52.0</td>\n",
       "      <td>58.0</td>\n",
       "    </tr>\n",
       "    <tr>\n",
       "      <th>9</th>\n",
       "      <td>Elite</td>\n",
       "      <td>62.0</td>\n",
       "      <td>51.5</td>\n",
       "      <td>48.5</td>\n",
       "      <td>28.5</td>\n",
       "      <td>38.0</td>\n",
       "      <td>55.0</td>\n",
       "      <td>50.0</td>\n",
       "      <td>67.5</td>\n",
       "    </tr>\n",
       "    <tr>\n",
       "      <th>10</th>\n",
       "      <td>SNS</td>\n",
       "      <td>70.5</td>\n",
       "      <td>68.0</td>\n",
       "      <td>54.0</td>\n",
       "      <td>69.0</td>\n",
       "      <td>31.0</td>\n",
       "      <td>68.0</td>\n",
       "      <td>45.0</td>\n",
       "      <td>52.5</td>\n",
       "    </tr>\n",
       "    <tr>\n",
       "      <th>11</th>\n",
       "      <td>SD</td>\n",
       "      <td>18.0</td>\n",
       "      <td>35.5</td>\n",
       "      <td>17.5</td>\n",
       "      <td>27.5</td>\n",
       "      <td>69.0</td>\n",
       "      <td>29.5</td>\n",
       "      <td>39.5</td>\n",
       "      <td>71.5</td>\n",
       "    </tr>\n",
       "    <tr>\n",
       "      <th>12</th>\n",
       "      <td>Solidarnost</td>\n",
       "      <td>47.5</td>\n",
       "      <td>38.5</td>\n",
       "      <td>39.5</td>\n",
       "      <td>21.0</td>\n",
       "      <td>72.5</td>\n",
       "      <td>19.5</td>\n",
       "      <td>33.5</td>\n",
       "      <td>55.0</td>\n",
       "    </tr>\n",
       "    <tr>\n",
       "      <th>13</th>\n",
       "      <td>SAB</td>\n",
       "      <td>37.0</td>\n",
       "      <td>50.0</td>\n",
       "      <td>31.0</td>\n",
       "      <td>26.5</td>\n",
       "      <td>52.5</td>\n",
       "      <td>28.5</td>\n",
       "      <td>30.0</td>\n",
       "      <td>80.0</td>\n",
       "    </tr>\n",
       "    <tr>\n",
       "      <th>14</th>\n",
       "      <td>SMC</td>\n",
       "      <td>56.0</td>\n",
       "      <td>62.0</td>\n",
       "      <td>40.5</td>\n",
       "      <td>46.5</td>\n",
       "      <td>58.5</td>\n",
       "      <td>62.0</td>\n",
       "      <td>76.0</td>\n",
       "      <td>55.5</td>\n",
       "    </tr>\n",
       "    <tr>\n",
       "      <th>15</th>\n",
       "      <td>SSN</td>\n",
       "      <td>55.0</td>\n",
       "      <td>51.5</td>\n",
       "      <td>59.5</td>\n",
       "      <td>42.5</td>\n",
       "      <td>37.0</td>\n",
       "      <td>27.5</td>\n",
       "      <td>24.0</td>\n",
       "      <td>48.5</td>\n",
       "    </tr>\n",
       "    <tr>\n",
       "      <th>16</th>\n",
       "      <td>Zdravje</td>\n",
       "      <td>41.5</td>\n",
       "      <td>50.0</td>\n",
       "      <td>46.5</td>\n",
       "      <td>51.5</td>\n",
       "      <td>45.5</td>\n",
       "      <td>31.0</td>\n",
       "      <td>12.0</td>\n",
       "      <td>76.0</td>\n",
       "    </tr>\n",
       "    <tr>\n",
       "      <th>17</th>\n",
       "      <td>ZLS</td>\n",
       "      <td>24.0</td>\n",
       "      <td>33.0</td>\n",
       "      <td>19.0</td>\n",
       "      <td>13.0</td>\n",
       "      <td>55.0</td>\n",
       "      <td>18.0</td>\n",
       "      <td>30.0</td>\n",
       "      <td>52.5</td>\n",
       "    </tr>\n",
       "    <tr>\n",
       "      <th>18</th>\n",
       "      <td>ZS</td>\n",
       "      <td>70.5</td>\n",
       "      <td>51.5</td>\n",
       "      <td>69.0</td>\n",
       "      <td>78.5</td>\n",
       "      <td>76.0</td>\n",
       "      <td>21.5</td>\n",
       "      <td>22.5</td>\n",
       "      <td>23.0</td>\n",
       "    </tr>\n",
       "    <tr>\n",
       "      <th>19</th>\n",
       "      <td>Me</td>\n",
       "      <td>75.0</td>\n",
       "      <td>41.5</td>\n",
       "      <td>25.0</td>\n",
       "      <td>38.0</td>\n",
       "      <td>19.5</td>\n",
       "      <td>75.0</td>\n",
       "      <td>56.0</td>\n",
       "      <td>62.0</td>\n",
       "    </tr>\n",
       "  </tbody>\n",
       "</table>\n",
       "</div>"
      ],
      "text/plain": [
       "        Stranke  Konstruktivizem-Esencializem  Rehabilitacija-Kaznovanje  \\\n",
       "0        Zeleni                          53.5                       53.0   \n",
       "1         DESUS                          56.0                       59.5   \n",
       "2           GAS                          56.0                       48.0   \n",
       "3           K+P                          57.0                       51.5   \n",
       "4        Levica                           8.5                       24.0   \n",
       "5           LMŠ                          58.5                       60.5   \n",
       "6        Naprej                          66.5                       55.0   \n",
       "7           Nsi                          76.0                       59.5   \n",
       "8        Pirati                          29.5                       34.5   \n",
       "9         Elite                          62.0                       51.5   \n",
       "10          SNS                          70.5                       68.0   \n",
       "11           SD                          18.0                       35.5   \n",
       "12  Solidarnost                          47.5                       38.5   \n",
       "13          SAB                          37.0                       50.0   \n",
       "14          SMC                          56.0                       62.0   \n",
       "15          SSN                          55.0                       51.5   \n",
       "16      Zdravje                          41.5                       50.0   \n",
       "17          ZLS                          24.0                       33.0   \n",
       "18           ZS                          70.5                       51.5   \n",
       "19           Me                          75.0                       41.5   \n",
       "\n",
       "    Progresivnost-Konzervativnost  Internacionalizem-Nacionalizem  \\\n",
       "0                            42.0                            57.5   \n",
       "1                            34.5                            46.5   \n",
       "2                            45.0                            40.5   \n",
       "3                            47.5                            44.0   \n",
       "4                            15.5                             8.5   \n",
       "5                            49.0                            44.0   \n",
       "6                            56.0                            46.5   \n",
       "7                            61.0                            53.5   \n",
       "8                            21.5                            28.5   \n",
       "9                            48.5                            28.5   \n",
       "10                           54.0                            69.0   \n",
       "11                           17.5                            27.5   \n",
       "12                           39.5                            21.0   \n",
       "13                           31.0                            26.5   \n",
       "14                           40.5                            46.5   \n",
       "15                           59.5                            42.5   \n",
       "16                           46.5                            51.5   \n",
       "17                           19.0                            13.0   \n",
       "18                           69.0                            78.5   \n",
       "19                           25.0                            38.0   \n",
       "\n",
       "    Kapitalizem-Komunizem  Regulacija-Laissez-faire  Ekologija-Produktivnost  \\\n",
       "0                    57.5                      31.5                     28.0   \n",
       "1                    46.5                      35.5                     48.5   \n",
       "2                    25.0                      52.5                     44.0   \n",
       "3                    51.5                      53.5                     49.0   \n",
       "4                    88.0                       1.0                     37.0   \n",
       "5                    43.0                      32.0                     34.5   \n",
       "6                    46.5                      57.0                     21.5   \n",
       "7                    38.0                      50.0                     44.0   \n",
       "8                    59.5                      21.5                     52.0   \n",
       "9                    38.0                      55.0                     50.0   \n",
       "10                   31.0                      68.0                     45.0   \n",
       "11                   69.0                      29.5                     39.5   \n",
       "12                   72.5                      19.5                     33.5   \n",
       "13                   52.5                      28.5                     30.0   \n",
       "14                   58.5                      62.0                     76.0   \n",
       "15                   37.0                      27.5                     24.0   \n",
       "16                   45.5                      31.0                     12.0   \n",
       "17                   55.0                      18.0                     30.0   \n",
       "18                   76.0                      21.5                     22.5   \n",
       "19                   19.5                      75.0                     56.0   \n",
       "\n",
       "    Revolucija-Reformizem  \n",
       "0                    75.0  \n",
       "1                    77.5  \n",
       "2                    97.5  \n",
       "3                    68.0  \n",
       "4                    16.5  \n",
       "5                    75.0  \n",
       "6                    33.5  \n",
       "7                    85.5  \n",
       "8                    58.0  \n",
       "9                    67.5  \n",
       "10                   52.5  \n",
       "11                   71.5  \n",
       "12                   55.0  \n",
       "13                   80.0  \n",
       "14                   55.5  \n",
       "15                   48.5  \n",
       "16                   76.0  \n",
       "17                   52.5  \n",
       "18                   23.0  \n",
       "19                   62.0  "
      ]
     },
     "execution_count": 23,
     "metadata": {},
     "output_type": "execute_result"
    }
   ],
   "source": [
    "all_answers"
   ]
  },
  {
   "cell_type": "code",
   "execution_count": 24,
   "metadata": {},
   "outputs": [],
   "source": [
    "razdalja_do_strank_2 = []"
   ]
  },
  {
   "cell_type": "code",
   "execution_count": 25,
   "metadata": {},
   "outputs": [],
   "source": [
    "my_answers = all_answers.iloc[19]"
   ]
  },
  {
   "cell_type": "code",
   "execution_count": 26,
   "metadata": {},
   "outputs": [],
   "source": [
    "for i, stranka in enumerate(stranke):\n",
    "    stranka_answers = list(all_answers.iloc[i])\n",
    "    current = [stranka, sum([abs(s - m) for s, m in zip(stranka_answers[1:], my_answers[1:])])]\n",
    "    razdalja_do_strank_2.append(current)"
   ]
  },
  {
   "cell_type": "code",
   "execution_count": 27,
   "metadata": {},
   "outputs": [],
   "source": [
    "razdalja_do_strank_2 = pandas.DataFrame(razdalja_do_strank_2)\n",
    "razdalja_do_strank_2.columns = [\"Stranka\", \"Razdalja\"]\n",
    "razdalja_do_strank_2.sort_values(by=\"Razdalja\", ascending=True, inplace=True)"
   ]
  },
  {
   "cell_type": "code",
   "execution_count": 28,
   "metadata": {},
   "outputs": [
    {
     "data": {
      "text/html": [
       "<div>\n",
       "<style scoped>\n",
       "    .dataframe tbody tr th:only-of-type {\n",
       "        vertical-align: middle;\n",
       "    }\n",
       "\n",
       "    .dataframe tbody tr th {\n",
       "        vertical-align: top;\n",
       "    }\n",
       "\n",
       "    .dataframe thead th {\n",
       "        text-align: right;\n",
       "    }\n",
       "</style>\n",
       "<table border=\"1\" class=\"dataframe\">\n",
       "  <thead>\n",
       "    <tr style=\"text-align: right;\">\n",
       "      <th></th>\n",
       "      <th>Stranka</th>\n",
       "      <th>Razdalja</th>\n",
       "    </tr>\n",
       "  </thead>\n",
       "  <tbody>\n",
       "    <tr>\n",
       "      <th>9</th>\n",
       "      <td>Elite</td>\n",
       "      <td>106.0</td>\n",
       "    </tr>\n",
       "    <tr>\n",
       "      <th>3</th>\n",
       "      <td>K+P</td>\n",
       "      <td>123.0</td>\n",
       "    </tr>\n",
       "    <tr>\n",
       "      <th>2</th>\n",
       "      <td>GAS</td>\n",
       "      <td>123.5</td>\n",
       "    </tr>\n",
       "    <tr>\n",
       "      <th>10</th>\n",
       "      <td>SNS</td>\n",
       "      <td>130.0</td>\n",
       "    </tr>\n",
       "    <tr>\n",
       "      <th>14</th>\n",
       "      <td>SMC</td>\n",
       "      <td>142.0</td>\n",
       "    </tr>\n",
       "    <tr>\n",
       "      <th>1</th>\n",
       "      <td>DESUS</td>\n",
       "      <td>144.5</td>\n",
       "    </tr>\n",
       "    <tr>\n",
       "      <th>7</th>\n",
       "      <td>Nsi</td>\n",
       "      <td>149.5</td>\n",
       "    </tr>\n",
       "    <tr>\n",
       "      <th>5</th>\n",
       "      <td>LMŠ</td>\n",
       "      <td>166.5</td>\n",
       "    </tr>\n",
       "    <tr>\n",
       "      <th>8</th>\n",
       "      <td>Pirati</td>\n",
       "      <td>167.0</td>\n",
       "    </tr>\n",
       "    <tr>\n",
       "      <th>6</th>\n",
       "      <td>Naprej</td>\n",
       "      <td>169.5</td>\n",
       "    </tr>\n",
       "    <tr>\n",
       "      <th>15</th>\n",
       "      <td>SSN</td>\n",
       "      <td>179.5</td>\n",
       "    </tr>\n",
       "    <tr>\n",
       "      <th>13</th>\n",
       "      <td>SAB</td>\n",
       "      <td>187.5</td>\n",
       "    </tr>\n",
       "    <tr>\n",
       "      <th>0</th>\n",
       "      <td>Zeleni</td>\n",
       "      <td>192.0</td>\n",
       "    </tr>\n",
       "    <tr>\n",
       "      <th>12</th>\n",
       "      <td>Solidarnost</td>\n",
       "      <td>200.0</td>\n",
       "    </tr>\n",
       "    <tr>\n",
       "      <th>11</th>\n",
       "      <td>SD</td>\n",
       "      <td>202.0</td>\n",
       "    </tr>\n",
       "    <tr>\n",
       "      <th>16</th>\n",
       "      <td>Zdravje</td>\n",
       "      <td>205.0</td>\n",
       "    </tr>\n",
       "    <tr>\n",
       "      <th>17</th>\n",
       "      <td>ZLS</td>\n",
       "      <td>218.5</td>\n",
       "    </tr>\n",
       "    <tr>\n",
       "      <th>18</th>\n",
       "      <td>ZS</td>\n",
       "      <td>281.5</td>\n",
       "    </tr>\n",
       "    <tr>\n",
       "      <th>4</th>\n",
       "      <td>Levica</td>\n",
       "      <td>330.0</td>\n",
       "    </tr>\n",
       "  </tbody>\n",
       "</table>\n",
       "</div>"
      ],
      "text/plain": [
       "        Stranka  Razdalja\n",
       "9         Elite     106.0\n",
       "3           K+P     123.0\n",
       "2           GAS     123.5\n",
       "10          SNS     130.0\n",
       "14          SMC     142.0\n",
       "1         DESUS     144.5\n",
       "7           Nsi     149.5\n",
       "5           LMŠ     166.5\n",
       "8        Pirati     167.0\n",
       "6        Naprej     169.5\n",
       "15          SSN     179.5\n",
       "13          SAB     187.5\n",
       "0        Zeleni     192.0\n",
       "12  Solidarnost     200.0\n",
       "11           SD     202.0\n",
       "16      Zdravje     205.0\n",
       "17          ZLS     218.5\n",
       "18           ZS     281.5\n",
       "4        Levica     330.0"
      ]
     },
     "execution_count": 28,
     "metadata": {},
     "output_type": "execute_result"
    }
   ],
   "source": [
    "razdalja_do_strank_2"
   ]
  },
  {
   "cell_type": "markdown",
   "metadata": {},
   "source": [
    "## Difference in Party/Person"
   ]
  },
  {
   "cell_type": "markdown",
   "metadata": {},
   "source": [
    "Here a person could see where the differences are. Based on the number that is saved in the i, the party compared is chosen. The index next to the name on the list below is the number that needs to be used."
   ]
  },
  {
   "cell_type": "code",
   "execution_count": 29,
   "metadata": {},
   "outputs": [
    {
     "data": {
      "text/plain": [
       "0          Zeleni\n",
       "1           DESUS\n",
       "2             GAS\n",
       "3             K+P\n",
       "4          Levica\n",
       "5             LMŠ\n",
       "6          Naprej\n",
       "7             Nsi\n",
       "8          Pirati\n",
       "9           Elite\n",
       "10            SNS\n",
       "11             SD\n",
       "12    Solidarnost\n",
       "13            SAB\n",
       "14            SMC\n",
       "15            SSN\n",
       "16        Zdravje\n",
       "17            ZLS\n",
       "18             ZS\n",
       "Name: Stranka, dtype: object"
      ]
     },
     "execution_count": 29,
     "metadata": {},
     "output_type": "execute_result"
    }
   ],
   "source": [
    "stranke"
   ]
  },
  {
   "cell_type": "code",
   "execution_count": 30,
   "metadata": {},
   "outputs": [],
   "source": [
    "i = 8"
   ]
  },
  {
   "cell_type": "code",
   "execution_count": 31,
   "metadata": {},
   "outputs": [],
   "source": [
    "stranka_answers = list(all_answers.iloc[i])"
   ]
  },
  {
   "cell_type": "code",
   "execution_count": 32,
   "metadata": {},
   "outputs": [
    {
     "data": {
      "text/plain": [
       "['Pirati', 29.5, 34.5, 21.5, 28.5, 59.5, 21.5, 52.0, 58.0]"
      ]
     },
     "execution_count": 32,
     "metadata": {},
     "output_type": "execute_result"
    }
   ],
   "source": [
    "stranka_answers"
   ]
  },
  {
   "cell_type": "code",
   "execution_count": 33,
   "metadata": {},
   "outputs": [],
   "source": [
    "razlike = [abs(s - m) for s, m in zip(stranka_answers[1:], my_answers[1:])]"
   ]
  },
  {
   "cell_type": "code",
   "execution_count": 34,
   "metadata": {},
   "outputs": [],
   "source": [
    "imenovane_razlike = []"
   ]
  },
  {
   "cell_type": "code",
   "execution_count": 35,
   "metadata": {},
   "outputs": [],
   "source": [
    "for p, r in zip(all_answers.columns[1:], razlike):\n",
    "    razlika = [p, r]\n",
    "    imenovane_razlike.append(razlika)"
   ]
  },
  {
   "cell_type": "code",
   "execution_count": 36,
   "metadata": {},
   "outputs": [],
   "source": [
    "imenovane_razlike = pandas.DataFrame(imenovane_razlike)\n",
    "imenovane_razlike.columns = [\"Razlika\", \"Razdalja\"]\n",
    "imenovane_razlike.sort_values(by=\"Razdalja\", ascending=False, inplace=True)"
   ]
  },
  {
   "cell_type": "code",
   "execution_count": 37,
   "metadata": {},
   "outputs": [
    {
     "data": {
      "text/html": [
       "<div>\n",
       "<style scoped>\n",
       "    .dataframe tbody tr th:only-of-type {\n",
       "        vertical-align: middle;\n",
       "    }\n",
       "\n",
       "    .dataframe tbody tr th {\n",
       "        vertical-align: top;\n",
       "    }\n",
       "\n",
       "    .dataframe thead th {\n",
       "        text-align: right;\n",
       "    }\n",
       "</style>\n",
       "<table border=\"1\" class=\"dataframe\">\n",
       "  <thead>\n",
       "    <tr style=\"text-align: right;\">\n",
       "      <th></th>\n",
       "      <th>Razlika</th>\n",
       "      <th>Razdalja</th>\n",
       "    </tr>\n",
       "  </thead>\n",
       "  <tbody>\n",
       "    <tr>\n",
       "      <th>5</th>\n",
       "      <td>Regulacija-Laissez-faire</td>\n",
       "      <td>53.5</td>\n",
       "    </tr>\n",
       "    <tr>\n",
       "      <th>0</th>\n",
       "      <td>Konstruktivizem-Esencializem</td>\n",
       "      <td>45.5</td>\n",
       "    </tr>\n",
       "    <tr>\n",
       "      <th>4</th>\n",
       "      <td>Kapitalizem-Komunizem</td>\n",
       "      <td>40.0</td>\n",
       "    </tr>\n",
       "    <tr>\n",
       "      <th>3</th>\n",
       "      <td>Internacionalizem-Nacionalizem</td>\n",
       "      <td>9.5</td>\n",
       "    </tr>\n",
       "    <tr>\n",
       "      <th>1</th>\n",
       "      <td>Rehabilitacija-Kaznovanje</td>\n",
       "      <td>7.0</td>\n",
       "    </tr>\n",
       "    <tr>\n",
       "      <th>6</th>\n",
       "      <td>Ekologija-Produktivnost</td>\n",
       "      <td>4.0</td>\n",
       "    </tr>\n",
       "    <tr>\n",
       "      <th>7</th>\n",
       "      <td>Revolucija-Reformizem</td>\n",
       "      <td>4.0</td>\n",
       "    </tr>\n",
       "    <tr>\n",
       "      <th>2</th>\n",
       "      <td>Progresivnost-Konzervativnost</td>\n",
       "      <td>3.5</td>\n",
       "    </tr>\n",
       "  </tbody>\n",
       "</table>\n",
       "</div>"
      ],
      "text/plain": [
       "                          Razlika  Razdalja\n",
       "5        Regulacija-Laissez-faire      53.5\n",
       "0    Konstruktivizem-Esencializem      45.5\n",
       "4           Kapitalizem-Komunizem      40.0\n",
       "3  Internacionalizem-Nacionalizem       9.5\n",
       "1       Rehabilitacija-Kaznovanje       7.0\n",
       "6         Ekologija-Produktivnost       4.0\n",
       "7           Revolucija-Reformizem       4.0\n",
       "2   Progresivnost-Konzervativnost       3.5"
      ]
     },
     "execution_count": 37,
     "metadata": {},
     "output_type": "execute_result"
    }
   ],
   "source": [
    "imenovane_razlike"
   ]
  },
  {
   "cell_type": "markdown",
   "metadata": {},
   "source": [
    "## Hirarhical clustering"
   ]
  },
  {
   "cell_type": "markdown",
   "metadata": {},
   "source": [
    "The next analysis shows, how the different political parties are diferentiated. "
   ]
  },
  {
   "cell_type": "code",
   "execution_count": 38,
   "metadata": {},
   "outputs": [
    {
     "data": {
      "image/png": "[encoded data removed]",
      "text/plain": [
       "<Figure size 1440x360 with 1 Axes>"
      ]
     },
     "metadata": {},
     "output_type": "display_data"
    }
   ],
   "source": [
    "connections = linkage(political_opinion, \"ward\")\n",
    "pyplot.figure(figsize=(20,5))\n",
    "dendrogram(connections, labels=list(stranke))\n",
    "pyplot.show()"
   ]
  },
  {
   "cell_type": "code",
   "execution_count": 39,
   "metadata": {},
   "outputs": [
    {
     "data": {
      "image/png": "[encoded data removed]",
      "text/plain": [
       "<Figure size 1440x360 with 1 Axes>"
      ]
     },
     "metadata": {},
     "output_type": "display_data"
    }
   ],
   "source": [
    "connections = linkage(political_opinion, \"complete\")\n",
    "pyplot.figure(figsize=(20,5))\n",
    "dendrogram(connections, labels=list(stranke))\n",
    "pyplot.show()"
   ]
  },
  {
   "cell_type": "markdown",
   "metadata": {},
   "source": [
    "# K-mean clustering"
   ]
  },
  {
   "cell_type": "markdown",
   "metadata": {},
   "source": [
    "In order to see, if the clusters found in the upper analysis are stable, I also tested this with k-mean clustering. "
   ]
  },
  {
   "cell_type": "code",
   "execution_count": 40,
   "metadata": {},
   "outputs": [
    {
     "name": "stdout",
     "output_type": "stream",
     "text": [
      "['Levica', 'Pirati', 'SD', 'Solidarnost', 'SAB', 'ZLS']\n",
      "['Zeleni', 'DESUS', 'GAS', 'K+P', 'LMŠ', 'Nsi', 'Elite', 'SMC', 'Zdravje']\n",
      "['Naprej', 'SNS', 'SSN', 'ZS']\n"
     ]
    }
   ],
   "source": [
    "number_of_groups = 3\n",
    "political_orientation = KMeans(n_clusters=number_of_groups)\n",
    "political_orientation.fit(political_opinion)\n",
    "for i in range(0, number_of_groups):\n",
    "    print([stranka for cluster, stranka in zip(political_orientation.labels_, stranke) if cluster == i])"
   ]
  }
 ],
 "metadata": {
  "kernelspec": {
   "display_name": "Python 3",
   "language": "python",
   "name": "python3"
  },
  "language_info": {
   "codemirror_mode": {
    "name": "ipython",
    "version": 3
   },
   "file_extension": ".py",
   "mimetype": "text/x-python",
   "name": "python",
   "nbconvert_exporter": "python",
   "pygments_lexer": "ipython3",
   "version": "3.6.5"
  }
 },
 "nbformat": 4,
 "nbformat_minor": 2
}
