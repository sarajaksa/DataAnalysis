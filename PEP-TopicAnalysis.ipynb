{
 "cells": [
  {
   "cell_type": "markdown",
   "metadata": {},
   "source": [
    "# Topic Analysis of Python's PEPs"
   ]
  },
  {
   "cell_type": "markdown",
   "metadata": {},
   "source": [
    "You can get the data on [https://github.com/python/peps](https://github.com/python/peps)"
   ]
  },
  {
   "cell_type": "code",
   "execution_count": 1,
   "metadata": {},
   "outputs": [],
   "source": [
    "import os\n",
    "import string\n",
    "import gensim\n",
    "import nltk"
   ]
  },
  {
   "cell_type": "code",
   "execution_count": 2,
   "metadata": {},
   "outputs": [],
   "source": [
    "folder = \"peps\"\n",
    "all_files = os.listdir(folder)"
   ]
  },
  {
   "cell_type": "code",
   "execution_count": 3,
   "metadata": {},
   "outputs": [],
   "source": [
    "all_files = [f for f in all_files if \".txt\" in f or \".rst\" in f]"
   ]
  },
  {
   "cell_type": "code",
   "execution_count": 4,
   "metadata": {},
   "outputs": [],
   "source": [
    "all_texts = []\n",
    "for filename in all_files:\n",
    "    with open(os.path.join(folder, filename)) as f:\n",
    "        data = f.readlines()\n",
    "        data = \" \".join(data)\n",
    "        data = data.replace(\"\\n\", \" \")\n",
    "        data = data.translate(str.maketrans('', '', string.punctuation))\n",
    "        data = data.lower()\n",
    "    all_texts.append(data.split(\" \"))"
   ]
  },
  {
   "cell_type": "code",
   "execution_count": 5,
   "metadata": {},
   "outputs": [
    {
     "data": {
      "text/plain": [
       "499"
      ]
     },
     "execution_count": 5,
     "metadata": {},
     "output_type": "execute_result"
    }
   ],
   "source": [
    "len(all_texts)"
   ]
  },
  {
   "cell_type": "code",
   "execution_count": 6,
   "metadata": {},
   "outputs": [],
   "source": [
    "dic = gensim.corpora.Dictionary(all_texts)\n",
    "doc_term = [dic.doc2bow(text) for text in all_texts]"
   ]
  },
  {
   "cell_type": "code",
   "execution_count": 7,
   "metadata": {},
   "outputs": [],
   "source": [
    "model_vw = gensim.models.wrappers.ldavowpalwabbit.LdaVowpalWabbit('/usr/bin/vw', doc_term, num_topics=3, id2word=dic, passes=50)"
   ]
  },
  {
   "cell_type": "code",
   "execution_count": 8,
   "metadata": {},
   "outputs": [
    {
     "data": {
      "text/plain": [
       "[[(0.3775682, ''),\n",
       "  (0.035730477, 'the'),\n",
       "  (0.017290713, 'to'),\n",
       "  (0.01528061, 'a'),\n",
       "  (0.012601474, 'of'),\n",
       "  (0.011599175, 'is'),\n",
       "  (0.010923134, 'and'),\n",
       "  (0.009913662, 'in'),\n",
       "  (0.008121213, 'for'),\n",
       "  (0.0073990175, 'be')],\n",
       " [(0.063974544, 'git'),\n",
       "  (0.03795259, 'branch'),\n",
       "  (0.022772124, 'commit'),\n",
       "  (0.019131832, 'branches'),\n",
       "  (0.018818825, 'repository'),\n",
       "  (0.017196584, 'merge'),\n",
       "  (0.015387925, 'pull'),\n",
       "  (0.014990298, 'mercurial'),\n",
       "  (0.012090781, 'repositories'),\n",
       "  (0.011485127, 'commits')],\n",
       " [(0.0063857413, 'translations'),\n",
       "  (0.0034663824, 'switcher'),\n",
       "  (0.0025820502, 'peaches'),\n",
       "  (0.0023689077, 'pears'),\n",
       "  (0.0021920898, 'pi'),\n",
       "  (0.0017569656, 'docsbuildscripts'),\n",
       "  (0.0017283072, 'tau'),\n",
       "  (0.0017215981, 'coordinator'),\n",
       "  (0.0015099157, 'japanese'),\n",
       "  (0.0015050643, 'translators')]]"
      ]
     },
     "execution_count": 8,
     "metadata": {},
     "output_type": "execute_result"
    }
   ],
   "source": [
    "model_vw.show_topics(formatted=False)"
   ]
  },
  {
   "cell_type": "code",
   "execution_count": 9,
   "metadata": {},
   "outputs": [],
   "source": [
    "all_texts = []\n",
    "for filename in all_files:\n",
    "    with open(os.path.join(folder, filename)) as f:\n",
    "        data = f.readlines()\n",
    "        data = \" \".join(data)\n",
    "        data = data.replace(\"\\n\", \" \")\n",
    "        data = data.translate(str.maketrans('', '', string.punctuation))\n",
    "        data = data.lower()\n",
    "        data = [word for word, tag in nltk.pos_tag(nltk.tokenize.word_tokenize(data)) if tag[:2] in {\"JJ\", \"VB\", \"NN\"} and len(word) > 2]\n",
    "    all_texts.append(data)"
   ]
  },
  {
   "cell_type": "code",
   "execution_count": 10,
   "metadata": {},
   "outputs": [],
   "source": [
    "all_words = []\n",
    "for text in all_texts:\n",
    "    all_words += text"
   ]
  },
  {
   "cell_type": "code",
   "execution_count": 11,
   "metadata": {},
   "outputs": [],
   "source": [
    "import collections"
   ]
  },
  {
   "cell_type": "code",
   "execution_count": 12,
   "metadata": {},
   "outputs": [
    {
     "data": {
      "text/plain": [
       "499"
      ]
     },
     "execution_count": 12,
     "metadata": {},
     "output_type": "execute_result"
    }
   ],
   "source": [
    "len(all_texts)"
   ]
  },
  {
   "cell_type": "code",
   "execution_count": 13,
   "metadata": {},
   "outputs": [],
   "source": [
    "word_count = collections.Counter(all_words)"
   ]
  },
  {
   "cell_type": "code",
   "execution_count": 14,
   "metadata": {},
   "outputs": [],
   "source": [
    "words_to_keep = set([word for word, count in word_count.items() if count > 10 and count < len(all_texts)/2])"
   ]
  },
  {
   "cell_type": "code",
   "execution_count": 15,
   "metadata": {},
   "outputs": [],
   "source": [
    "all_texts_filtered = [[word for word in text if word in words_to_keep] for text in all_texts]"
   ]
  },
  {
   "cell_type": "code",
   "execution_count": 16,
   "metadata": {},
   "outputs": [],
   "source": [
    "dic_filtered = gensim.corpora.Dictionary(all_texts_filtered)\n",
    "doc_term_filtered = [dic_filtered.doc2bow(text) for text in all_texts_filtered]"
   ]
  },
  {
   "cell_type": "code",
   "execution_count": 17,
   "metadata": {},
   "outputs": [],
   "source": [
    "model_vw_2 = gensim.models.wrappers.ldavowpalwabbit.LdaVowpalWabbit('/usr/bin/vw', doc_term_filtered, num_topics=3, id2word=dic_filtered, passes=50)"
   ]
  },
  {
   "cell_type": "code",
   "execution_count": 18,
   "metadata": {},
   "outputs": [
    {
     "data": {
      "text/plain": [
       "[[(0.0021211521, 'council'),\n",
       "  (0.0020209826, 'typing'),\n",
       "  (0.001967179, 'vote'),\n",
       "  (0.0019637041, 'email'),\n",
       "  (0.0017696245, 'imports'),\n",
       "  (0.0017605977, 'docstring'),\n",
       "  (0.0017311072, 'metaclass'),\n",
       "  (0.0017160302, 'dependencies'),\n",
       "  (0.0017121191, 'tool'),\n",
       "  (0.0016449234, 'branches')],\n",
       " [(0.0042784135, 'http'),\n",
       "  (0.00423048, 'asynchronous'),\n",
       "  (0.0041640424, 'coroutine'),\n",
       "  (0.003738793, 'servers'),\n",
       "  (0.0036994428, 'snapshot'),\n",
       "  (0.0036574178, 'stream'),\n",
       "  (0.003479043, 'await'),\n",
       "  (0.003413014, 'role'),\n",
       "  (0.0034056753, 'tls'),\n",
       "  (0.003208759, 'middleware')],\n",
       " [(0.003375465, 'float'),\n",
       "  (0.0033292538, 'expr'),\n",
       "  (0.0030802137, 'decimal'),\n",
       "  (0.0029939243, 'numeric'),\n",
       "  (0.0028386556, 'pointer'),\n",
       "  (0.0027712095, 'comparison'),\n",
       "  (0.0025899224, 'range'),\n",
       "  (0.0024018735, 'iteration'),\n",
       "  (0.0023699212, 'lambda'),\n",
       "  (0.0023177918, 'integers')]]"
      ]
     },
     "execution_count": 18,
     "metadata": {},
     "output_type": "execute_result"
    }
   ],
   "source": [
    "model_vw_2.show_topics(formatted=False)"
   ]
  }
 ],
 "metadata": {
  "kernelspec": {
   "display_name": "Python 3",
   "language": "python",
   "name": "python3"
  },
  "language_info": {
   "codemirror_mode": {
    "name": "ipython",
    "version": 3
   },
   "file_extension": ".py",
   "mimetype": "text/x-python",
   "name": "python",
   "nbconvert_exporter": "python",
   "pygments_lexer": "ipython3",
   "version": "3.7.4"
  }
 },
 "nbformat": 4,
 "nbformat_minor": 2
}
