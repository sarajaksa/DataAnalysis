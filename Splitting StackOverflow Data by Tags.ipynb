{
 "cells": [
  {
   "cell_type": "markdown",
   "metadata": {},
   "source": [
    "# Spliting the StackOverflow file"
   ]
  },
  {
   "cell_type": "markdown",
   "metadata": {},
   "source": [
    "By: Sara Jakša"
   ]
  },
  {
   "cell_type": "markdown",
   "metadata": {},
   "source": [
    "When working on the project for my data mining class, one of the problems my classmate had is, that she was not able to use the GB big files in her project (because she was unwilling to install the local jupyter notebook). What this does is that it seperates the questions into seperate files, based on the tags of interest."
   ]
  },
  {
   "cell_type": "code",
   "execution_count": 1,
   "metadata": {
    "collapsed": true
   },
   "outputs": [],
   "source": [
    "import csv\n",
    "from collections import defaultdict"
   ]
  },
  {
   "cell_type": "markdown",
   "metadata": {},
   "source": [
    "Here you can put which tags are you interested in."
   ]
  },
  {
   "cell_type": "code",
   "execution_count": 2,
   "metadata": {
    "collapsed": true
   },
   "outputs": [],
   "source": [
    "languages = set([\"java\", \"c\", \"c++\", \"c#\", \"lisp\", \"python\", \"r\"])"
   ]
  },
  {
   "cell_type": "markdown",
   "metadata": {},
   "source": [
    "First we are opening the file with the tags to figure out which questions are we even interested in."
   ]
  },
  {
   "cell_type": "code",
   "execution_count": 3,
   "metadata": {
    "collapsed": true
   },
   "outputs": [],
   "source": [
    "with open(\"StackOverflow/Tags.csv\") as read:\n",
    "    lines = read.readlines()"
   ]
  },
  {
   "cell_type": "markdown",
   "metadata": {},
   "source": [
    "Next we set up a dictionary that will keep track of these question ids."
   ]
  },
  {
   "cell_type": "code",
   "execution_count": 4,
   "metadata": {
    "collapsed": true
   },
   "outputs": [],
   "source": [
    "questions_of_interest = defaultdict(str)"
   ]
  },
  {
   "cell_type": "code",
   "execution_count": 5,
   "metadata": {
    "collapsed": true
   },
   "outputs": [],
   "source": [
    "for line in lines:\n",
    "    line = line.strip().split(\",\")\n",
    "    if line[1] in languages:\n",
    "        questions_of_interest[line[0]] = line[1]"
   ]
  },
  {
   "cell_type": "code",
   "execution_count": 6,
   "metadata": {},
   "outputs": [],
   "source": [
    "with open(\"StackOverflow/Questions.csv\", \"r\", -1, \"latin-1\") as read:\n",
    "    reader = csv.reader(read, delimiter=',', quotechar='\"')\n",
    "    for line in reader:\n",
    "        if line[0] in questions_of_interest:\n",
    "            with open(questions_of_interest[line[0]].title() + \"-Questions.csv\", \"a\") as write:\n",
    "                writer = csv.writer(write, delimiter=',',quotechar='\"', quoting=csv.QUOTE_MINIMAL)\n",
    "                writer.writerow(line)"
   ]
  },
  {
   "cell_type": "code",
   "execution_count": 7,
   "metadata": {},
   "outputs": [],
   "source": [
    "with open(\"StackOverflow/Answers.csv\", \"r\", -1, \"latin-1\") as read:\n",
    "    reader = csv.reader(read, delimiter=',', quotechar='\"')\n",
    "    for line in reader:\n",
    "        if line[3] in questions_of_interest:\n",
    "            with open(questions_of_interest[line[3]].title() + \"-Answers.csv\", \"a\") as write:\n",
    "                writer = csv.writer(write, delimiter=',',quotechar='\"', quoting=csv.QUOTE_MINIMAL)\n",
    "                writer.writerow(line)"
   ]
  },
  {
   "cell_type": "code",
   "execution_count": null,
   "metadata": {
    "collapsed": true
   },
   "outputs": [],
   "source": []
  }
 ],
 "metadata": {
  "kernelspec": {
   "display_name": "Python 3",
   "language": "python",
   "name": "python3"
  },
  "language_info": {
   "codemirror_mode": {
    "name": "ipython",
    "version": 3
   },
   "file_extension": ".py",
   "mimetype": "text/x-python",
   "name": "python",
   "nbconvert_exporter": "python",
   "pygments_lexer": "ipython3",
   "version": "3.6.1"
  }
 },
 "nbformat": 4,
 "nbformat_minor": 2
}
