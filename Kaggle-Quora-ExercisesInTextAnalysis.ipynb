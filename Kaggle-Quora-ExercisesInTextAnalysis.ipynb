{
 "cells": [
  {
   "cell_type": "markdown",
   "metadata": {},
   "source": [
    "# Kaggle Competition"
   ]
  },
  {
   "cell_type": "markdown",
   "metadata": {},
   "source": [
    "In the Kaggle competition, the goal is to find out if the Quora questions are actually seeking answers, or they are simply retorical questions and searching for flame wars. "
   ]
  },
  {
   "cell_type": "markdown",
   "metadata": {},
   "source": [
    "This is the competition is question: https://www.kaggle.com/c/quora-insincere-questions-classification"
   ]
  },
  {
   "cell_type": "markdown",
   "metadata": {},
   "source": [
    "## Table of Content"
   ]
  },
  {
   "cell_type": "markdown",
   "metadata": {},
   "source": [
    "* <a href=\"#imports\">Imports</a>\n",
    "* <a href=\"#subset\">Creating Smaller Subsets for Analysis</a>\n",
    "* <a href=\"#load\">Loading Files</a>\n",
    "* <a href=\"#length\">Analysis based on Length</a>\n",
    "    * <a href=\"#letterlength\">Length based on Letter-Count</a>\n",
    "    * <a href=\"#wordnum\">Analysis based on Word-Count</a>\n",
    "    * <a href=\"#wordlength\">Analysis based on avreage length of the word</a>\n",
    "* <a href=\"#letter\">Analysis Based on Letters</a>\n",
    "    * <a href=\"#letter1\">Letters used</a>\n",
    "    * <a href=\"#lettergroups\">Groups of characters (letters - upper and lower, numbers, punctuation)</a>\n",
    "    * <a href=\"#letter2\">Letters used (group of 2)</a>\n",
    "* <a href=\"#words\">Analysis based on Words</a>\n",
    "    * <a href=\"#stopwords\">Number of stop words in a sentence</a>\n",
    "* <a href=\"#phonetics\">Phonetics</a>\n",
    "    * <a href=\"#typeofsounds\">Type of sounds</a>\n",
    "* <a href=\"#morphology\">Morphology</a>\n",
    "    * <a href=\"#morphologypinker\">Morphology - Pinker Example</a>\n",
    "* <a href=\"#pos\">Parts of Speech</a>\n",
    "* <a href=\"#diversity\">Lexical Diversity</a>\n",
    "* <a href=\"#bayes\">Bayes Analysis of all Features</a>\n",
    "* <a href=\"#logistic\">Logistic Regression of all Features</a>"
   ]
  },
  {
   "cell_type": "markdown",
   "metadata": {},
   "source": [
    "## <a name=\"imports\">Imports</a>"
   ]
  },
  {
   "cell_type": "markdown",
   "metadata": {},
   "source": [
    "Phonetics chapter assumes that the espeak is also downloaded on the computer. It is only relevant for that part of the notebook. "
   ]
  },
  {
   "cell_type": "code",
   "execution_count": 102,
   "metadata": {},
   "outputs": [],
   "source": [
    "import pandas\n",
    "import numpy\n",
    "import re\n",
    "import matplotlib.pyplot as plt\n",
    "%matplotlib inline\n",
    "from sklearn.linear_model import LogisticRegression\n",
    "from sklearn.naive_bayes import MultinomialNB\n",
    "from sklearn.metrics import confusion_matrix\n",
    "from nltk.tokenize import sent_tokenize, word_tokenize\n",
    "from nltk.corpus import stopwords\n",
    "from nltk import pos_tag\n",
    "import lexical_diversity"
   ]
  },
  {
   "cell_type": "markdown",
   "metadata": {},
   "source": [
    "And also the command to download the nltk databases. I used punkt, stopwords, averaged_perceptron_tagger, universal_tagset."
   ]
  },
  {
   "cell_type": "code",
   "execution_count": 2,
   "metadata": {},
   "outputs": [],
   "source": [
    "import nltk"
   ]
  },
  {
   "cell_type": "code",
   "execution_count": 3,
   "metadata": {},
   "outputs": [],
   "source": [
    "nltk.data.path.append(\"data\")"
   ]
  },
  {
   "cell_type": "code",
   "execution_count": 4,
   "metadata": {},
   "outputs": [
    {
     "name": "stdout",
     "output_type": "stream",
     "text": [
      "showing info https://raw.githubusercontent.com/nltk/nltk_data/gh-pages/index.xml\n"
     ]
    },
    {
     "data": {
      "text/plain": [
       "True"
      ]
     },
     "execution_count": 4,
     "metadata": {},
     "output_type": "execute_result"
    }
   ],
   "source": [
    "nltk.download(download_dir=\"data\")"
   ]
  },
  {
   "cell_type": "markdown",
   "metadata": {},
   "source": [
    "## <a name=\"subset\">Creating Smaller Subset for Analysis</a>"
   ]
  },
  {
   "cell_type": "markdown",
   "metadata": {},
   "source": [
    "Because I have a four year old computer with a a smaller amount of RAM, I have decided to make all my analysis with the 2000 elements, with 1000 elements from each class. In order to make this file, I have created it with the prodecure described below. "
   ]
  },
  {
   "cell_type": "markdown",
   "metadata": {},
   "source": [
    "First I opened the file with the original data. "
   ]
  },
  {
   "cell_type": "code",
   "execution_count": 5,
   "metadata": {},
   "outputs": [],
   "source": [
    "with open(\"data/train.csv\", \"r\") as read:\n",
    "    questions_data = pandas.read_csv(read, sep=\",\", header=0)"
   ]
  },
  {
   "cell_type": "markdown",
   "metadata": {},
   "source": [
    "Then I created the new pandas dataframe. I added 1000 elements for each class (900 for training and 100 for testing). I had added the random state, becase this acts like the seed and allows for the replication. "
   ]
  },
  {
   "cell_type": "code",
   "execution_count": 6,
   "metadata": {},
   "outputs": [],
   "source": [
    "DataFrame0 = questions_data.query('target == 0').sample(n=1000, random_state=2000)\n",
    "DataFrame1 = questions_data.query('target == 1').sample(n=1000, random_state=2000)"
   ]
  },
  {
   "cell_type": "code",
   "execution_count": 7,
   "metadata": {},
   "outputs": [],
   "source": [
    "newDataFrameTrain = pandas.DataFrame()\n",
    "newDataFrameTrain = newDataFrameTrain.append(DataFrame0[100:])\n",
    "newDataFrameTrain = newDataFrameTrain.append(DataFrame1[100:])"
   ]
  },
  {
   "cell_type": "code",
   "execution_count": 8,
   "metadata": {},
   "outputs": [],
   "source": [
    "newDataFrameTest = pandas.DataFrame()\n",
    "newDataFrameTest = newDataFrameTest.append(DataFrame0[:100])\n",
    "newDataFrameTest = newDataFrameTest.append(DataFrame1[:100])"
   ]
  },
  {
   "cell_type": "markdown",
   "metadata": {},
   "source": [
    "Then I sorted the new dataframe based on index."
   ]
  },
  {
   "cell_type": "code",
   "execution_count": 9,
   "metadata": {},
   "outputs": [],
   "source": [
    "newDataFrameTrain.sort_index(inplace=True)\n",
    "newDataFrameTest.sort_index(inplace=True)"
   ]
  },
  {
   "cell_type": "markdown",
   "metadata": {},
   "source": [
    "And saved the whole thing in a file, so I don't need to repeat this every single time. "
   ]
  },
  {
   "cell_type": "code",
   "execution_count": 10,
   "metadata": {},
   "outputs": [],
   "source": [
    "newDataFrameTrain.to_csv(\"data/sara_train.csv\", index=False)\n",
    "newDataFrameTest.to_csv(\"data/sara_test.csv\", index=False)"
   ]
  },
  {
   "cell_type": "markdown",
   "metadata": {},
   "source": [
    "## <a name=\"load\">Loading Files</a>"
   ]
  },
  {
   "cell_type": "markdown",
   "metadata": {},
   "source": [
    "Here I am now loading up the subset of all the elements, that I am going to use in the analysis."
   ]
  },
  {
   "cell_type": "code",
   "execution_count": 11,
   "metadata": {},
   "outputs": [],
   "source": [
    "with open(\"data/sara_train.csv\", \"r\") as read:\n",
    "    train = pandas.read_csv(read, sep=\",\", header=0)"
   ]
  },
  {
   "cell_type": "code",
   "execution_count": 12,
   "metadata": {},
   "outputs": [],
   "source": [
    "with open(\"data/sara_test.csv\", \"r\") as read:\n",
    "    test = pandas.read_csv(read, sep=\",\", header=0)"
   ]
  },
  {
   "cell_type": "markdown",
   "metadata": {},
   "source": [
    "## <a name=\"length\">Analysis based on Length</a>"
   ]
  },
  {
   "cell_type": "markdown",
   "metadata": {},
   "source": [
    "Here, I am going to calculate different statistics based on length of the text. "
   ]
  },
  {
   "cell_type": "markdown",
   "metadata": {},
   "source": [
    "### <a name=\"letterlength\">Length based on Letter-Count</a>"
   ]
  },
  {
   "cell_type": "markdown",
   "metadata": {},
   "source": [
    "Let us first calculate the length of the question. And then let us check if there is any diffeence in the length of the text, based on the class. "
   ]
  },
  {
   "cell_type": "code",
   "execution_count": 13,
   "metadata": {},
   "outputs": [],
   "source": [
    "train[\"length\"] = [len(question) for question in train[\"question_text\"]]\n",
    "test[\"length\"] = [len(question) for question in test[\"question_text\"]]"
   ]
  },
  {
   "cell_type": "markdown",
   "metadata": {},
   "source": [
    "Is there any difference in the mean of the question length? It seems so. "
   ]
  },
  {
   "cell_type": "code",
   "execution_count": 14,
   "metadata": {},
   "outputs": [
    {
     "data": {
      "text/plain": [
       "(66.91222222222223, 97.62333333333333)"
      ]
     },
     "execution_count": 14,
     "metadata": {},
     "output_type": "execute_result"
    }
   ],
   "source": [
    "numpy.mean(train.query('target == 0')[\"length\"]), numpy.mean(train.query('target == 1')[\"length\"])"
   ]
  },
  {
   "cell_type": "markdown",
   "metadata": {},
   "source": [
    "Since there are differences in the mean of the length of the question, let us check their distribution and how much is it overlapping. "
   ]
  },
  {
   "cell_type": "code",
   "execution_count": 15,
   "metadata": {},
   "outputs": [
    {
     "data": {
      "text/plain": [
       "Text(0.5, 1.0, 'Differences in length')"
      ]
     },
     "execution_count": 15,
     "metadata": {},
     "output_type": "execute_result"
    },
    {
     "data": {
      "image/png": "[encoded data removed]",
      "text/plain": [
       "<Figure size 1440x576 with 1 Axes>"
      ]
     },
     "metadata": {
      "needs_background": "light"
     },
     "output_type": "display_data"
    }
   ],
   "source": [
    "f = plt.figure(figsize=(20,8))\n",
    "plot1 = f.add_subplot(1, 1, 1)\n",
    "plot1.hist(train.query('target == 0')[\"length\"], alpha=.4)\n",
    "plot1.hist(train.query('target == 1')[\"length\"], alpha=.4)\n",
    "plot1.set_title(\"Differences in length\")"
   ]
  },
  {
   "cell_type": "markdown",
   "metadata": {},
   "source": [
    "So let us check some of the other values for this two distributions. First the median."
   ]
  },
  {
   "cell_type": "code",
   "execution_count": 16,
   "metadata": {},
   "outputs": [
    {
     "data": {
      "text/plain": [
       "(57.0, 88.5)"
      ]
     },
     "execution_count": 16,
     "metadata": {},
     "output_type": "execute_result"
    }
   ],
   "source": [
    "numpy.median(train.query('target == 0')[\"length\"]), numpy.median(train.query('target == 1')[\"length\"])"
   ]
  },
  {
   "cell_type": "markdown",
   "metadata": {},
   "source": [
    "Now the maxsimum length."
   ]
  },
  {
   "cell_type": "code",
   "execution_count": 17,
   "metadata": {},
   "outputs": [
    {
     "data": {
      "text/plain": [
       "(242, 250)"
      ]
     },
     "execution_count": 17,
     "metadata": {},
     "output_type": "execute_result"
    }
   ],
   "source": [
    "numpy.max(train.query('target == 0')[\"length\"]), numpy.max(train.query('target == 1')[\"length\"])"
   ]
  },
  {
   "cell_type": "markdown",
   "metadata": {},
   "source": [
    "Now the minimum length."
   ]
  },
  {
   "cell_type": "code",
   "execution_count": 18,
   "metadata": {},
   "outputs": [
    {
     "data": {
      "text/plain": [
       "(16, 17)"
      ]
     },
     "execution_count": 18,
     "metadata": {},
     "output_type": "execute_result"
    }
   ],
   "source": [
    "numpy.min(train.query('target == 0')[\"length\"]), numpy.min(train.query('target == 1')[\"length\"])"
   ]
  },
  {
   "cell_type": "markdown",
   "metadata": {},
   "source": [
    "Let us put these now in a more graphical representation."
   ]
  },
  {
   "cell_type": "code",
   "execution_count": 19,
   "metadata": {},
   "outputs": [
    {
     "data": {
      "text/plain": [
       "Text(0.5, 1.0, 'Differences in length - class 1')"
      ]
     },
     "execution_count": 19,
     "metadata": {},
     "output_type": "execute_result"
    },
    {
     "data": {
      "image/png": "[encoded data removed]",
      "text/plain": [
       "<Figure size 1440x576 with 2 Axes>"
      ]
     },
     "metadata": {
      "needs_background": "light"
     },
     "output_type": "display_data"
    }
   ],
   "source": [
    "f = plt.figure(figsize=(20,8))\n",
    "plot1 = f.add_subplot(1, 2, 1)\n",
    "plot1.boxplot(train.query('target == 0')[\"length\"])\n",
    "plot1.set_title(\"Differences in length - class 0\")\n",
    "plot2 = f.add_subplot(1, 2, 2)\n",
    "plot2.boxplot(train.query('target == 1')[\"length\"])\n",
    "plot2.set_title(\"Differences in length - class 1\")"
   ]
  },
  {
   "cell_type": "markdown",
   "metadata": {},
   "source": [
    "It seems that, based on some descriptive statistics, the length of the text based on letter count can be somehow used to differentiate the samples. "
   ]
  },
  {
   "cell_type": "markdown",
   "metadata": {},
   "source": [
    "In order to check for how much, I am going to put this in the logistic regression. One thing to keep in mind is, that logistic regression (just like linear regression) does not do well with multicolliniarity. But this is only going to be point latter on. "
   ]
  },
  {
   "cell_type": "code",
   "execution_count": 20,
   "metadata": {},
   "outputs": [],
   "source": [
    "log_len_letter = LogisticRegression(solver=\"lbfgs\")\n",
    "log_len_letter = log_len_letter.fit(numpy.array(train[\"length\"]).reshape(-1, 1), train[\"target\"])"
   ]
  },
  {
   "cell_type": "code",
   "execution_count": 21,
   "metadata": {},
   "outputs": [],
   "source": [
    "log_len_letter_prediction = log_len_letter.predict(numpy.array(test[\"length\"]).reshape(-1, 1))"
   ]
  },
  {
   "cell_type": "code",
   "execution_count": 22,
   "metadata": {},
   "outputs": [
    {
     "data": {
      "text/plain": [
       "array([[69, 31],\n",
       "       [37, 63]])"
      ]
     },
     "execution_count": 22,
     "metadata": {},
     "output_type": "execute_result"
    }
   ],
   "source": [
    "log_len_letter_confusion_matrix = confusion_matrix(test[\"target\"], log_len_letter_prediction)\n",
    "log_len_letter_confusion_matrix"
   ]
  },
  {
   "cell_type": "code",
   "execution_count": 23,
   "metadata": {},
   "outputs": [
    {
     "data": {
      "text/plain": [
       "0.66"
      ]
     },
     "execution_count": 23,
     "metadata": {},
     "output_type": "execute_result"
    }
   ],
   "source": [
    "(log_len_letter_confusion_matrix[0][0] + log_len_letter_confusion_matrix[1][1])/sum(sum(log_len_letter_confusion_matrix))"
   ]
  },
  {
   "cell_type": "markdown",
   "metadata": {},
   "source": [
    "It seems that with just the length of the question in characters, we can come up with about 66% accuracy. "
   ]
  },
  {
   "cell_type": "markdown",
   "metadata": {},
   "source": [
    "### <a name=\"wordnum\">Analysis based on Word-Count</a>"
   ]
  },
  {
   "cell_type": "markdown",
   "metadata": {},
   "source": [
    "Now let us see, if I can get good results also with the word count. For this, let me first count the words. Here I simply devided the elements, the way that were seperated by space."
   ]
  },
  {
   "cell_type": "code",
   "execution_count": 24,
   "metadata": {},
   "outputs": [],
   "source": [
    "train[\"wordnum\"] = [len(question.split(\" \")) for question in train[\"question_text\"]]\n",
    "test[\"wordnum\"] = [len(question.split(\" \")) for question in test[\"question_text\"]]"
   ]
  },
  {
   "cell_type": "markdown",
   "metadata": {},
   "source": [
    "Let us see, if there is an avreage difference:"
   ]
  },
  {
   "cell_type": "code",
   "execution_count": 25,
   "metadata": {},
   "outputs": [
    {
     "data": {
      "text/plain": [
       "(12.078888888888889, 17.25777777777778)"
      ]
     },
     "execution_count": 25,
     "metadata": {},
     "output_type": "execute_result"
    }
   ],
   "source": [
    "numpy.mean(train.query('target == 0')[\"wordnum\"]), numpy.mean(train.query('target == 1')[\"wordnum\"])"
   ]
  },
  {
   "cell_type": "markdown",
   "metadata": {},
   "source": [
    "Next I am also going to try the nltk way, just to see if there are differences. There are, but not by much. It just seems to find more words. "
   ]
  },
  {
   "cell_type": "code",
   "execution_count": 26,
   "metadata": {},
   "outputs": [
    {
     "data": {
      "text/plain": [
       "(13.573333333333334, 19.553333333333335)"
      ]
     },
     "execution_count": 26,
     "metadata": {},
     "output_type": "execute_result"
    }
   ],
   "source": [
    "train[\"wordnum_nltk\"] = [len(word_tokenize(question)) for question in train[\"question_text\"]]\n",
    "test[\"wordnum_nltk\"] = [len(word_tokenize(question)) for question in test[\"question_text\"]]\n",
    "numpy.mean(train.query('target == 0')[\"wordnum_nltk\"]), numpy.mean(train.query('target == 1')[\"wordnum_nltk\"])"
   ]
  },
  {
   "cell_type": "markdown",
   "metadata": {},
   "source": [
    "Let us now also check in logistic regression. "
   ]
  },
  {
   "cell_type": "code",
   "execution_count": 27,
   "metadata": {},
   "outputs": [],
   "source": [
    "log_len_letter = LogisticRegression(solver=\"lbfgs\")\n",
    "log_len_letter = log_len_letter.fit(numpy.array(train[\"wordnum\"]).reshape(-1, 1), train[\"target\"])\n",
    "log_len_letter_prediction = log_len_letter.predict(numpy.array(test[\"wordnum\"]).reshape(-1, 1))"
   ]
  },
  {
   "cell_type": "code",
   "execution_count": 28,
   "metadata": {},
   "outputs": [
    {
     "data": {
      "text/plain": [
       "array([[67, 33],\n",
       "       [38, 62]])"
      ]
     },
     "execution_count": 28,
     "metadata": {},
     "output_type": "execute_result"
    }
   ],
   "source": [
    "log_len_letter_confusion_matrix = confusion_matrix(test[\"target\"], log_len_letter_prediction)\n",
    "log_len_letter_confusion_matrix"
   ]
  },
  {
   "cell_type": "code",
   "execution_count": 29,
   "metadata": {
    "scrolled": true
   },
   "outputs": [
    {
     "data": {
      "text/plain": [
       "0.645"
      ]
     },
     "execution_count": 29,
     "metadata": {},
     "output_type": "execute_result"
    }
   ],
   "source": [
    "(log_len_letter_confusion_matrix[0][0] + log_len_letter_confusion_matrix[1][1])/sum(sum(log_len_letter_confusion_matrix))"
   ]
  },
  {
   "cell_type": "code",
   "execution_count": 30,
   "metadata": {},
   "outputs": [
    {
     "data": {
      "text/plain": [
       "0.655"
      ]
     },
     "execution_count": 30,
     "metadata": {},
     "output_type": "execute_result"
    }
   ],
   "source": [
    "log_len_letter = LogisticRegression(solver=\"lbfgs\")\n",
    "log_len_letter = log_len_letter.fit(numpy.array(train[\"wordnum_nltk\"]).reshape(-1, 1), train[\"target\"])\n",
    "log_len_letter_prediction = log_len_letter.predict(numpy.array(test[\"wordnum_nltk\"]).reshape(-1, 1))\n",
    "log_len_letter_confusion_matrix = confusion_matrix(test[\"target\"], log_len_letter_prediction)\n",
    "log_len_letter_confusion_matrix\n",
    "(log_len_letter_confusion_matrix[0][0] + log_len_letter_confusion_matrix[1][1])/sum(sum(log_len_letter_confusion_matrix))"
   ]
  },
  {
   "cell_type": "markdown",
   "metadata": {},
   "source": [
    "It seems that the number of words in the question gives us also 64% accuracy. The nltk is a bit higher, but not by much. "
   ]
  },
  {
   "cell_type": "markdown",
   "metadata": {},
   "source": [
    "### <a name=\"wordlength\">Analysis based on avreage length of the word</a>"
   ]
  },
  {
   "cell_type": "markdown",
   "metadata": {},
   "source": [
    "Next, I am going to check if the length of the word in the question has any effect. The same as before, I will use for the word any string, that is seperated by space. "
   ]
  },
  {
   "cell_type": "code",
   "execution_count": 31,
   "metadata": {},
   "outputs": [],
   "source": [
    "train[\"wordlength\"] = [numpy.mean([len(word) for word in question.split(\" \")]) for question in train[\"question_text\"]]\n",
    "test[\"wordlength\"] = [numpy.mean([len(word) for word in question.split(\" \")]) for question in test[\"question_text\"]]"
   ]
  },
  {
   "cell_type": "markdown",
   "metadata": {},
   "source": [
    "Let us see if there is a difference in the avreage length of the word:"
   ]
  },
  {
   "cell_type": "code",
   "execution_count": 32,
   "metadata": {},
   "outputs": [
    {
     "data": {
      "text/plain": [
       "(4.720317502736821, 4.750773833840252)"
      ]
     },
     "execution_count": 32,
     "metadata": {},
     "output_type": "execute_result"
    }
   ],
   "source": [
    "numpy.mean(train.query('target == 0')[\"wordlength\"]), numpy.mean(train.query('target == 1')[\"wordlength\"])"
   ]
  },
  {
   "cell_type": "markdown",
   "metadata": {},
   "source": [
    "And now for the nltk version as well. I will not also try to remove punctuation, since this would be words with length of 1."
   ]
  },
  {
   "cell_type": "code",
   "execution_count": 33,
   "metadata": {},
   "outputs": [
    {
     "data": {
      "text/plain": [
       "(4.700699640472918, 4.671388218595198)"
      ]
     },
     "execution_count": 33,
     "metadata": {},
     "output_type": "execute_result"
    }
   ],
   "source": [
    "train[\"wordlength_nltk\"] = [numpy.mean([len(word) for word in word_tokenize(question) if len(word) > 1]) for question in train[\"question_text\"]]\n",
    "test[\"wordlength_nltk\"] = [numpy.mean([len(word) for word in word_tokenize(question) if len(word) > 1]) for question in test[\"question_text\"]]\n",
    "numpy.mean(train.query('target == 0')[\"wordlength_nltk\"]), numpy.mean(train.query('target == 1')[\"wordlength_nltk\"])"
   ]
  },
  {
   "cell_type": "markdown",
   "metadata": {},
   "source": [
    "There does not seem to be any difference. Let us check this graphically as well, only for nltk version. "
   ]
  },
  {
   "cell_type": "code",
   "execution_count": 34,
   "metadata": {},
   "outputs": [
    {
     "data": {
      "text/plain": [
       "Text(0.5, 1.0, 'Differences in avreage length of words - class 1')"
      ]
     },
     "execution_count": 34,
     "metadata": {},
     "output_type": "execute_result"
    },
    {
     "data": {
      "image/png": "[encoded data removed]",
      "text/plain": [
       "<Figure size 1440x576 with 2 Axes>"
      ]
     },
     "metadata": {
      "needs_background": "light"
     },
     "output_type": "display_data"
    }
   ],
   "source": [
    "f = plt.figure(figsize=(20,8))\n",
    "plot1 = f.add_subplot(1, 2, 1)\n",
    "plot1.boxplot(train.query('target == 0')[\"wordlength_nltk\"])\n",
    "plot1.set_title(\"Differences in avreage length of words - class 0\")\n",
    "plot2 = f.add_subplot(1, 2, 2)\n",
    "plot2.boxplot(train.query('target == 1')[\"wordlength_nltk\"])\n",
    "plot2.set_title(\"Differences in avreage length of words - class 1\")"
   ]
  },
  {
   "cell_type": "markdown",
   "metadata": {},
   "source": [
    "So there should be no predictive validity is this. But les us check anyway. "
   ]
  },
  {
   "cell_type": "code",
   "execution_count": 35,
   "metadata": {},
   "outputs": [
    {
     "data": {
      "text/plain": [
       "array([[60, 40],\n",
       "       [56, 44]])"
      ]
     },
     "execution_count": 35,
     "metadata": {},
     "output_type": "execute_result"
    }
   ],
   "source": [
    "log_len_letter = LogisticRegression(solver=\"lbfgs\")\n",
    "log_len_letter = log_len_letter.fit(numpy.array(train[\"wordlength\"]).reshape(-1, 1), train[\"target\"])\n",
    "log_len_letter_prediction = log_len_letter.predict(numpy.array(test[\"wordlength\"]).reshape(-1, 1))\n",
    "log_len_letter_confusion_matrix = confusion_matrix(test[\"target\"], log_len_letter_prediction)\n",
    "log_len_letter_confusion_matrix"
   ]
  },
  {
   "cell_type": "code",
   "execution_count": 36,
   "metadata": {},
   "outputs": [
    {
     "data": {
      "text/plain": [
       "0.52"
      ]
     },
     "execution_count": 36,
     "metadata": {},
     "output_type": "execute_result"
    }
   ],
   "source": [
    "(log_len_letter_confusion_matrix[0][0] + log_len_letter_confusion_matrix[1][1])/sum(sum(log_len_letter_confusion_matrix))"
   ]
  },
  {
   "cell_type": "code",
   "execution_count": 37,
   "metadata": {},
   "outputs": [
    {
     "data": {
      "text/plain": [
       "0.525"
      ]
     },
     "execution_count": 37,
     "metadata": {},
     "output_type": "execute_result"
    }
   ],
   "source": [
    "log_len_letter = LogisticRegression(solver=\"lbfgs\")\n",
    "log_len_letter = log_len_letter.fit(numpy.array(train[\"wordlength_nltk\"]).reshape(-1, 1), train[\"target\"])\n",
    "log_len_letter_prediction = log_len_letter.predict(numpy.array(test[\"wordlength_nltk\"]).reshape(-1, 1))\n",
    "log_len_letter_confusion_matrix = confusion_matrix(test[\"target\"], log_len_letter_prediction)\n",
    "log_len_letter_confusion_matrix\n",
    "(log_len_letter_confusion_matrix[0][0] + log_len_letter_confusion_matrix[1][1])/sum(sum(log_len_letter_confusion_matrix))"
   ]
  },
  {
   "cell_type": "markdown",
   "metadata": {},
   "source": [
    "There is barely any predictive vaildity, for either version. "
   ]
  },
  {
   "cell_type": "markdown",
   "metadata": {},
   "source": [
    "## <a name=\"letter\">Analysis Based on Letters</a>"
   ]
  },
  {
   "cell_type": "markdown",
   "metadata": {},
   "source": [
    "In the next part of the analysis, I am going to try and see if there are any observed differences based on the letter and numbers used in the text. "
   ]
  },
  {
   "cell_type": "markdown",
   "metadata": {},
   "source": [
    "### <a name=\"letter1\">Letters used</a>"
   ]
  },
  {
   "cell_type": "markdown",
   "metadata": {},
   "source": [
    "First, we will check which symbols are even used in the texts:"
   ]
  },
  {
   "cell_type": "code",
   "execution_count": 38,
   "metadata": {},
   "outputs": [],
   "source": [
    "all_characters_in_texts = set()\n",
    "_ = [[all_characters_in_texts.add(letter) for letter in question] for question in train[\"question_text\"]]"
   ]
  },
  {
   "cell_type": "code",
   "execution_count": 39,
   "metadata": {},
   "outputs": [
    {
     "data": {
      "text/plain": [
       "112"
      ]
     },
     "execution_count": 39,
     "metadata": {},
     "output_type": "execute_result"
    }
   ],
   "source": [
    "len(all_characters_in_texts)"
   ]
  },
  {
   "cell_type": "code",
   "execution_count": 40,
   "metadata": {},
   "outputs": [
    {
     "data": {
      "text/plain": [
       "'P)&Wf是M\\xa0慕G;…5羡kz4ōLm1éU[₹NnBd.妒H-DxsFIXcA样6和(%™河áq殤t0u8#S9E/,g”3] loVvyj>!’Z\"w7eJ2hT\\'。bçK*ü‘+a:不嫉C–$一pir的?O“YRQ\\u200b'"
      ]
     },
     "execution_count": 40,
     "metadata": {},
     "output_type": "execute_result"
    }
   ],
   "source": [
    "\"\".join(list(all_characters_in_texts))"
   ]
  },
  {
   "cell_type": "markdown",
   "metadata": {},
   "source": [
    "Now I am going to calculate for each question, now many times each character appear there."
   ]
  },
  {
   "cell_type": "code",
   "execution_count": 41,
   "metadata": {},
   "outputs": [],
   "source": [
    "for letter in all_characters_in_texts:\n",
    "    train[letter] = [sum([1 for l in question if l == letter]) for question in train[\"question_text\"]]\n",
    "    test[letter] = [sum([1 for l in question if l == letter]) for question in test[\"question_text\"]]"
   ]
  },
  {
   "cell_type": "markdown",
   "metadata": {},
   "source": [
    "Let us now try how much can different letters help with prediction (I increased the number of iterations, since it would not converge with default 100). "
   ]
  },
  {
   "cell_type": "code",
   "execution_count": 42,
   "metadata": {},
   "outputs": [
    {
     "data": {
      "text/plain": [
       "112"
      ]
     },
     "execution_count": 42,
     "metadata": {},
     "output_type": "execute_result"
    }
   ],
   "source": [
    "len(all_characters_in_texts)"
   ]
  },
  {
   "cell_type": "code",
   "execution_count": 43,
   "metadata": {},
   "outputs": [],
   "source": [
    "log_len_letter = LogisticRegression(solver=\"lbfgs\", max_iter=10000)\n",
    "log_len_letter = log_len_letter.fit(numpy.array(train[list(all_characters_in_texts)]).reshape(-1, len(all_characters_in_texts)), train[\"target\"])\n",
    "log_len_letter_prediction = log_len_letter.predict(numpy.array(test[list(all_characters_in_texts)]).reshape(-1, len(all_characters_in_texts)))"
   ]
  },
  {
   "cell_type": "code",
   "execution_count": 44,
   "metadata": {},
   "outputs": [
    {
     "data": {
      "text/plain": [
       "array([[68, 32],\n",
       "       [27, 73]])"
      ]
     },
     "execution_count": 44,
     "metadata": {},
     "output_type": "execute_result"
    }
   ],
   "source": [
    "log_len_letter_confusion_matrix = confusion_matrix(test[\"target\"], log_len_letter_prediction)\n",
    "log_len_letter_confusion_matrix"
   ]
  },
  {
   "cell_type": "code",
   "execution_count": 45,
   "metadata": {},
   "outputs": [
    {
     "data": {
      "text/plain": [
       "0.705"
      ]
     },
     "execution_count": 45,
     "metadata": {},
     "output_type": "execute_result"
    }
   ],
   "source": [
    "(log_len_letter_confusion_matrix[0][0] + log_len_letter_confusion_matrix[1][1])/sum(sum(log_len_letter_confusion_matrix))"
   ]
  },
  {
   "cell_type": "markdown",
   "metadata": {},
   "source": [
    "By using the letters, it is possible to get the accuracy to 71%. "
   ]
  },
  {
   "cell_type": "markdown",
   "metadata": {},
   "source": [
    "### <a name=\"lettergroups\">Groups of characters (letters - upper and lower, numbers, punctuation)</a>"
   ]
  },
  {
   "cell_type": "markdown",
   "metadata": {},
   "source": [
    "I am also going to calculate the amount of some of the groups of characters. "
   ]
  },
  {
   "cell_type": "code",
   "execution_count": 46,
   "metadata": {},
   "outputs": [],
   "source": [
    "numeric = \"0123456789\"\n",
    "alpha_lower = \"abcdefghijklmnopqrstuvwxyz\"\n",
    "alpha_upper = alpha_lower.upper()\n",
    "punctuation = \".\\\",;:!?'()&%\""
   ]
  },
  {
   "cell_type": "code",
   "execution_count": 47,
   "metadata": {},
   "outputs": [
    {
     "data": {
      "text/plain": [
       "['0', '1', '2', '3', '4', '5', '6', '7', '8', '9']"
      ]
     },
     "execution_count": 47,
     "metadata": {},
     "output_type": "execute_result"
    }
   ],
   "source": [
    "[n for n in numeric if n in all_characters_in_texts]"
   ]
  },
  {
   "cell_type": "code",
   "execution_count": 48,
   "metadata": {},
   "outputs": [
    {
     "data": {
      "text/plain": [
       "['a',\n",
       " 'b',\n",
       " 'c',\n",
       " 'd',\n",
       " 'e',\n",
       " 'f',\n",
       " 'g',\n",
       " 'h',\n",
       " 'i',\n",
       " 'j',\n",
       " 'k',\n",
       " 'l',\n",
       " 'm',\n",
       " 'n',\n",
       " 'o',\n",
       " 'p',\n",
       " 'q',\n",
       " 'r',\n",
       " 's',\n",
       " 't',\n",
       " 'u',\n",
       " 'v',\n",
       " 'w',\n",
       " 'x',\n",
       " 'y',\n",
       " 'z']"
      ]
     },
     "execution_count": 48,
     "metadata": {},
     "output_type": "execute_result"
    }
   ],
   "source": [
    "[l for l in alpha_lower if l in all_characters_in_texts]"
   ]
  },
  {
   "cell_type": "code",
   "execution_count": 49,
   "metadata": {},
   "outputs": [
    {
     "data": {
      "text/plain": [
       "['A',\n",
       " 'B',\n",
       " 'C',\n",
       " 'D',\n",
       " 'E',\n",
       " 'F',\n",
       " 'G',\n",
       " 'H',\n",
       " 'I',\n",
       " 'J',\n",
       " 'K',\n",
       " 'L',\n",
       " 'M',\n",
       " 'N',\n",
       " 'O',\n",
       " 'P',\n",
       " 'Q',\n",
       " 'R',\n",
       " 'S',\n",
       " 'T',\n",
       " 'U',\n",
       " 'V',\n",
       " 'W',\n",
       " 'X',\n",
       " 'Y',\n",
       " 'Z']"
      ]
     },
     "execution_count": 49,
     "metadata": {},
     "output_type": "execute_result"
    }
   ],
   "source": [
    "[l for l in alpha_upper if l in all_characters_in_texts]"
   ]
  },
  {
   "cell_type": "code",
   "execution_count": 50,
   "metadata": {},
   "outputs": [
    {
     "data": {
      "text/plain": [
       "['.', '\"', ',', ';', ':', '!', '?', \"'\", '(', ')', '&', '%']"
      ]
     },
     "execution_count": 50,
     "metadata": {},
     "output_type": "execute_result"
    }
   ],
   "source": [
    "[p for p in punctuation if p in all_characters_in_texts]"
   ]
  },
  {
   "cell_type": "code",
   "execution_count": 51,
   "metadata": {},
   "outputs": [
    {
     "data": {
      "text/plain": [
       "['是',\n",
       " '\\xa0',\n",
       " '慕',\n",
       " '…',\n",
       " '羡',\n",
       " 'ō',\n",
       " 'é',\n",
       " '[',\n",
       " '₹',\n",
       " '妒',\n",
       " '-',\n",
       " '样',\n",
       " '和',\n",
       " '™',\n",
       " '河',\n",
       " 'á',\n",
       " '殤',\n",
       " '#',\n",
       " '/',\n",
       " '”',\n",
       " ']',\n",
       " ' ',\n",
       " '>',\n",
       " '’',\n",
       " '。',\n",
       " 'ç',\n",
       " '*',\n",
       " 'ü',\n",
       " '‘',\n",
       " '+',\n",
       " '不',\n",
       " '嫉',\n",
       " '–',\n",
       " '$',\n",
       " '一',\n",
       " '的',\n",
       " '“',\n",
       " '\\u200b']"
      ]
     },
     "execution_count": 51,
     "metadata": {},
     "output_type": "execute_result"
    }
   ],
   "source": [
    "[o for o in all_characters_in_texts if not o in numeric + alpha_lower + alpha_upper + punctuation]"
   ]
  },
  {
   "cell_type": "code",
   "execution_count": 52,
   "metadata": {},
   "outputs": [],
   "source": [
    "train[\"numeric\"] = [sum([1 for l in question if l in numeric]) for question in train[\"question_text\"]]\n",
    "train[\"alphalower\"] = [sum([1 for l in question if l in alpha_lower]) for question in train[\"question_text\"]]\n",
    "train[\"alphaupper\"] = [sum([1 for l in question if l in alpha_upper]) for question in train[\"question_text\"]]\n",
    "train[\"punctuation\"] = [sum([1 for l in question if l in punctuation]) for question in train[\"question_text\"]]"
   ]
  },
  {
   "cell_type": "code",
   "execution_count": 53,
   "metadata": {},
   "outputs": [],
   "source": [
    "test[\"numeric\"] = [sum([1 for l in question if l in numeric]) for question in test[\"question_text\"]]\n",
    "test[\"alphalower\"] = [sum([1 for l in question if l in alpha_lower]) for question in test[\"question_text\"]]\n",
    "test[\"alphaupper\"] = [sum([1 for l in question if l in alpha_upper]) for question in test[\"question_text\"]]\n",
    "test[\"punctuation\"] = [sum([1 for l in question if l in punctuation]) for question in test[\"question_text\"]]"
   ]
  },
  {
   "cell_type": "markdown",
   "metadata": {},
   "source": [
    "I am also going to calculate the ratio of all of these groups of characters."
   ]
  },
  {
   "cell_type": "code",
   "execution_count": 54,
   "metadata": {},
   "outputs": [],
   "source": [
    "train[\"numeric_ratio\"] = [sum([1 for l in question if l in numeric]) for question in train[\"question_text\"]]/train[\"length\"]\n",
    "train[\"alphalower_ratio\"] = [sum([1 for l in question if l in alpha_lower]) for question in train[\"question_text\"]]/train[\"length\"]\n",
    "train[\"alphaupper_ratio\"] = [sum([1 for l in question if l in alpha_upper]) for question in train[\"question_text\"]]/train[\"length\"]\n",
    "train[\"punctuation_ratio\"] = [sum([1 for l in question if l in punctuation]) for question in train[\"question_text\"]]/train[\"length\"]"
   ]
  },
  {
   "cell_type": "code",
   "execution_count": 55,
   "metadata": {},
   "outputs": [],
   "source": [
    "test[\"numeric_ratio\"] = [sum([1 for l in question if l in numeric]) for question in test[\"question_text\"]]/test[\"length\"]\n",
    "test[\"alphalower_ratio\"] = [sum([1 for l in question if l in alpha_lower]) for question in test[\"question_text\"]]/test[\"length\"]\n",
    "test[\"alphaupper_ratio\"] = [sum([1 for l in question if l in alpha_upper]) for question in test[\"question_text\"]]/test[\"length\"]\n",
    "test[\"punctuation_ratio\"] = [sum([1 for l in question if l in punctuation]) for question in test[\"question_text\"]]/test[\"length\"]"
   ]
  },
  {
   "cell_type": "markdown",
   "metadata": {},
   "source": [
    "Let us now see, if adding these helps with the predictive validity. I will first try with the raw number of the groups of characters."
   ]
  },
  {
   "cell_type": "code",
   "execution_count": 56,
   "metadata": {},
   "outputs": [],
   "source": [
    "log_len_letter = LogisticRegression(solver=\"lbfgs\")\n",
    "log_len_letter = log_len_letter.fit(numpy.array(train[[\"numeric\",\"alphalower\",\"alphaupper\",\"punctuation\"]]).reshape(-1, 4), train[\"target\"])\n",
    "log_len_letter_prediction = log_len_letter.predict(numpy.array(test[[\"numeric\",\"alphalower\",\"alphaupper\",\"punctuation\"]]).reshape(-1, 4))"
   ]
  },
  {
   "cell_type": "code",
   "execution_count": 57,
   "metadata": {},
   "outputs": [
    {
     "data": {
      "text/plain": [
       "array([[65, 35],\n",
       "       [36, 64]])"
      ]
     },
     "execution_count": 57,
     "metadata": {},
     "output_type": "execute_result"
    }
   ],
   "source": [
    "log_len_letter_confusion_matrix = confusion_matrix(test[\"target\"], log_len_letter_prediction)\n",
    "log_len_letter_confusion_matrix"
   ]
  },
  {
   "cell_type": "code",
   "execution_count": 58,
   "metadata": {},
   "outputs": [
    {
     "data": {
      "text/plain": [
       "0.645"
      ]
     },
     "execution_count": 58,
     "metadata": {},
     "output_type": "execute_result"
    }
   ],
   "source": [
    "(log_len_letter_confusion_matrix[0][0] + log_len_letter_confusion_matrix[1][1])/sum(sum(log_len_letter_confusion_matrix))"
   ]
  },
  {
   "cell_type": "markdown",
   "metadata": {},
   "source": [
    "It seems data by using the raw number of group of characters, it is possible to get an accuracy of 64%."
   ]
  },
  {
   "cell_type": "markdown",
   "metadata": {},
   "source": [
    "Let us now try with ratios. "
   ]
  },
  {
   "cell_type": "code",
   "execution_count": 59,
   "metadata": {},
   "outputs": [],
   "source": [
    "log_len_letter = LogisticRegression(solver=\"lbfgs\")\n",
    "log_len_letter = log_len_letter.fit(numpy.array(train[[\"numeric_ratio\",\"alphalower_ratio\",\"alphaupper_ratio\",\"punctuation_ratio\"]]).reshape(-1, 4), train[\"target\"])\n",
    "log_len_letter_prediction = log_len_letter.predict(numpy.array(test[[\"numeric_ratio\",\"alphalower_ratio\",\"alphaupper_ratio\",\"punctuation_ratio\"]]).reshape(-1, 4))"
   ]
  },
  {
   "cell_type": "code",
   "execution_count": 60,
   "metadata": {},
   "outputs": [
    {
     "data": {
      "text/plain": [
       "array([[44, 56],\n",
       "       [33, 67]])"
      ]
     },
     "execution_count": 60,
     "metadata": {},
     "output_type": "execute_result"
    }
   ],
   "source": [
    "log_len_letter_confusion_matrix = confusion_matrix(test[\"target\"], log_len_letter_prediction)\n",
    "log_len_letter_confusion_matrix"
   ]
  },
  {
   "cell_type": "code",
   "execution_count": 61,
   "metadata": {},
   "outputs": [
    {
     "data": {
      "text/plain": [
       "0.555"
      ]
     },
     "execution_count": 61,
     "metadata": {},
     "output_type": "execute_result"
    }
   ],
   "source": [
    "(log_len_letter_confusion_matrix[0][0] + log_len_letter_confusion_matrix[1][1])/sum(sum(log_len_letter_confusion_matrix))"
   ]
  },
  {
   "cell_type": "markdown",
   "metadata": {},
   "source": [
    "I guess the ratio is not as good predictor as the raw number. Possibly because of the length of the question. "
   ]
  },
  {
   "cell_type": "markdown",
   "metadata": {},
   "source": [
    "### <a name=\"letter2\">Letters used (group of 2)</a>"
   ]
  },
  {
   "cell_type": "markdown",
   "metadata": {},
   "source": [
    "If I remeber correctly, sometimes (at least for words) they also check the groups of words. So 2-grams and 3-grams. Let me do the same thing with letters and see if it will predict anything. "
   ]
  },
  {
   "cell_type": "code",
   "execution_count": 62,
   "metadata": {},
   "outputs": [],
   "source": [
    "all_2_grams_letters = set()\n",
    "_ = [[all_2_grams_letters.add(\"\".join(n_gram).lower()) for n_gram in zip(question[:-1], question[1:])] for question in train[\"question_text\"]]"
   ]
  },
  {
   "cell_type": "code",
   "execution_count": 63,
   "metadata": {},
   "outputs": [
    {
     "data": {
      "text/plain": [
       "{'us',\n",
       " 'ob',\n",
       " 'oh',\n",
       " '是不',\n",
       " '(1',\n",
       " '!\"',\n",
       " 'sx',\n",
       " 't\\xa0',\n",
       " '3,',\n",
       " \"'e\",\n",
       " 'rp',\n",
       " 'xy',\n",
       " 'ii',\n",
       " 'ér',\n",
       " '-c',\n",
       " 'du',\n",
       " 'km',\n",
       " '32',\n",
       " '/8',\n",
       " 't/',\n",
       " 't-',\n",
       " 'gb',\n",
       " 'e?',\n",
       " 'lv',\n",
       " '(>',\n",
       " 'n)',\n",
       " 'nq',\n",
       " '/1',\n",
       " 'uj',\n",
       " \"'l\",\n",
       " 'iq',\n",
       " '0s',\n",
       " 'ke',\n",
       " \"l'\",\n",
       " 'zl',\n",
       " '/e',\n",
       " 'je',\n",
       " 'h1',\n",
       " 'o/',\n",
       " 'q ',\n",
       " 'yc',\n",
       " 'rg',\n",
       " '97',\n",
       " 'f?',\n",
       " 'j2',\n",
       " 'um',\n",
       " '/b',\n",
       " 'yf',\n",
       " 'og',\n",
       " 'n ',\n",
       " '22',\n",
       " '“s',\n",
       " 'dv',\n",
       " 'm)',\n",
       " 'o?',\n",
       " 'i6',\n",
       " 'dt',\n",
       " '**',\n",
       " '.t',\n",
       " 'v.',\n",
       " 'ng',\n",
       " 'vi',\n",
       " 'iz',\n",
       " 'mg',\n",
       " 'c)',\n",
       " '-6',\n",
       " 'n5',\n",
       " '(p',\n",
       " \"p'\",\n",
       " 'rb',\n",
       " '04',\n",
       " ' j',\n",
       " 'k\"',\n",
       " '+ ',\n",
       " '2 ',\n",
       " 'vs',\n",
       " 'p?',\n",
       " ', ',\n",
       " 'fd',\n",
       " '(g',\n",
       " 'é)',\n",
       " 'm,',\n",
       " '-m',\n",
       " 'sn',\n",
       " 'iv',\n",
       " 'uu',\n",
       " '25',\n",
       " 'ez',\n",
       " 'k/',\n",
       " 'iu',\n",
       " 'l)',\n",
       " 'd/',\n",
       " 'ka',\n",
       " 'p:',\n",
       " 'xo',\n",
       " 'sk',\n",
       " 'wf',\n",
       " '.5',\n",
       " ' o',\n",
       " '30',\n",
       " 'n’',\n",
       " 'lz',\n",
       " '19',\n",
       " '$5',\n",
       " ' c',\n",
       " '(a',\n",
       " '15',\n",
       " '7?',\n",
       " '13',\n",
       " '31',\n",
       " 'rk',\n",
       " '(f',\n",
       " 'nt',\n",
       " '. ',\n",
       " 'af',\n",
       " 'j ',\n",
       " 'hb',\n",
       " 'hd',\n",
       " '7-',\n",
       " ' (',\n",
       " 'gn',\n",
       " 'tb',\n",
       " ' t',\n",
       " '.)',\n",
       " 'nm',\n",
       " 'ot',\n",
       " 'jo',\n",
       " '(d',\n",
       " 'to',\n",
       " 'hh',\n",
       " 'pe',\n",
       " 'im',\n",
       " '.s',\n",
       " 'yz',\n",
       " 't!',\n",
       " '\"c',\n",
       " '80',\n",
       " '1?',\n",
       " 'tz',\n",
       " 'üm',\n",
       " '\\u200b,',\n",
       " '.l',\n",
       " 'ws',\n",
       " 't\"',\n",
       " 'r?',\n",
       " ' $',\n",
       " '95',\n",
       " 'n?',\n",
       " 'll',\n",
       " 'ux',\n",
       " '4x',\n",
       " '3.',\n",
       " 's;',\n",
       " '7/',\n",
       " 'i?',\n",
       " \"f'\",\n",
       " '!)',\n",
       " 'tp',\n",
       " 'ni',\n",
       " 'hl',\n",
       " 'es',\n",
       " 'bn',\n",
       " '78',\n",
       " '“i',\n",
       " '21',\n",
       " 'mp',\n",
       " 'u’',\n",
       " '29',\n",
       " 'hr',\n",
       " 'mr',\n",
       " 'a”',\n",
       " 'vt',\n",
       " 'dk',\n",
       " 'c.',\n",
       " '34',\n",
       " 'wt',\n",
       " 'sp',\n",
       " '0.',\n",
       " 'pc',\n",
       " 'li',\n",
       " '-2',\n",
       " 'ça',\n",
       " '.6',\n",
       " 'y’',\n",
       " \"w'\",\n",
       " 'rv',\n",
       " 'tx',\n",
       " 'ku',\n",
       " ')?',\n",
       " 'pd',\n",
       " 'sm',\n",
       " 'rs',\n",
       " 'kt',\n",
       " 'h4',\n",
       " ' r',\n",
       " 'h;',\n",
       " '0i',\n",
       " ' 4',\n",
       " 'vy',\n",
       " 'ip',\n",
       " 'n:',\n",
       " 'v ',\n",
       " 'py',\n",
       " 'ex',\n",
       " 'rd',\n",
       " '™ ',\n",
       " '\"h',\n",
       " 'd…',\n",
       " '\"l',\n",
       " '–b',\n",
       " '9:',\n",
       " ' 1',\n",
       " 'p\"',\n",
       " ' l',\n",
       " 'nw',\n",
       " '$4',\n",
       " '殤]',\n",
       " 'cb',\n",
       " 'u/',\n",
       " '\"b',\n",
       " 'wm',\n",
       " 'vo',\n",
       " '5t',\n",
       " '.a',\n",
       " 's\\u200b',\n",
       " ' ?',\n",
       " 'iw',\n",
       " 'e!',\n",
       " 'p;',\n",
       " 'oo',\n",
       " 'er',\n",
       " 'dz',\n",
       " 'ey',\n",
       " 's,',\n",
       " '“e',\n",
       " 'cu',\n",
       " '-i',\n",
       " 'vp',\n",
       " 'nz',\n",
       " 'dl',\n",
       " 'ye',\n",
       " 'u,',\n",
       " 'vl',\n",
       " ':1',\n",
       " 'ōt',\n",
       " 'nf',\n",
       " 'cp',\n",
       " 'rh',\n",
       " '6 ',\n",
       " 't–',\n",
       " 'ba',\n",
       " '(s',\n",
       " ' &',\n",
       " 'gg',\n",
       " \"'g\",\n",
       " 'mb',\n",
       " '96',\n",
       " 'bf',\n",
       " 'u ',\n",
       " 'ac',\n",
       " '.i',\n",
       " '+k',\n",
       " 'h.',\n",
       " 'dc',\n",
       " \"'a\",\n",
       " 'lb',\n",
       " 'db',\n",
       " 'jr',\n",
       " 'ia',\n",
       " '的。',\n",
       " 'dy',\n",
       " 'bs',\n",
       " 'k-',\n",
       " 'no',\n",
       " 'ou',\n",
       " \"'s\",\n",
       " 'ub',\n",
       " 'b3',\n",
       " '%?',\n",
       " '$8',\n",
       " 'gl',\n",
       " 'lh',\n",
       " ',\"',\n",
       " '.w',\n",
       " '/p',\n",
       " 't ',\n",
       " '91',\n",
       " 'ty',\n",
       " 'f\\xa0',\n",
       " 'h’',\n",
       " '\"g',\n",
       " 't.',\n",
       " '4?',\n",
       " '9.',\n",
       " 'ns',\n",
       " 'e)',\n",
       " 'b\"',\n",
       " 'zz',\n",
       " 'wr',\n",
       " 'a?',\n",
       " '’s',\n",
       " 'gv',\n",
       " '90',\n",
       " 'el',\n",
       " 'kn',\n",
       " 'ui',\n",
       " ' 2',\n",
       " 'te',\n",
       " 'jp',\n",
       " '/?',\n",
       " 'fa',\n",
       " 'jw',\n",
       " 'z?',\n",
       " 'ri',\n",
       " 'fe',\n",
       " 'by',\n",
       " 'xh',\n",
       " '12',\n",
       " 'i.',\n",
       " 'mm',\n",
       " 'f.',\n",
       " 'm/',\n",
       " 'gm',\n",
       " 'wo',\n",
       " '(e',\n",
       " 'rx',\n",
       " ' w',\n",
       " 'ff',\n",
       " 'ud',\n",
       " 'y\"',\n",
       " 'le',\n",
       " 'd-',\n",
       " 'yw',\n",
       " '2?',\n",
       " 'wd',\n",
       " 'rq',\n",
       " 'mf',\n",
       " 'nn',\n",
       " '不一',\n",
       " ' x',\n",
       " 'x-',\n",
       " '98',\n",
       " 'sc',\n",
       " '-h',\n",
       " '?’',\n",
       " 'dn',\n",
       " '2e',\n",
       " '4 ',\n",
       " '’t',\n",
       " 'ld',\n",
       " 'ir',\n",
       " 'gt',\n",
       " '28',\n",
       " 'd3',\n",
       " '\"m',\n",
       " 'tt',\n",
       " 'sj',\n",
       " 'c ',\n",
       " 's ',\n",
       " 'ls',\n",
       " ' f',\n",
       " '2.',\n",
       " '01',\n",
       " 'x ',\n",
       " 'ab',\n",
       " 'kz',\n",
       " 'e-',\n",
       " '5+',\n",
       " 'od',\n",
       " \"m'\",\n",
       " '\\xa0a',\n",
       " '-v',\n",
       " 'bv',\n",
       " '! ',\n",
       " 'ur',\n",
       " 'p,',\n",
       " ' 6',\n",
       " 'e/',\n",
       " 'js',\n",
       " 'b5',\n",
       " 'fk',\n",
       " 'p.',\n",
       " ' 9',\n",
       " '‘y',\n",
       " ' i',\n",
       " '40',\n",
       " 'lg',\n",
       " 'b-',\n",
       " 'yk',\n",
       " 'st',\n",
       " '00',\n",
       " '3)',\n",
       " 'os',\n",
       " 'an',\n",
       " '-g',\n",
       " 'lm',\n",
       " 'w,',\n",
       " ' h',\n",
       " 'yr',\n",
       " '\\xa0k',\n",
       " 'ta',\n",
       " '-y',\n",
       " 'ew',\n",
       " '(j',\n",
       " 'et',\n",
       " 'g,',\n",
       " 'yy',\n",
       " 'p3',\n",
       " '.?',\n",
       " '/m',\n",
       " 'op',\n",
       " 'o ',\n",
       " 'tu',\n",
       " ':8',\n",
       " 'gs',\n",
       " '3-',\n",
       " \"u'\",\n",
       " \"'v\",\n",
       " 'ne',\n",
       " ',0',\n",
       " 'lc',\n",
       " 'po',\n",
       " 'l”',\n",
       " '75',\n",
       " ' d',\n",
       " '8t',\n",
       " 'kv',\n",
       " 'ei',\n",
       " '-o',\n",
       " '河殤',\n",
       " 'cl',\n",
       " 'sd',\n",
       " 'az',\n",
       " ' b',\n",
       " ' n',\n",
       " 'ct',\n",
       " 'b?',\n",
       " 'fb',\n",
       " 'w.',\n",
       " 'en',\n",
       " '] ',\n",
       " 'dd',\n",
       " '\",',\n",
       " 'zy',\n",
       " 'e ',\n",
       " 'eh',\n",
       " '2,',\n",
       " '“y',\n",
       " \"g'\",\n",
       " 'va',\n",
       " 'gi',\n",
       " 'y/',\n",
       " 's(',\n",
       " 'hc',\n",
       " '2-',\n",
       " 'ze',\n",
       " '(k',\n",
       " 'di',\n",
       " 'me',\n",
       " '-p',\n",
       " 'ml',\n",
       " 'e,',\n",
       " 'd.',\n",
       " 'mu',\n",
       " 'pm',\n",
       " '9 ',\n",
       " 'eu',\n",
       " ' 7',\n",
       " 'gu',\n",
       " 'xa',\n",
       " 'g?',\n",
       " 's?',\n",
       " '-e',\n",
       " '\\xa0r',\n",
       " 'la',\n",
       " '35',\n",
       " 'ae',\n",
       " 'he',\n",
       " 'v?',\n",
       " 'aj',\n",
       " '-j',\n",
       " 'ro',\n",
       " '26',\n",
       " 'co',\n",
       " 'kh',\n",
       " ' q',\n",
       " 'ym',\n",
       " '20',\n",
       " 'k’',\n",
       " '.0',\n",
       " '/v',\n",
       " \"'d\",\n",
       " '4/',\n",
       " 'ic',\n",
       " '5 ',\n",
       " 'a’',\n",
       " 'ay',\n",
       " 'sl',\n",
       " 'k ',\n",
       " '-b',\n",
       " 'kf',\n",
       " '’ ',\n",
       " '-u',\n",
       " 'mc',\n",
       " 'g5',\n",
       " '\"u',\n",
       " 'hk',\n",
       " 'aw',\n",
       " 'pr',\n",
       " 'eg',\n",
       " '.1',\n",
       " 'h,',\n",
       " \"'m\",\n",
       " '慕和',\n",
       " 'e\\u200b',\n",
       " \"t'\",\n",
       " '/w',\n",
       " 'b,',\n",
       " 'w)',\n",
       " '54',\n",
       " '57',\n",
       " 'x?',\n",
       " 'e&',\n",
       " 'r’',\n",
       " '.o',\n",
       " 'kk',\n",
       " 't’',\n",
       " 'aq',\n",
       " 'xt',\n",
       " 'p ',\n",
       " '60',\n",
       " 'lu',\n",
       " '(i',\n",
       " \"s'\",\n",
       " 'au',\n",
       " '/i',\n",
       " '? ',\n",
       " 'ci',\n",
       " '一样',\n",
       " ' ₹',\n",
       " 'ej',\n",
       " '99',\n",
       " '.b',\n",
       " '“u',\n",
       " 'yg',\n",
       " 'pt',\n",
       " 'ja',\n",
       " '和嫉',\n",
       " 'o2',\n",
       " 'k.',\n",
       " 'ow',\n",
       " '-l',\n",
       " 'nd',\n",
       " 'ca',\n",
       " 'a:',\n",
       " 'xr',\n",
       " 'sf',\n",
       " 'y?',\n",
       " 'i)',\n",
       " 'it',\n",
       " 'as',\n",
       " '.\"',\n",
       " '.8',\n",
       " '\"6',\n",
       " 'so',\n",
       " ' [',\n",
       " 'rr',\n",
       " 'ee',\n",
       " '0 ',\n",
       " '79',\n",
       " '0t',\n",
       " 'my',\n",
       " '55',\n",
       " 'ha',\n",
       " 'w ',\n",
       " \" '\",\n",
       " '’m',\n",
       " 'l/',\n",
       " 'b ',\n",
       " 'ak',\n",
       " 'o-',\n",
       " 'xv',\n",
       " 's:',\n",
       " '(\"',\n",
       " 'k4',\n",
       " 'ut',\n",
       " 'pa',\n",
       " 'y,',\n",
       " '1,',\n",
       " 'ib',\n",
       " 'ma',\n",
       " 'iy',\n",
       " '&l',\n",
       " 'uz',\n",
       " '65',\n",
       " 'n,',\n",
       " 'br',\n",
       " 'gf',\n",
       " 'se',\n",
       " 'pu',\n",
       " 'd,',\n",
       " 'dh',\n",
       " '0%',\n",
       " '0c',\n",
       " '.c',\n",
       " ' p',\n",
       " ' .',\n",
       " 'ti',\n",
       " 'ju',\n",
       " 'ok',\n",
       " 'n”',\n",
       " 'ht',\n",
       " \"d'\",\n",
       " 'ds',\n",
       " '0?',\n",
       " '9/',\n",
       " 'r.',\n",
       " 'ie',\n",
       " 'u?',\n",
       " 'bj',\n",
       " ' g',\n",
       " 'sw',\n",
       " 'ly',\n",
       " ' 0',\n",
       " 'bu',\n",
       " '‘u',\n",
       " '\"-',\n",
       " 'ra',\n",
       " 'am',\n",
       " 'nc',\n",
       " ' v',\n",
       " 'ih',\n",
       " '/f',\n",
       " '- ',\n",
       " 'wl',\n",
       " '?\"',\n",
       " 'oj',\n",
       " 'c-',\n",
       " 'hs',\n",
       " '\"n',\n",
       " 'e.',\n",
       " 'sv',\n",
       " 'om',\n",
       " 'mz',\n",
       " '.e',\n",
       " 'k:',\n",
       " 't,',\n",
       " 'rw',\n",
       " 'ao',\n",
       " 'zg',\n",
       " 'bo',\n",
       " '& ',\n",
       " 'yo',\n",
       " 'yp',\n",
       " \"r'\",\n",
       " \"'n\",\n",
       " '2/',\n",
       " 'hu',\n",
       " 'nr',\n",
       " 'g)',\n",
       " 'y)',\n",
       " ': ',\n",
       " 'o,',\n",
       " 'nv',\n",
       " ':/',\n",
       " 'z.',\n",
       " '\"r',\n",
       " '.n',\n",
       " 'lw',\n",
       " '1b',\n",
       " 's™',\n",
       " 'ww',\n",
       " '3d',\n",
       " 'eo',\n",
       " '-d',\n",
       " 'gr',\n",
       " 'y ',\n",
       " 'ek',\n",
       " 'i ',\n",
       " 'ap',\n",
       " '3 ',\n",
       " '7.',\n",
       " \"'t\",\n",
       " 'bl',\n",
       " 'ié',\n",
       " '₹8',\n",
       " 'tg',\n",
       " 'gk',\n",
       " 'qu',\n",
       " 'bh',\n",
       " 'i’',\n",
       " '\" ',\n",
       " 'tf',\n",
       " 'n/',\n",
       " 'n2',\n",
       " '),',\n",
       " 'ah',\n",
       " '“g',\n",
       " 'x8',\n",
       " 'kü',\n",
       " '8-',\n",
       " 'sh',\n",
       " 'sq',\n",
       " 'u.',\n",
       " 'tw',\n",
       " 'rm',\n",
       " 'ea',\n",
       " 'fg',\n",
       " 'uk',\n",
       " 'c,',\n",
       " 'wn',\n",
       " 's)',\n",
       " '24',\n",
       " 'cx',\n",
       " '&e',\n",
       " '\".',\n",
       " 'e(',\n",
       " 'd’',\n",
       " 'dr',\n",
       " 'oy',\n",
       " 'ar',\n",
       " '14',\n",
       " '17',\n",
       " 's’',\n",
       " 'ce',\n",
       " 'xe',\n",
       " 'h)',\n",
       " 'oz',\n",
       " 'cs',\n",
       " 'g-',\n",
       " '(o',\n",
       " 'th',\n",
       " 'ax',\n",
       " 'a,',\n",
       " 'be',\n",
       " 'io',\n",
       " '妒是',\n",
       " '\"i',\n",
       " '0-',\n",
       " '/c',\n",
       " 'l’',\n",
       " 'p)',\n",
       " 'm…',\n",
       " 'ad',\n",
       " 'lt',\n",
       " ' u',\n",
       " 'ga',\n",
       " 'l.',\n",
       " '//',\n",
       " '5%',\n",
       " 'o\"',\n",
       " 'm\"',\n",
       " 'y.',\n",
       " 'ya',\n",
       " 'lr',\n",
       " '/s',\n",
       " 'jf',\n",
       " '(c',\n",
       " '#m',\n",
       " 'r1',\n",
       " '18',\n",
       " 'r)',\n",
       " 'i\"',\n",
       " 'nç',\n",
       " \"n'\",\n",
       " 'ul',\n",
       " \"' \",\n",
       " '(&',\n",
       " 'de',\n",
       " 'n\"',\n",
       " 'a.',\n",
       " 'mt',\n",
       " '4t',\n",
       " \"x'\",\n",
       " 'go',\n",
       " '\")',\n",
       " '45',\n",
       " '/d',\n",
       " '2g',\n",
       " 'rn',\n",
       " 'do',\n",
       " 'xf',\n",
       " 'ep',\n",
       " \"'r\",\n",
       " 'e’',\n",
       " 'uc',\n",
       " 'a ',\n",
       " '5:',\n",
       " '10',\n",
       " 'cy',\n",
       " '-3',\n",
       " 'r-',\n",
       " 'ua',\n",
       " 'p-',\n",
       " '88',\n",
       " 'hi',\n",
       " '-1',\n",
       " '86',\n",
       " '5.',\n",
       " '-a',\n",
       " 'ko',\n",
       " ' m',\n",
       " 'hp',\n",
       " '7t',\n",
       " 'm.',\n",
       " 'oe',\n",
       " '1 ',\n",
       " 'm?',\n",
       " ').',\n",
       " 'xl',\n",
       " 's/',\n",
       " '$9',\n",
       " 'vh',\n",
       " 'we',\n",
       " 'vf',\n",
       " '.p',\n",
       " ' k',\n",
       " 'oc',\n",
       " '-s',\n",
       " '”?',\n",
       " 'a\"',\n",
       " ' s',\n",
       " 'ig',\n",
       " 'nk',\n",
       " '1.',\n",
       " 'yd',\n",
       " 'up',\n",
       " 'ks',\n",
       " 'y:',\n",
       " 'cé',\n",
       " 'av',\n",
       " '93',\n",
       " 'uo',\n",
       " 'na',\n",
       " 'y-',\n",
       " '’,',\n",
       " '..',\n",
       " '5-',\n",
       " '\"t',\n",
       " 'ho',\n",
       " 'ue',\n",
       " '“w',\n",
       " 'o.',\n",
       " '.2',\n",
       " 'ln',\n",
       " 'dj',\n",
       " 'o’',\n",
       " '4,',\n",
       " '’?',\n",
       " 'f*',\n",
       " 'tn',\n",
       " '\"e',\n",
       " '0k',\n",
       " 'f ',\n",
       " 'zi',\n",
       " 'l,',\n",
       " '。\"',\n",
       " ' 3',\n",
       " 'cq',\n",
       " 'e]',\n",
       " 'ps',\n",
       " 'pp',\n",
       " 'al',\n",
       " 'k?',\n",
       " '16',\n",
       " 'sr',\n",
       " 'i-',\n",
       " 'h ',\n",
       " '’r',\n",
       " 'l ',\n",
       " 'g/',\n",
       " 'ph',\n",
       " 'fi',\n",
       " 'e”',\n",
       " 'n\\u200b',\n",
       " '5s',\n",
       " 'hw',\n",
       " '*k',\n",
       " \"'é\",\n",
       " 'ed',\n",
       " '-t',\n",
       " 'id',\n",
       " '\\xa0t',\n",
       " ' “',\n",
       " 'or',\n",
       " 'g\"',\n",
       " 'h-',\n",
       " 'ki',\n",
       " '92',\n",
       " '“f',\n",
       " 'fs',\n",
       " '(t',\n",
       " 'd ',\n",
       " 'ov',\n",
       " 'on',\n",
       " 'tj',\n",
       " 'fr',\n",
       " ' e',\n",
       " 'pl',\n",
       " 't?',\n",
       " 'lp',\n",
       " 'lk',\n",
       " 'tq',\n",
       " '(m',\n",
       " '8?',\n",
       " \"e'\",\n",
       " 'h\"',\n",
       " 'xp',\n",
       " '‘r',\n",
       " 'e\"',\n",
       " ') ',\n",
       " 'kl',\n",
       " 'h2',\n",
       " 'w2',\n",
       " 'bt',\n",
       " 'yi',\n",
       " \"y'\",\n",
       " '\"a',\n",
       " 'n-',\n",
       " '8,',\n",
       " '/l',\n",
       " 'w-',\n",
       " 'rt',\n",
       " '(b',\n",
       " '嫉妒',\n",
       " ' 8',\n",
       " 'yb',\n",
       " 'za',\n",
       " 't”',\n",
       " 'eq',\n",
       " '\"v',\n",
       " 'd\\xa0',\n",
       " 'uy',\n",
       " '.d',\n",
       " '.h',\n",
       " 'eb',\n",
       " 'ik',\n",
       " ' 5',\n",
       " 'ru',\n",
       " ' \"',\n",
       " 'bb',\n",
       " 'df',\n",
       " '/u',\n",
       " 'k,',\n",
       " 'z ',\n",
       " 'ts',\n",
       " '…e',\n",
       " 'cg',\n",
       " 'lf',\n",
       " 'sy',\n",
       " 'lo',\n",
       " 'ny',\n",
       " 't\\u200b',\n",
       " '73',\n",
       " 's-',\n",
       " 'bi',\n",
       " '/o',\n",
       " 'bg',\n",
       " 've',\n",
       " 'dw',\n",
       " 'il',\n",
       " 'ai',\n",
       " '[河',\n",
       " 'rc',\n",
       " '.9',\n",
       " '5/',\n",
       " 'tv',\n",
       " 's”',\n",
       " '76',\n",
       " 's.',\n",
       " 'wy',\n",
       " \"i'\",\n",
       " 'gh',\n",
       " '-w',\n",
       " 'aa',\n",
       " 'yl',\n",
       " 'bc',\n",
       " \"a'\",\n",
       " 'tc',\n",
       " 'gd',\n",
       " 'qe',\n",
       " 'ms',\n",
       " 'hn',\n",
       " 'l-',\n",
       " '50',\n",
       " \"'p\",\n",
       " \"'?\",\n",
       " 'cc',\n",
       " 'zo',\n",
       " 'x,',\n",
       " '/t',\n",
       " 'fl',\n",
       " 'wi',\n",
       " 'ol',\n",
       " 'qs',\n",
       " ' ‘',\n",
       " '.3',\n",
       " '\"d',\n",
       " 'd\"',\n",
       " '-5',\n",
       " ...}"
      ]
     },
     "execution_count": 63,
     "metadata": {},
     "output_type": "execute_result"
    }
   ],
   "source": [
    "all_2_grams_letters"
   ]
  },
  {
   "cell_type": "code",
   "execution_count": 64,
   "metadata": {},
   "outputs": [
    {
     "data": {
      "text/plain": [
       "1204"
      ]
     },
     "execution_count": 64,
     "metadata": {},
     "output_type": "execute_result"
    }
   ],
   "source": [
    "len(all_2_grams_letters)"
   ]
  },
  {
   "cell_type": "code",
   "execution_count": 65,
   "metadata": {},
   "outputs": [],
   "source": [
    "for letter in all_2_grams_letters:\n",
    "    train[letter] = [sum([1 for l in question if l == letter]) for question in train[\"question_text\"]]\n",
    "    test[letter] = [sum([1 for l in question if l == letter]) for question in test[\"question_text\"]]"
   ]
  },
  {
   "cell_type": "markdown",
   "metadata": {},
   "source": [
    "Now let see, if there is any predictive validity in this."
   ]
  },
  {
   "cell_type": "code",
   "execution_count": 66,
   "metadata": {},
   "outputs": [
    {
     "data": {
      "text/plain": [
       "0.5"
      ]
     },
     "execution_count": 66,
     "metadata": {},
     "output_type": "execute_result"
    }
   ],
   "source": [
    "log_len_letter = LogisticRegression(solver=\"lbfgs\", max_iter=10000)\n",
    "log_len_letter = log_len_letter.fit(numpy.array(train[list(all_2_grams_letters)]).reshape(-1, len(all_2_grams_letters)), train[\"target\"])\n",
    "log_len_letter_prediction = log_len_letter.predict(numpy.array(test[list(all_2_grams_letters)]).reshape(-1, len(all_2_grams_letters)))\n",
    "log_len_letter_confusion_matrix = confusion_matrix(test[\"target\"], log_len_letter_prediction)\n",
    "log_len_letter_confusion_matrix\n",
    "(log_len_letter_confusion_matrix[0][0] + log_len_letter_confusion_matrix[1][1])/sum(sum(log_len_letter_confusion_matrix))"
   ]
  },
  {
   "cell_type": "markdown",
   "metadata": {},
   "source": [
    "And the answer seems to be no, so I am not going to analize it with higher level n-grams based on letters. "
   ]
  },
  {
   "cell_type": "markdown",
   "metadata": {},
   "source": [
    "## <a name=\"words\">Analysis based on Words</a>"
   ]
  },
  {
   "cell_type": "markdown",
   "metadata": {},
   "source": [
    "### <a name=\"stopwords\">Number of stop words in a sentence</a>"
   ]
  },
  {
   "cell_type": "markdown",
   "metadata": {},
   "source": [
    "Next I am going to see, if there are any stopwords in the sentence and count how many are these. These are usually functunal words, or very frequent ones."
   ]
  },
  {
   "cell_type": "code",
   "execution_count": 67,
   "metadata": {},
   "outputs": [],
   "source": [
    "stopWords = set(stopwords.words('english'))"
   ]
  },
  {
   "cell_type": "code",
   "execution_count": 68,
   "metadata": {},
   "outputs": [
    {
     "data": {
      "text/plain": [
       "(4.391111111111111, 6.647777777777778)"
      ]
     },
     "execution_count": 68,
     "metadata": {},
     "output_type": "execute_result"
    }
   ],
   "source": [
    "train[\"stopwords\"] = [len([word for word in word_tokenize(question) if len(word) > 1 and word in stopWords]) for question in train[\"question_text\"]]\n",
    "test[\"stopwords\"] = [len([word for word in word_tokenize(question) if len(word) > 1 and word in stopWords]) for question in test[\"question_text\"]]\n",
    "numpy.mean(train.query('target == 0')[\"stopwords\"]), numpy.mean(train.query('target == 1')[\"stopwords\"])"
   ]
  },
  {
   "cell_type": "markdown",
   "metadata": {},
   "source": [
    "Well, there seems to be some difference. Let us try now, how well does it do predicting. "
   ]
  },
  {
   "cell_type": "code",
   "execution_count": 69,
   "metadata": {},
   "outputs": [
    {
     "data": {
      "text/plain": [
       "0.625"
      ]
     },
     "execution_count": 69,
     "metadata": {},
     "output_type": "execute_result"
    }
   ],
   "source": [
    "log_len_letter = LogisticRegression(solver=\"lbfgs\", max_iter=10000)\n",
    "log_len_letter = log_len_letter.fit(numpy.array(train[\"stopwords\"]).reshape(-1, 1), train[\"target\"])\n",
    "log_len_letter_prediction = log_len_letter.predict(numpy.array(test[\"stopwords\"]).reshape(-1, 1))\n",
    "log_len_letter_confusion_matrix = confusion_matrix(test[\"target\"], log_len_letter_prediction)\n",
    "log_len_letter_confusion_matrix\n",
    "(log_len_letter_confusion_matrix[0][0] + log_len_letter_confusion_matrix[1][1])/sum(sum(log_len_letter_confusion_matrix))"
   ]
  },
  {
   "cell_type": "markdown",
   "metadata": {},
   "source": [
    "Well, it seems to have some predictive validity. It can predict it to the 62%. "
   ]
  },
  {
   "cell_type": "markdown",
   "metadata": {},
   "source": [
    "## <a name=\"phonetics\">Phonetics</a>"
   ]
  },
  {
   "cell_type": "markdown",
   "metadata": {},
   "source": [
    "More for fun than anything else, I am also going to try and include some phonetics. It is supposed to be an important part of lingustics, but I don't really know much about it."
   ]
  },
  {
   "cell_type": "code",
   "execution_count": 70,
   "metadata": {},
   "outputs": [],
   "source": [
    "from subprocess import check_output"
   ]
  },
  {
   "cell_type": "markdown",
   "metadata": {},
   "source": [
    "This is how the phonetics of a sentence are then shown:"
   ]
  },
  {
   "cell_type": "code",
   "execution_count": 72,
   "metadata": {},
   "outputs": [
    {
     "data": {
      "text/plain": [
       "' ˈɑːlɪvɚ kwˈiːn ɪz ðə mˈeɪɚ ðætðə stˈɑːɹlɪŋ sˈɪɾi dɪzˈɜːvz\\n'"
      ]
     },
     "execution_count": 72,
     "metadata": {},
     "output_type": "execute_result"
    }
   ],
   "source": [
    "check_output([\"espeak\", \"-q\", \"--ipa\", '-v', 'en-us', \"Oliver Queen is the mayor that the Starling City deserves\"]).decode('utf-8')"
   ]
  },
  {
   "cell_type": "markdown",
   "metadata": {},
   "source": [
    "The ː prepresents the long sound, so I can calculate, how many long sounds are in the questions."
   ]
  },
  {
   "cell_type": "code",
   "execution_count": 73,
   "metadata": {},
   "outputs": [],
   "source": [
    "train[\"longsound\"] = [len([letter for letter in check_output([\"espeak\", \"-q\", \"--ipa\", '-v', 'en-us', question]).decode('utf-8') if letter == \"ː\"]) for question in train[\"question_text\"]]\n",
    "test[\"longsound\"] = [len([letter for letter in check_output([\"espeak\", \"-q\", \"--ipa\", '-v', 'en-us', question]).decode('utf-8') if letter == \"ː\"])for question in test[\"question_text\"]]"
   ]
  },
  {
   "cell_type": "code",
   "execution_count": 74,
   "metadata": {},
   "outputs": [
    {
     "data": {
      "text/plain": [
       "(3.5522222222222224, 5.03)"
      ]
     },
     "execution_count": 74,
     "metadata": {},
     "output_type": "execute_result"
    }
   ],
   "source": [
    "numpy.mean(train.query('target == 0')[\"longsound\"]), numpy.mean(train.query('target == 1')[\"longsound\"])"
   ]
  },
  {
   "cell_type": "markdown",
   "metadata": {},
   "source": [
    "And surprisingly, there is a difference. So lets see how well can this predict the data. "
   ]
  },
  {
   "cell_type": "code",
   "execution_count": 75,
   "metadata": {},
   "outputs": [
    {
     "data": {
      "text/plain": [
       "0.54"
      ]
     },
     "execution_count": 75,
     "metadata": {},
     "output_type": "execute_result"
    }
   ],
   "source": [
    "log_len_letter = LogisticRegression(solver=\"lbfgs\", max_iter=10000)\n",
    "log_len_letter = log_len_letter.fit(numpy.array(train[\"longsound\"]).reshape(-1, 1), train[\"target\"])\n",
    "log_len_letter_prediction = log_len_letter.predict(numpy.array(test[\"longsound\"]).reshape(-1, 1))\n",
    "log_len_letter_confusion_matrix = confusion_matrix(test[\"target\"], log_len_letter_prediction)\n",
    "log_len_letter_confusion_matrix\n",
    "(log_len_letter_confusion_matrix[0][0] + log_len_letter_confusion_matrix[1][1])/sum(sum(log_len_letter_confusion_matrix))"
   ]
  },
  {
   "cell_type": "markdown",
   "metadata": {},
   "source": [
    "Well, the difference is relativly small. That is too bad. "
   ]
  },
  {
   "cell_type": "markdown",
   "metadata": {},
   "source": [
    "I can also check the number of sounds in the sentence (which could be different from the number of letters, when we are dealing with the langauge like English)."
   ]
  },
  {
   "cell_type": "code",
   "execution_count": 76,
   "metadata": {},
   "outputs": [],
   "source": [
    "train[\"phonlength\"] = [len([letter for letter in check_output([\"espeak\", \"-q\", \"--ipa\", '-v', 'en-us', question]).decode('utf-8')]) for question in train[\"question_text\"]]\n",
    "test[\"phonlength\"] = [len([letter for letter in check_output([\"espeak\", \"-q\", \"--ipa\", '-v', 'en-us', question]).decode('utf-8')])for question in test[\"question_text\"]]"
   ]
  },
  {
   "cell_type": "code",
   "execution_count": 77,
   "metadata": {},
   "outputs": [
    {
     "data": {
      "text/plain": [
       "(78.73777777777778, 110.77888888888889)"
      ]
     },
     "execution_count": 77,
     "metadata": {},
     "output_type": "execute_result"
    }
   ],
   "source": [
    "numpy.mean(train.query('target == 0')[\"phonlength\"]), numpy.mean(train.query('target == 1')[\"phonlength\"])"
   ]
  },
  {
   "cell_type": "markdown",
   "metadata": {},
   "source": [
    "Just like with letters, there is a difference. But how big is it really?"
   ]
  },
  {
   "cell_type": "code",
   "execution_count": 78,
   "metadata": {},
   "outputs": [
    {
     "data": {
      "text/plain": [
       "0.63"
      ]
     },
     "execution_count": 78,
     "metadata": {},
     "output_type": "execute_result"
    }
   ],
   "source": [
    "log_len_letter = LogisticRegression(solver=\"lbfgs\", max_iter=10000)\n",
    "log_len_letter = log_len_letter.fit(numpy.array(train[\"phonlength\"]).reshape(-1, 1), train[\"target\"])\n",
    "log_len_letter_prediction = log_len_letter.predict(numpy.array(test[\"phonlength\"]).reshape(-1, 1))\n",
    "log_len_letter_confusion_matrix = confusion_matrix(test[\"target\"], log_len_letter_prediction)\n",
    "log_len_letter_confusion_matrix\n",
    "(log_len_letter_confusion_matrix[0][0] + log_len_letter_confusion_matrix[1][1])/sum(sum(log_len_letter_confusion_matrix))"
   ]
  },
  {
   "cell_type": "markdown",
   "metadata": {},
   "source": [
    "Well, better than the long sounds, but it actually faired a bit less well, than the length based just on letters. "
   ]
  },
  {
   "cell_type": "markdown",
   "metadata": {},
   "source": [
    "### <a name=\"typeofsounds\">Type of sounds</a>"
   ]
  },
  {
   "cell_type": "markdown",
   "metadata": {},
   "source": [
    "Types of sounds also have a different effect on the psychology of people. This can allow them to produce different effects. So maybe people that want to be taken seriouslly use different phonology than people staring the flame wars. "
   ]
  },
  {
   "cell_type": "markdown",
   "metadata": {},
   "source": [
    "This is the citation, that was in my notes: "
   ]
  },
  {
   "cell_type": "markdown",
   "metadata": {},
   "source": [
    "*\"Among the discoveries Leben made: Fricatives convey “faster” and “smaller” — as do vowels that are voiced near the front of the mouth, like the a in “bat” or the i in “hid.” Plosives, or stops, convey “slower” and “bigger” — as do vowels that are voiced at the back of the throat, like the o in “token” or the double o’s in “food.” So-called voiceless stops like k, p, and t are more alive and daring than voiced stops like b, d and g, while the voiceless convey less luxury than the voiced. And all sound-symbolic effects manifest differently depending on context. They take on properties of the product being named.\"*"
   ]
  },
  {
   "cell_type": "markdown",
   "metadata": {},
   "source": [
    "I used the IPA chart from: http://www.internationalphoneticalphabet.org/ipa-sounds/ipa-chart-with-sounds/"
   ]
  },
  {
   "cell_type": "code",
   "execution_count": 79,
   "metadata": {},
   "outputs": [],
   "source": [
    "phonology_front = \"iyɪʏeøɛæ\"\n",
    "phonology_back = \"ɨʉʊɘɵəœɜɞɐaä\"\n",
    "phonology_plosive = \"pbtd\"\n",
    "phonology_frictive = \"ɸβfvθðszʃʒ\"\n",
    "phonology_nasal = \"mɱn\"\n",
    "phonology_lat_frictive = \"ɬɮ\""
   ]
  },
  {
   "cell_type": "code",
   "execution_count": 80,
   "metadata": {},
   "outputs": [],
   "source": [
    "def get_phonological_groups(text):\n",
    "    fast_list = phonology_front + phonology_frictive + phonology_lat_frictive\n",
    "    slow_list = phonology_back + phonology_nasal + phonology_plosive\n",
    "    i = j = 0\n",
    "    for fast in fast_list:\n",
    "        i += len([1 for letter in text if fast])\n",
    "    for slow in slow_list:\n",
    "        j += len([1 for letter in text if fast])\n",
    "    return i, j"
   ]
  },
  {
   "cell_type": "code",
   "execution_count": 81,
   "metadata": {},
   "outputs": [],
   "source": [
    "train[\"phon_fast\"] = [get_phonological_groups(question)[0] for question in train[\"question_text\"]]\n",
    "test[\"phon_fast\"] = [get_phonological_groups(question)[0] for question in test[\"question_text\"]]\n",
    "train[\"phon_slow\"] = [get_phonological_groups(question)[1] for question in train[\"question_text\"]]\n",
    "test[\"phon_slow\"] = [get_phonological_groups(question)[1] for question in test[\"question_text\"]]\n",
    "train[\"phon_speed_ratio\"] = train[\"phon_fast\"]/train[\"phon_slow\"]\n",
    "test[\"phon_speed_ratio\"] = test[\"phon_fast\"]/test[\"phon_slow\"]"
   ]
  },
  {
   "cell_type": "markdown",
   "metadata": {},
   "source": [
    "Let us see, if there are some differences based on this."
   ]
  },
  {
   "cell_type": "code",
   "execution_count": 82,
   "metadata": {},
   "outputs": [
    {
     "data": {
      "text/plain": [
       "(1338.2444444444445, 1952.4666666666667)"
      ]
     },
     "execution_count": 82,
     "metadata": {},
     "output_type": "execute_result"
    }
   ],
   "source": [
    "numpy.mean(train.query('target == 0')[\"phon_fast\"]), numpy.mean(train.query('target == 1')[\"phon_fast\"])"
   ]
  },
  {
   "cell_type": "code",
   "execution_count": 83,
   "metadata": {},
   "outputs": [
    {
     "data": {
      "text/plain": [
       "(1271.3322222222223, 1854.8433333333332)"
      ]
     },
     "execution_count": 83,
     "metadata": {},
     "output_type": "execute_result"
    }
   ],
   "source": [
    "numpy.mean(train.query('target == 0')[\"phon_slow\"]), numpy.mean(train.query('target == 1')[\"phon_slow\"])"
   ]
  },
  {
   "cell_type": "code",
   "execution_count": 84,
   "metadata": {},
   "outputs": [
    {
     "data": {
      "text/plain": [
       "(1.0526315789473684, 1.0526315789473684)"
      ]
     },
     "execution_count": 84,
     "metadata": {},
     "output_type": "execute_result"
    }
   ],
   "source": [
    "numpy.mean(train.query('target == 0')[\"phon_speed_ratio\"]), numpy.mean(train.query('target == 1')[\"phon_speed_ratio\"])"
   ]
  },
  {
   "cell_type": "markdown",
   "metadata": {},
   "source": [
    "Considering the ratio is basically the same, the difference is probablly just the result of different lengths. "
   ]
  },
  {
   "cell_type": "markdown",
   "metadata": {},
   "source": [
    "## <a name=\"morphology\">Morphology</a>"
   ]
  },
  {
   "cell_type": "markdown",
   "metadata": {},
   "source": [
    "### <a name=\"morphologypinker\">Morphology - Pinker Example</a>"
   ]
  },
  {
   "cell_type": "markdown",
   "metadata": {},
   "source": [
    "In the book The Language Instinkt, Pinker mentiones how English is morphologically rich, when it comes to creating words from different types of words. For example, fish can be used as noun (the fish) but also as a verb (to fish). He also produces the number of word endings, that English is using to do this. This list is what I am going to use here. "
   ]
  },
  {
   "cell_type": "code",
   "execution_count": 85,
   "metadata": {},
   "outputs": [],
   "source": [
    "word_add_ons = [\"able\", \"age\", \"al\", \"an\", \"ant\", \"ance\", \"ary\", \"ate\", \"ed\", \"en\", \"er\", \"ful\", \"hood\", \n",
    "                \"ic\", \"ify\", \"ion\", \"ish\", \"ism\", \"iest\", \"ity\", \"ive\", \"ize\", \"ly\", \"ment\", \"ness\", \"ory\",\n",
    "               \"ous\", \"y\"]"
   ]
  },
  {
   "cell_type": "code",
   "execution_count": 86,
   "metadata": {},
   "outputs": [],
   "source": [
    "def find_all_addons(words_add_ons, text):\n",
    "    all_examples = 0\n",
    "    for add_on in words_add_ons:\n",
    "        all_examples += len(re.findall(add_on, text))\n",
    "    return all_examples"
   ]
  },
  {
   "cell_type": "code",
   "execution_count": 87,
   "metadata": {},
   "outputs": [],
   "source": [
    "train[\"morphologypinker\"] = [find_all_addons(word_add_ons, question) for question in train[\"question_text\"]]\n",
    "test[\"morphologypinker\"] = [find_all_addons(word_add_ons, question) for question in test[\"question_text\"]]"
   ]
  },
  {
   "cell_type": "code",
   "execution_count": 88,
   "metadata": {},
   "outputs": [
    {
     "data": {
      "text/plain": [
       "(5.11, 8.027777777777779)"
      ]
     },
     "execution_count": 88,
     "metadata": {},
     "output_type": "execute_result"
    }
   ],
   "source": [
    "numpy.mean(train.query('target == 0')[\"morphologypinker\"]), numpy.mean(train.query('target == 1')[\"morphologypinker\"])"
   ]
  },
  {
   "cell_type": "markdown",
   "metadata": {},
   "source": [
    "And it seems that there is some difference again. But let me check, how predictive it is. "
   ]
  },
  {
   "cell_type": "code",
   "execution_count": 89,
   "metadata": {},
   "outputs": [
    {
     "data": {
      "text/plain": [
       "0.65"
      ]
     },
     "execution_count": 89,
     "metadata": {},
     "output_type": "execute_result"
    }
   ],
   "source": [
    "log_len_letter = LogisticRegression(solver=\"lbfgs\", max_iter=10000)\n",
    "log_len_letter = log_len_letter.fit(numpy.array(train[\"morphologypinker\"]).reshape(-1, 1), train[\"target\"])\n",
    "log_len_letter_prediction = log_len_letter.predict(numpy.array(test[\"morphologypinker\"]).reshape(-1, 1))\n",
    "log_len_letter_confusion_matrix = confusion_matrix(test[\"target\"], log_len_letter_prediction)\n",
    "log_len_letter_confusion_matrix\n",
    "(log_len_letter_confusion_matrix[0][0] + log_len_letter_confusion_matrix[1][1])/sum(sum(log_len_letter_confusion_matrix))"
   ]
  },
  {
   "cell_type": "markdown",
   "metadata": {},
   "source": [
    "Well, I think that by now I can say that most things are predictive in about this rang. "
   ]
  },
  {
   "cell_type": "markdown",
   "metadata": {},
   "source": [
    "## <a name=\"pos\">Parts of Speech</a>"
   ]
  },
  {
   "cell_type": "markdown",
   "metadata": {},
   "source": [
    "Let me now try the parts of speech tagging. I am hoping that this will allow me a clean way of tagging nouns, since I have a idea or two, that I want to try with it later. "
   ]
  },
  {
   "cell_type": "code",
   "execution_count": 90,
   "metadata": {},
   "outputs": [],
   "source": [
    "all_tags = set()\n",
    "_ = [[all_tags.add(tag) for word, tag in pos_tag(word_tokenize(question), tagset=\"universal\")] for question in train[\"question_text\"]]"
   ]
  },
  {
   "cell_type": "code",
   "execution_count": 91,
   "metadata": {},
   "outputs": [
    {
     "data": {
      "text/plain": [
       "{'.',\n",
       " 'ADJ',\n",
       " 'ADP',\n",
       " 'ADV',\n",
       " 'CONJ',\n",
       " 'DET',\n",
       " 'NOUN',\n",
       " 'NUM',\n",
       " 'PRON',\n",
       " 'PRT',\n",
       " 'VERB',\n",
       " 'X'}"
      ]
     },
     "execution_count": 91,
     "metadata": {},
     "output_type": "execute_result"
    }
   ],
   "source": [
    "all_tags"
   ]
  },
  {
   "cell_type": "code",
   "execution_count": 92,
   "metadata": {},
   "outputs": [],
   "source": [
    "for current_tag in all_tags:\n",
    "    train[\"tag_\" + current_tag] = [len([tag for word, tag in pos_tag(word_tokenize(question), tagset=\"universal\") if tag==current_tag])for question in train[\"question_text\"]]\n",
    "    test[\"tag_\" + current_tag] = [len([tag for word, tag in pos_tag(word_tokenize(question), tagset=\"universal\") if tag==current_tag])for question in test[\"question_text\"]]"
   ]
  },
  {
   "cell_type": "markdown",
   "metadata": {},
   "source": [
    "Let us now see, if there are any big differences in the three most prominent groups: nouns, adjectives and verbs."
   ]
  },
  {
   "cell_type": "code",
   "execution_count": 93,
   "metadata": {},
   "outputs": [
    {
     "data": {
      "text/plain": [
       "(3.482222222222222, 5.007777777777778)"
      ]
     },
     "execution_count": 93,
     "metadata": {},
     "output_type": "execute_result"
    }
   ],
   "source": [
    "numpy.mean(train.query('target == 0')[\"tag_NOUN\"]), numpy.mean(train.query('target == 1')[\"tag_NOUN\"])"
   ]
  },
  {
   "cell_type": "code",
   "execution_count": 94,
   "metadata": {},
   "outputs": [
    {
     "data": {
      "text/plain": [
       "(0.9988888888888889, 1.4955555555555555)"
      ]
     },
     "execution_count": 94,
     "metadata": {},
     "output_type": "execute_result"
    }
   ],
   "source": [
    "numpy.mean(train.query('target == 0')[\"tag_ADJ\"]), numpy.mean(train.query('target == 1')[\"tag_ADJ\"])"
   ]
  },
  {
   "cell_type": "code",
   "execution_count": 95,
   "metadata": {},
   "outputs": [
    {
     "data": {
      "text/plain": [
       "(2.5533333333333332, 3.758888888888889)"
      ]
     },
     "execution_count": 95,
     "metadata": {},
     "output_type": "execute_result"
    }
   ],
   "source": [
    "numpy.mean(train.query('target == 0')[\"tag_VERB\"]), numpy.mean(train.query('target == 1')[\"tag_VERB\"])"
   ]
  },
  {
   "cell_type": "markdown",
   "metadata": {},
   "source": [
    "There seems to be some minimal differences. Let me now also check with the logistic regression."
   ]
  },
  {
   "cell_type": "code",
   "execution_count": 96,
   "metadata": {},
   "outputs": [],
   "source": [
    "tag_names = [\"tag_\" + tag for tag in all_tags]"
   ]
  },
  {
   "cell_type": "code",
   "execution_count": 97,
   "metadata": {},
   "outputs": [
    {
     "data": {
      "text/plain": [
       "0.675"
      ]
     },
     "execution_count": 97,
     "metadata": {},
     "output_type": "execute_result"
    }
   ],
   "source": [
    "log_len_letter = LogisticRegression(solver=\"lbfgs\", max_iter=10000)\n",
    "log_len_letter = log_len_letter.fit(numpy.array(train[tag_names]).reshape(-1, len(tag_names)), train[\"target\"])\n",
    "log_len_letter_prediction = log_len_letter.predict(numpy.array(test[tag_names]).reshape(-1, len(tag_names)))\n",
    "log_len_letter_confusion_matrix = confusion_matrix(test[\"target\"], log_len_letter_prediction)\n",
    "log_len_letter_confusion_matrix\n",
    "(log_len_letter_confusion_matrix[0][0] + log_len_letter_confusion_matrix[1][1])/sum(sum(log_len_letter_confusion_matrix))"
   ]
  },
  {
   "cell_type": "markdown",
   "metadata": {},
   "source": [
    "Well, there is at least some predictive validity in this. "
   ]
  },
  {
   "cell_type": "markdown",
   "metadata": {},
   "source": [
    "## <a name=\"diversity\">Lexical Diversity</a>"
   ]
  },
  {
   "cell_type": "markdown",
   "metadata": {},
   "source": [
    "When I was reading the articles about the fanfiction, I have came accross the article that talked about lexical diversity. So I used the code from here: https://github.com/jfrens/lexical_diversity/, to calculate it."
   ]
  },
  {
   "cell_type": "code",
   "execution_count": 107,
   "metadata": {},
   "outputs": [
    {
     "ename": "ValueError",
     "evalue": "Input word list should be at least 50 in length",
     "output_type": "error",
     "traceback": [
      "\u001b[0;31m---------------------------------------------------------------------------\u001b[0m",
      "\u001b[0;31mValueError\u001b[0m                                Traceback (most recent call last)",
      "\u001b[0;32m<ipython-input-107-c6bbbcc57386>\u001b[0m in \u001b[0;36m<module>\u001b[0;34m\u001b[0m\n\u001b[0;32m----> 1\u001b[0;31m \u001b[0mtrain\u001b[0m\u001b[0;34m[\u001b[0m\u001b[0;34m\"lexical_diversity\"\u001b[0m\u001b[0;34m]\u001b[0m \u001b[0;34m=\u001b[0m \u001b[0;34m[\u001b[0m\u001b[0mlexical_diversity\u001b[0m\u001b[0;34m.\u001b[0m\u001b[0mmtld\u001b[0m\u001b[0;34m(\u001b[0m\u001b[0mquestion\u001b[0m\u001b[0;34m.\u001b[0m\u001b[0msplit\u001b[0m\u001b[0;34m(\u001b[0m\u001b[0;34m)\u001b[0m\u001b[0;34m)\u001b[0m\u001b[0;34m*\u001b[0m\u001b[0;36m2\u001b[0m \u001b[0;32mfor\u001b[0m \u001b[0mquestion\u001b[0m \u001b[0;32min\u001b[0m \u001b[0mtrain\u001b[0m\u001b[0;34m[\u001b[0m\u001b[0;34m\"question_text\"\u001b[0m\u001b[0;34m]\u001b[0m\u001b[0;34m]\u001b[0m\u001b[0;34m\u001b[0m\u001b[0;34m\u001b[0m\u001b[0m\n\u001b[0m\u001b[1;32m      2\u001b[0m \u001b[0mtest\u001b[0m\u001b[0;34m[\u001b[0m\u001b[0;34m\"lexical_diversity\"\u001b[0m\u001b[0;34m]\u001b[0m \u001b[0;34m=\u001b[0m \u001b[0;34m[\u001b[0m\u001b[0mlexical_diversity\u001b[0m\u001b[0;34m.\u001b[0m\u001b[0mmtld\u001b[0m\u001b[0;34m(\u001b[0m\u001b[0mquestion\u001b[0m\u001b[0;34m.\u001b[0m\u001b[0msplit\u001b[0m\u001b[0;34m(\u001b[0m\u001b[0;34m)\u001b[0m\u001b[0;34m)\u001b[0m\u001b[0;34m*\u001b[0m\u001b[0;36m2\u001b[0m \u001b[0;32mfor\u001b[0m \u001b[0mquestion\u001b[0m \u001b[0;32min\u001b[0m \u001b[0mtest\u001b[0m\u001b[0;34m[\u001b[0m\u001b[0;34m\"question_text\"\u001b[0m\u001b[0;34m]\u001b[0m\u001b[0;34m]\u001b[0m\u001b[0;34m\u001b[0m\u001b[0;34m\u001b[0m\u001b[0m\n",
      "\u001b[0;32m<ipython-input-107-c6bbbcc57386>\u001b[0m in \u001b[0;36m<listcomp>\u001b[0;34m(.0)\u001b[0m\n\u001b[0;32m----> 1\u001b[0;31m \u001b[0mtrain\u001b[0m\u001b[0;34m[\u001b[0m\u001b[0;34m\"lexical_diversity\"\u001b[0m\u001b[0;34m]\u001b[0m \u001b[0;34m=\u001b[0m \u001b[0;34m[\u001b[0m\u001b[0mlexical_diversity\u001b[0m\u001b[0;34m.\u001b[0m\u001b[0mmtld\u001b[0m\u001b[0;34m(\u001b[0m\u001b[0mquestion\u001b[0m\u001b[0;34m.\u001b[0m\u001b[0msplit\u001b[0m\u001b[0;34m(\u001b[0m\u001b[0;34m)\u001b[0m\u001b[0;34m)\u001b[0m\u001b[0;34m*\u001b[0m\u001b[0;36m2\u001b[0m \u001b[0;32mfor\u001b[0m \u001b[0mquestion\u001b[0m \u001b[0;32min\u001b[0m \u001b[0mtrain\u001b[0m\u001b[0;34m[\u001b[0m\u001b[0;34m\"question_text\"\u001b[0m\u001b[0;34m]\u001b[0m\u001b[0;34m]\u001b[0m\u001b[0;34m\u001b[0m\u001b[0;34m\u001b[0m\u001b[0m\n\u001b[0m\u001b[1;32m      2\u001b[0m \u001b[0mtest\u001b[0m\u001b[0;34m[\u001b[0m\u001b[0;34m\"lexical_diversity\"\u001b[0m\u001b[0;34m]\u001b[0m \u001b[0;34m=\u001b[0m \u001b[0;34m[\u001b[0m\u001b[0mlexical_diversity\u001b[0m\u001b[0;34m.\u001b[0m\u001b[0mmtld\u001b[0m\u001b[0;34m(\u001b[0m\u001b[0mquestion\u001b[0m\u001b[0;34m.\u001b[0m\u001b[0msplit\u001b[0m\u001b[0;34m(\u001b[0m\u001b[0;34m)\u001b[0m\u001b[0;34m)\u001b[0m\u001b[0;34m*\u001b[0m\u001b[0;36m2\u001b[0m \u001b[0;32mfor\u001b[0m \u001b[0mquestion\u001b[0m \u001b[0;32min\u001b[0m \u001b[0mtest\u001b[0m\u001b[0;34m[\u001b[0m\u001b[0;34m\"question_text\"\u001b[0m\u001b[0;34m]\u001b[0m\u001b[0;34m]\u001b[0m\u001b[0;34m\u001b[0m\u001b[0;34m\u001b[0m\u001b[0m\n",
      "\u001b[0;32m/mnt/Files/AnalysisProject-Kaggle/lexical_diversity.py\u001b[0m in \u001b[0;36mmtld\u001b[0;34m(word_array, ttr_threshold)\u001b[0m\n\u001b[1;32m     46\u001b[0m         \u001b[0;32mraise\u001b[0m \u001b[0mValueError\u001b[0m\u001b[0;34m(\u001b[0m\u001b[0;34m\"Input should be a list of strings, rather than a string. Try using string.split()\"\u001b[0m\u001b[0;34m)\u001b[0m\u001b[0;34m\u001b[0m\u001b[0;34m\u001b[0m\u001b[0m\n\u001b[1;32m     47\u001b[0m     \u001b[0;32mif\u001b[0m \u001b[0mlen\u001b[0m\u001b[0;34m(\u001b[0m\u001b[0mword_array\u001b[0m\u001b[0;34m)\u001b[0m \u001b[0;34m<\u001b[0m \u001b[0;36m50\u001b[0m\u001b[0;34m:\u001b[0m\u001b[0;34m\u001b[0m\u001b[0;34m\u001b[0m\u001b[0m\n\u001b[0;32m---> 48\u001b[0;31m         \u001b[0;32mraise\u001b[0m \u001b[0mValueError\u001b[0m\u001b[0;34m(\u001b[0m\u001b[0;34m\"Input word list should be at least 50 in length\"\u001b[0m\u001b[0;34m)\u001b[0m\u001b[0;34m\u001b[0m\u001b[0;34m\u001b[0m\u001b[0m\n\u001b[0m\u001b[1;32m     49\u001b[0m     \u001b[0;32mreturn\u001b[0m \u001b[0;34m(\u001b[0m\u001b[0mmtld_calc\u001b[0m\u001b[0;34m(\u001b[0m\u001b[0mword_array\u001b[0m\u001b[0;34m,\u001b[0m \u001b[0mttr_threshold\u001b[0m\u001b[0;34m)\u001b[0m \u001b[0;34m+\u001b[0m \u001b[0mmtld_calc\u001b[0m\u001b[0;34m(\u001b[0m\u001b[0mword_array\u001b[0m\u001b[0;34m[\u001b[0m\u001b[0;34m:\u001b[0m\u001b[0;34m:\u001b[0m\u001b[0;34m-\u001b[0m\u001b[0;36m1\u001b[0m\u001b[0;34m]\u001b[0m\u001b[0;34m,\u001b[0m \u001b[0mttr_threshold\u001b[0m\u001b[0;34m)\u001b[0m\u001b[0;34m)\u001b[0m \u001b[0;34m/\u001b[0m \u001b[0;36m2\u001b[0m\u001b[0;34m\u001b[0m\u001b[0;34m\u001b[0m\u001b[0m\n\u001b[1;32m     50\u001b[0m \u001b[0;34m\u001b[0m\u001b[0m\n",
      "\u001b[0;31mValueError\u001b[0m: Input word list should be at least 50 in length"
     ]
    }
   ],
   "source": [
    "train[\"lexical_diversity\"] = [lexical_diversity.mtld(question.split()) for question in train[\"question_text\"]]\n",
    "test[\"lexical_diversity\"] = [lexical_diversity.mtld(question.split()) for question in test[\"question_text\"]]"
   ]
  },
  {
   "cell_type": "markdown",
   "metadata": {},
   "source": [
    "Sadly, because of the length, this did not work at all. "
   ]
  },
  {
   "cell_type": "markdown",
   "metadata": {},
   "source": [
    "## <a name=\"bayes\">Bayes Analysis of all Features</a>"
   ]
  },
  {
   "cell_type": "markdown",
   "metadata": {},
   "source": [
    "On the end, I will try to see, how good is the prediction, if all features are used. "
   ]
  },
  {
   "cell_type": "code",
   "execution_count": 113,
   "metadata": {},
   "outputs": [],
   "source": [
    "number_of_features = train.shape[1] - 3"
   ]
  },
  {
   "cell_type": "code",
   "execution_count": 114,
   "metadata": {},
   "outputs": [
    {
     "data": {
      "text/plain": [
       "array([[62, 38],\n",
       "       [23, 77]])"
      ]
     },
     "execution_count": 114,
     "metadata": {},
     "output_type": "execute_result"
    }
   ],
   "source": [
    "model_bayes = MultinomialNB()\n",
    "model_bayes = model_bayes.fit(numpy.array(train.iloc[:, 3:]).reshape(-1, number_of_features), train[\"target\"])\n",
    "model_bayes_prediction = model_bayes.predict(numpy.array(test.iloc[:, 3:]).reshape(-1, number_of_features))\n",
    "model_bayes_confusion_matrix = confusion_matrix(test[\"target\"], model_bayes_prediction)\n",
    "model_bayes_confusion_matrix"
   ]
  },
  {
   "cell_type": "code",
   "execution_count": 115,
   "metadata": {},
   "outputs": [
    {
     "data": {
      "text/plain": [
       "0.695"
      ]
     },
     "execution_count": 115,
     "metadata": {},
     "output_type": "execute_result"
    }
   ],
   "source": [
    "(model_bayes_confusion_matrix[0][0] + model_bayes_confusion_matrix[1][1])/sum(sum(model_bayes_confusion_matrix))"
   ]
  },
  {
   "cell_type": "markdown",
   "metadata": {},
   "source": [
    "## <a name=\"logistic\">Logistic Regression of all Features</a>"
   ]
  },
  {
   "cell_type": "code",
   "execution_count": 116,
   "metadata": {},
   "outputs": [
    {
     "data": {
      "text/plain": [
       "array([[71, 29],\n",
       "       [23, 77]])"
      ]
     },
     "execution_count": 116,
     "metadata": {},
     "output_type": "execute_result"
    }
   ],
   "source": [
    "model_logistic = LogisticRegression(solver=\"lbfgs\", max_iter=10000)\n",
    "model_logistic = log_len_letter.fit(numpy.array(train.iloc[:, 3:]).reshape(-1, number_of_features), train[\"target\"])\n",
    "model_logistic_prediction = log_len_letter.predict(numpy.array(test.iloc[:, 3:]).reshape(-1, number_of_features))\n",
    "model_logistic_confusion_matrix = confusion_matrix(test[\"target\"], model_logistic_prediction)\n",
    "model_logistic_confusion_matrix"
   ]
  },
  {
   "cell_type": "code",
   "execution_count": 117,
   "metadata": {},
   "outputs": [
    {
     "data": {
      "text/plain": [
       "0.74"
      ]
     },
     "execution_count": 117,
     "metadata": {},
     "output_type": "execute_result"
    }
   ],
   "source": [
    "(model_logistic_confusion_matrix[0][0] + model_logistic_confusion_matrix[1][1])/sum(sum(model_logistic_confusion_matrix))"
   ]
  },
  {
   "cell_type": "code",
   "execution_count": null,
   "metadata": {},
   "outputs": [],
   "source": []
  }
 ],
 "metadata": {
  "kernelspec": {
   "display_name": "Python 3",
   "language": "python",
   "name": "python3"
  },
  "language_info": {
   "codemirror_mode": {
    "name": "ipython",
    "version": 3
   },
   "file_extension": ".py",
   "mimetype": "text/x-python",
   "name": "python",
   "nbconvert_exporter": "python",
   "pygments_lexer": "ipython3",
   "version": "3.7.2"
  }
 },
 "nbformat": 4,
 "nbformat_minor": 2
}
