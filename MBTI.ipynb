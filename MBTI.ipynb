{
 "cells": [
  {
   "cell_type": "markdown",
   "metadata": {},
   "source": [
    "# MBTI Analysis with Python"
   ]
  },
  {
   "cell_type": "code",
   "execution_count": 3,
   "metadata": {
    "collapsed": false
   },
   "outputs": [],
   "source": [
    "from bs4 import BeautifulSoup\n",
    "from sklearn.feature_extraction.text import TfidfTransformer, CountVectorizer\n",
    "from sklearn.svm import LinearSVC\n",
    "from sklearn.pipeline import Pipeline\n",
    "from sklearn.externals import joblib\n",
    "\n",
    "import urllib.request\n",
    "import re\n",
    "import matplotlib.pyplot as plt\n",
    "import numpy as np\n",
    "import random\n",
    "import sklearn"
   ]
  },
  {
   "cell_type": "markdown",
   "metadata": {},
   "source": [
    "## Scraping the Web for Text Information\n",
    "\n",
    "This part parses the front page of each subforum, and then extracts the text from the forum posts. \n",
    "\n",
    "The result looks like a TXT file for each type, with posts written inside, seperated by the three newlines."
   ]
  },
  {
   "cell_type": "code",
   "execution_count": 6,
   "metadata": {
    "collapsed": false
   },
   "outputs": [],
   "source": [
    "gettype = r\"\\b[A-Z]{4}\\b\"\n",
    "getpagenumber = r\"-(\\d*?)\\.html\"\n",
    "\n",
    "webpages = [\"http://personalitycafe.com/istj-forum-duty-fulfillers/\", \n",
    "            \"http://personalitycafe.com/intp-forum-thinkers/\",\n",
    "            \"http://personalitycafe.com/isfj-forum-nurturers/\",\n",
    "            \"http://personalitycafe.com/estj-forum-guardians/\",\n",
    "            \"http://personalitycafe.com/esfj-forum-caregivers/\",\n",
    "            \"http://personalitycafe.com/istp-forum-mechanics/\",\n",
    "            \"http://personalitycafe.com/isfp-forum-artists/\",\n",
    "            \"http://personalitycafe.com/estp-forum-doers/\",\n",
    "            \"http://personalitycafe.com/esfp-forum-performers/\",\n",
    "            \"http://personalitycafe.com/intj-forum-scientists/\",\n",
    "            \"http://personalitycafe.com/entj-forum-executives/\",\n",
    "            \"http://personalitycafe.com/entp-forum-visionaries/\",\n",
    "            \"http://personalitycafe.com/infj-forum-protectors/\",\n",
    "            \"http://personalitycafe.com/infp-forum-idealists/\",\n",
    "            \"http://personalitycafe.com/enfj-forum-givers/\",\n",
    "            \"http://personalitycafe.com/enfp-forum-inspirers/\"]\n",
    "\n",
    "def gettextfrompersonalitycaffee(webpage):\n",
    "    page = urllib.request.urlopen(webpage)\n",
    "    content = page.read()\n",
    "    soup = BeautifulSoup(content, 'html.parser')\n",
    "    allposts = soup.find_all(\"div\", class_=\"content\")\n",
    "    users = soup.find_all(\"div\", class_=\"userinfo\")\n",
    "    infos = zip(users, allposts)\n",
    "    for user, post in infos:\n",
    "        post = post.find_all(\"blockquote\")[0]\n",
    "        if \"<script>\" in post:\n",
    "            post = post.script.decompose()\n",
    "        post = post.get_text()\n",
    "        pertype = re.search(gettype, user.get_text())\n",
    "        if not pertype:\n",
    "            continue\n",
    "        pertype = pertype.group()\n",
    "        with open(pertype, \"a\") as write:\n",
    "            write.write(post)\n",
    "            write.write(\"\\n\\n\\n\\n\\n\")\n",
    "            \n",
    "def getnumberofpages(webpage):\n",
    "    page = urllib.request.urlopen(webpage)\n",
    "    content = page.read()\n",
    "    soup = BeautifulSoup(content, 'html.parser')\n",
    "    numbers = soup.find_all(\"span\", class_=\"first_last\")\n",
    "    if not numbers:\n",
    "        return None\n",
    "    link = numbers[-1].find_all(\"a\")\n",
    "    link = link[0].get(\"href\")\n",
    "    number = re.search(getpagenumber, link)\n",
    "    number = number.group().replace(\".html\", \"\").replace(\"-\", \"\")\n",
    "    return int(number)\n",
    "\n",
    "def getlinksfromfrontpage(webpage):\n",
    "    allthreads = []\n",
    "    page = urllib.request.urlopen(webpage)\n",
    "    content = page.read()\n",
    "    soup = BeautifulSoup(content, 'html.parser')\n",
    "    threads = soup.find_all(\"h3\", class_=\"threadtitle\")\n",
    "    for thread in threads:\n",
    "        link = thread.find_all(\"a\")\n",
    "        link = link[0].get(\"href\")\n",
    "        allthreads.append(link)\n",
    "    return allthreads\n",
    "\n",
    "def getallthreadlinks(website, number):\n",
    "    allwebsites = []\n",
    "    if not number:\n",
    "        return [website]\n",
    "    for i in range(number):\n",
    "        webpage = website.split(\".\")\n",
    "        webpage[-2] = webpage[-2] + \"-\" + str(i + 1)\n",
    "        webpage = \".\".join(webpage)\n",
    "        allwebsites.append(webpage)\n",
    "    return allwebsites\n",
    "\n",
    "for webpage in webpages:\n",
    "    alllinks = getlinksfromfrontpage(webpage)\n",
    "    for link in alllinks:\n",
    "        number = getnumberofpages(link)\n",
    "        if not number:\n",
    "            allthreadlinks = [link]\n",
    "        else:\n",
    "            allthreadlinks = getallthreadlinks(link, number)\n",
    "        for treadlink in allthreadlinks:\n",
    "            gettextfrompersonalitycaffee(treadlink)\n",
    "            break\n",
    "        break\n",
    "    break"
   ]
  },
  {
   "cell_type": "markdown",
   "metadata": {},
   "source": [
    "## Cleaning the Data\n",
    "\n",
    "Here I originally used vim:\n",
    "    \n",
    "    :%s/(function(w,d,s,i)/\\r(function(w,d,s,i)/g \n",
    "    :g/(function(w,d,s,i)/d\n",
    "        \n",
    "I did not think it through how to do it in python yet."
   ]
  },
  {
   "cell_type": "markdown",
   "metadata": {},
   "source": [
    "## Making Analysis"
   ]
  },
  {
   "cell_type": "code",
   "execution_count": 1,
   "metadata": {
    "collapsed": false
   },
   "outputs": [],
   "source": [
    "filenames = [\"ENFJ\",\n",
    "             \"ENFP\",\n",
    "             \"ENTJ\",\n",
    "             \"ENTP\",\n",
    "             \"ESFJ\",\n",
    "             \"ESFP\",\n",
    "             \"ESTJ\",\n",
    "             \"ESTP\",\n",
    "             \"INFJ\",\n",
    "             \"INFP\",\n",
    "             \"INTJ\",\n",
    "             \"INTP\",\n",
    "             \"ISFJ\",\n",
    "             \"ISFP\",\n",
    "             \"ISTJ\",\n",
    "             \"ISTP\"]\n",
    "\n",
    "texts = list()\n",
    "types = list()\n",
    "\n",
    "for filename in filenames:\n",
    "    with open(filename, \"r\") as read:\n",
    "        content = read.readlines()\n",
    "    content = \"\".join(content)\n",
    "    content = content.split(\"\\n\\n\\n\")\n",
    "    content = [post.strip() for post in content]\n",
    "    for post in content:\n",
    "        texts.append(post)\n",
    "        types.append(filename)"
   ]
  },
  {
   "cell_type": "code",
   "execution_count": 4,
   "metadata": {
    "collapsed": false
   },
   "outputs": [],
   "source": [
    "#preparing data for building the model\n",
    "data = [element for element in zip(texts, types)]\n",
    "random.shuffle(data)\n",
    "texts2 = [element[0] for element in data]\n",
    "types2 = [element[1] for element in data]\n",
    "\n",
    "number70 = int(round(len(texts2)*0.7,0))\n",
    "\n",
    "texts_train = texts2[:number70]\n",
    "types_train = types2[:number70]\n",
    "texts_test = texts2[number70:]\n",
    "types_test = types2[number70:]"
   ]
  },
  {
   "cell_type": "code",
   "execution_count": 5,
   "metadata": {
    "collapsed": true
   },
   "outputs": [],
   "source": [
    "#building the model\n",
    "model = Pipeline([('vect', CountVectorizer(stop_words=\"english\")),\n",
    "                     ('tfidf', TfidfTransformer()),\n",
    "                     ('svc', LinearSVC()),\n",
    "                    ])\n",
    "\n",
    "dtfitted = model.fit(texts_train, types_train)"
   ]
  },
  {
   "cell_type": "code",
   "execution_count": 6,
   "metadata": {
    "collapsed": false
   },
   "outputs": [
    {
     "name": "stdout",
     "output_type": "stream",
     "text": [
      "0.479948548017\n"
     ]
    },
    {
     "data": {
      "image/png": "[encoded data removed]",
      "text/plain": [
       "<matplotlib.figure.Figure at 0x7f2ea179b5c0>"
      ]
     },
     "metadata": {},
     "output_type": "display_data"
    }
   ],
   "source": [
    "#this part is just how I checked if it is a good model -> usually it is better to check with a different dataset than the one used to build the model\n",
    "predicted = dtfitted.predict(texts_test)\n",
    "print(np.mean(predicted == types_test))\n",
    "conf = sklearn.metrics.confusion_matrix(predicted, types_test)\n",
    "plt.imshow(conf, cmap='binary', interpolation='None')\n",
    "plt.show()"
   ]
  },
  {
   "cell_type": "code",
   "execution_count": 7,
   "metadata": {
    "collapsed": false
   },
   "outputs": [
    {
     "data": {
      "text/plain": [
       "['finalmodel.pkl']"
      ]
     },
     "execution_count": 7,
     "metadata": {},
     "output_type": "execute_result"
    }
   ],
   "source": [
    "#saving the model\n",
    "joblib.dump(dtfitted, 'finalmodel.pkl') "
   ]
  },
  {
   "cell_type": "code",
   "execution_count": null,
   "metadata": {
    "collapsed": true
   },
   "outputs": [],
   "source": []
  }
 ],
 "metadata": {
  "kernelspec": {
   "display_name": "Python 3",
   "language": "python",
   "name": "python3"
  },
  "language_info": {
   "codemirror_mode": {
    "name": "ipython",
    "version": 3
   },
   "file_extension": ".py",
   "mimetype": "text/x-python",
   "name": "python",
   "nbconvert_exporter": "python",
   "pygments_lexer": "ipython3",
   "version": "3.6.0"
  }
 },
 "nbformat": 4,
 "nbformat_minor": 2
}
