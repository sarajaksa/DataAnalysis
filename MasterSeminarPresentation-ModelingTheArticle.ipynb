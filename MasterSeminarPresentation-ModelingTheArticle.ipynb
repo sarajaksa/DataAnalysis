{
 "cells": [
  {
   "cell_type": "markdown",
   "metadata": {},
   "source": [
    "# PENO Model"
   ]
  },
  {
   "cell_type": "code",
   "execution_count": 1,
   "metadata": {},
   "outputs": [],
   "source": [
    "import networkx\n",
    "import random\n",
    "import numpy\n",
    "from mesa import Agent, Model\n",
    "from scipy.stats import bernoulli\n",
    "from mesa.time import RandomActivation\n",
    "from mesa.space import ContinuousSpace\n",
    "import matplotlib.pyplot as plt\n",
    "import matplotlib.cm as cm"
   ]
  },
  {
   "cell_type": "markdown",
   "metadata": {},
   "source": [
    "At my cognitive science study program, we have master seminar, where we have to present our idea for the master thesis. When presenting it, we also need to choose one article, which serves as the basis for our work.\n",
    "\n",
    "Well, I usually end up combining different things together, so it is hard to choose just one article that serves as the basis of my work. But I did find one article, which combined the individual differences in the network analysis of the opinion changing and spreading. Which is also what I am doing.\n",
    "\n",
    "The article was [Modeling Personalized Dynamics of Social Network and Opinion at Individual Level](https://arxiv.org/abs/1811.02791).\n",
    "\n",
    "I don't think I modeled it exactly as they describe it in the article. I could not even reproduce some of the results, that they made. But this was my attempt. "
   ]
  },
  {
   "cell_type": "code",
   "execution_count": 2,
   "metadata": {},
   "outputs": [],
   "source": [
    "number_of_agents = 50\n",
    "size = 8\n",
    "neighbor_difference = 1\n",
    "Blues = plt.get_cmap()"
   ]
  },
  {
   "cell_type": "code",
   "execution_count": 3,
   "metadata": {},
   "outputs": [],
   "source": [
    "class SpaceModel(Model):\n",
    "    def __init__(self, N, size):\n",
    "        self.num_agents = N\n",
    "        self.schedule = RandomActivation(self)\n",
    "        self.grid = ContinuousSpace(size, size, False)\n",
    "    \n",
    "        #there the agents are created and places in the sceduler and in the grid\n",
    "        for i in range(N):\n",
    "            a = Person(i, self, size)\n",
    "            self.schedule.add(a)\n",
    "            self.grid.place_agent(a, (random.randrange(1,size-1), random.randrange(1,size-1)))\n",
    "            \n",
    "    def step(self):\n",
    "        self.schedule.step()"
   ]
  },
  {
   "cell_type": "code",
   "execution_count": 4,
   "metadata": {},
   "outputs": [],
   "source": [
    "class Person(Agent):\n",
    "    \n",
    "    def __init__(self, unique_id, model, size):\n",
    "        super().__init__(unique_id, model)\n",
    "        self.size = size\n",
    "        self.opinion = [random.gauss(random.randint(-size+1, size-1),1), random.gauss(random.randint(-size+1, size-1),1)]\n",
    "        self.trend = random.randint(0,359)\n",
    "        leadership_chance = round(random.uniform(0.0, 1.0), 2)\n",
    "        if leadership_chance < 0.1:\n",
    "            self.leadership = 1\n",
    "        else: \n",
    "            self.leadership = 0.001\n",
    "        self.openess = get_personality_trait(0.3, 1)\n",
    "        self.agreeablness = get_personality_trait(0., 1)\n",
    "        self.neuroticism = get_personality_trait(1, 1)\n",
    "        self.all_positions = [tuple([self.opinion[0], self.opinion[1], True])]\n",
    "        self.color = \"black\"\n",
    "    \n",
    "    def step(self):\n",
    "        neighbors = [a for a in model.schedule.agents if numpy.sqrt(abs(self.opinion[0]-a.opinion[0])+abs(self.opinion[1]-self.opinion[1])) < neighbor_difference and self.openess * a.openess > 0.3]\n",
    "        neighbors = self.model.grid.get_neighbors(self.pos, radius=1, include_center=False)\n",
    "        all_leadership = numpy.mean([p.leadership for p in neighbors])\n",
    "        difference_in_direction = numpy.mean([numpy.cos([numpy.radians(self.trend - p.trend) for p in neighbors])])*self.agreeablness\n",
    "        if numpy.isnan(difference_in_direction) or difference_in_direction == 0 or numpy.isinf(difference_in_direction):\n",
    "            difference_in_direction = 0.01\n",
    "        impact = (1/(self.leadership/all_leadership))*difference_in_direction*30\n",
    "        self.trend = random.gauss(self.trend + numpy.rad2deg(difference_in_direction), 1/max(0.001, self.neuroticism))\n",
    "        self.opinion[0] = self.opinion[0] + numpy.cos(numpy.radians(self.trend))*impact\n",
    "        self.opinion[1] = self.opinion[1] + numpy.sin(numpy.radians(self.trend))*impact\n",
    "        continious = True\n",
    "        if self.opinion[0] > self.size:\n",
    "            self.opinion[0] = -self.size\n",
    "            continious = False\n",
    "        if self.opinion[0] < -self.size:\n",
    "            self.opinion[0] = self.size\n",
    "            continious = False\n",
    "        if self.opinion[1] > self.size:\n",
    "            self.opinion[1] = -self.size\n",
    "            continious = False\n",
    "        if self.opinion[1] < -self.size:\n",
    "            self.opinion[1] = self.size\n",
    "            continious = False\n",
    "        self.all_positions.append(tuple([self.opinion[0], self.opinion[1], continious]))"
   ]
  },
  {
   "cell_type": "code",
   "execution_count": 5,
   "metadata": {},
   "outputs": [],
   "source": [
    "def get_personality_trait(mean, sd):\n",
    "    personality = random.gauss(mean, sd)\n",
    "    if personality > 1:\n",
    "        personality = 1\n",
    "    if personality < 0:\n",
    "        personality = 0\n",
    "    return personality"
   ]
  },
  {
   "cell_type": "code",
   "execution_count": 6,
   "metadata": {},
   "outputs": [
    {
     "data": {
      "image/png": "[encoded data removed]",
      "text/plain": [
       "<Figure size 720x360 with 1 Axes>"
      ]
     },
     "metadata": {
      "needs_background": "light"
     },
     "output_type": "display_data"
    }
   ],
   "source": [
    "model = SpaceModel(number_of_agents, size)\n",
    "for i in range(1):\n",
    "    model.step()\n",
    "    agents = [a for a in model.schedule.agents]\n",
    "    xs = [float(x.opinion[0]) for x in agents]\n",
    "    ys = [float(x.opinion[1]) for x in agents]\n",
    "    col = [x.color for x in agents]\n",
    "    fig, ax = plt.subplots(figsize=(10, 5))\n",
    "    ax.scatter(xs, ys, c=col)\n",
    "    for a in model.schedule.agents:\n",
    "        position1 = a.all_positions[-1]\n",
    "        position2 = a.all_positions[-2]\n",
    "        if not position1[2] or not position2[2]:\n",
    "            continue\n",
    "        ax.plot((position1[0], position2[0]), (position1[1], position2[1]), color=a.color, linestyle='-', linewidth=2)\n",
    "        if len(a.all_positions) > 2:\n",
    "            position3 = a.all_positions[-3]\n",
    "            if not position3[2]:\n",
    "                continue\n",
    "            ax.plot((position2[0], position3[0]), (position2[1], position3[1]), color=a.color, linestyle='-', linewidth=2)\n",
    "        if len(a.all_positions) > 3:\n",
    "            position4 = a.all_positions[-4]\n",
    "            if not position4[2]:\n",
    "                continue\n",
    "            ax.plot((position4[0], position3[0]), (position4[1], position3[1]), color=a.color, linestyle='-', linewidth=2)\n",
    "    ax.set_xlim([-8, 8])\n",
    "    ax.set_ylim([-8, 8])\n",
    "    plt.savefig(\"model-\" + str(i) + \".png\")"
   ]
  },
  {
   "cell_type": "code",
   "execution_count": null,
   "metadata": {},
   "outputs": [],
   "source": []
  }
 ],
 "metadata": {
  "kernelspec": {
   "display_name": "Python 3",
   "language": "python",
   "name": "python3"
  },
  "language_info": {
   "codemirror_mode": {
    "name": "ipython",
    "version": 3
   },
   "file_extension": ".py",
   "mimetype": "text/x-python",
   "name": "python",
   "nbconvert_exporter": "python",
   "pygments_lexer": "ipython3",
   "version": "3.7.3"
  }
 },
 "nbformat": 4,
 "nbformat_minor": 2
}
