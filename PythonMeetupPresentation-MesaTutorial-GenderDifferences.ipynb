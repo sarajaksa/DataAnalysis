{
 "cells": [
  {
   "cell_type": "markdown",
   "metadata": {},
   "source": [
    "# Exploring the Gender differences in Programming using Python"
   ]
  },
  {
   "cell_type": "markdown",
   "metadata": {},
   "source": [
    "## Or a very short tutorial into agent based modeling in Mesa"
   ]
  },
  {
   "cell_type": "markdown",
   "metadata": {},
   "source": [
    "Based on the comments that I have heard in the last year, it seems that more and more people are pushing for the cultural interpretation of gender and gender differences. So there is a lot of talk about how the culture is pushing these 'stereotypical' gender roles and they 'oppress' the people that are not,... I don't know, it seems that these days everybody is 'oppressed'.\n",
    "\n",
    "And then they come up with a lot of explanations. I think my favourite explanation (as it the ones that I found the funniest) of why there are gender differences in different professions come from sociology department. Especially, if they have a feminism included in their department name or in their title. If we take programming jobs, one of the reasons that Wynn and Correll found that alienated women were references to the movies, that they may not have seen (Article: [Puncturing the pipeline: Do technology companies alienate women in recruiting sessions?](https://doi.org/10.1177/0306312718756766)).\n",
    "\n",
    "So today, I am going to be trying to show with a simple simulation, why these explanations may not tell the whole story. At the same time, this can also serve as a very simple tutorial to agent-based modelling with python library Mesa."
   ]
  },
  {
   "cell_type": "markdown",
   "metadata": {},
   "source": [
    "### Imports"
   ]
  },
  {
   "cell_type": "markdown",
   "metadata": {},
   "source": [
    "First, we need to import the libraries that are going to be used in this tutorial/argumentation. Let us start with imports connected with the agent-based modelling, that is going to be used."
   ]
  },
  {
   "cell_type": "code",
   "execution_count": 1,
   "metadata": {},
   "outputs": [],
   "source": [
    "from mesa.time import RandomActivation\n",
    "from mesa import Agent, Model\n",
    "import random"
   ]
  },
  {
   "cell_type": "markdown",
   "metadata": {},
   "source": [
    "Next, we are going to import the libraries, that are going to be used for calculating some statistics, connected with the modelling of the question (I generally do statistics in R, so I apologize, if there is a better way of doing it in Python)."
   ]
  },
  {
   "cell_type": "code",
   "execution_count": 2,
   "metadata": {},
   "outputs": [],
   "source": [
    "from sklearn.preprocessing import scale\n",
    "import scipy.stats as stats\n",
    "import statistics\n",
    "import numpy"
   ]
  },
  {
   "cell_type": "markdown",
   "metadata": {},
   "source": [
    "And last one, import that will allow us some visualization. "
   ]
  },
  {
   "cell_type": "code",
   "execution_count": 3,
   "metadata": {},
   "outputs": [],
   "source": [
    "import matplotlib.pyplot as plt\n",
    "%matplotlib inline"
   ]
  },
  {
   "cell_type": "markdown",
   "metadata": {},
   "source": [
    "### Modeling Differences in Skills"
   ]
  },
  {
   "cell_type": "markdown",
   "metadata": {},
   "source": [
    "There are generally differences in levels of different skills between genders, though the distributions have a lot of overlap. One very representative test of these differences is PISA, where they test a relatively large sample (for social sciences) of students for each country. When comparing the mathematical and reading scores, the males generally score higher in mathematics, and women generally score higher in reading. \n",
    "\n",
    "There are a couple of interesting things, that these results can show. For example, the countries that have no difference in mathematical skills also have the higher differences in reading skills (Article: [Sex Differences in Mathematics and Reading Achievement Are Inversely Related: Within- and Across-Nation Assessment of 10 Years of PISA Data](https://doi.org/10.1371/journal.pone.0057988)). And I am sure there are many others."
   ]
  },
  {
   "cell_type": "markdown",
   "metadata": {},
   "source": [
    "The scores are usually standardized to a mean of 500 and a standard deviation of 100 for everybody who took the test. These are also the scores that we used here. I just took the PISA scores from the OCED site: [http://www.pisa.oecd.org](http://www.pisa.oecd.org). The data that I have chosen was for Slovenia, for the year 2015, in reading and mathematics score. \n",
    "\n",
    "All I did then, was to save them in different variables. "
   ]
  },
  {
   "cell_type": "code",
   "execution_count": 4,
   "metadata": {},
   "outputs": [],
   "source": [
    "MathematicalFemaleMean = 508\n",
    "MathematicalFemaleSd = 86\n",
    "MathematicalMaleMean = 512\n",
    "MathematicalMaleSd = 89\n",
    "ReadingFemaleMean = 528\n",
    "ReadingFemaleSd = 86\n",
    "ReadingMaleMean = 484\n",
    "ReadingMaleSd = 92"
   ]
  },
  {
   "cell_type": "markdown",
   "metadata": {},
   "source": [
    "Now, to give you an example of how these distributions look, I have created the graph here. As you can see from the graph, the distribution for mathematical skills is basically the same, while this is not true for the reading skills. There the women are a bit better, but as you can see, there is still a far bit of overlap. "
   ]
  },
  {
   "cell_type": "code",
   "execution_count": 5,
   "metadata": {},
   "outputs": [
    {
     "data": {
      "text/plain": [
       "Text(0.5, 1.0, 'Differences in Reading Ability')"
      ]
     },
     "execution_count": 5,
     "metadata": {},
     "output_type": "execute_result"
    },
    {
     "data": {
      "image/png": "[encoded data removed]",
      "text/plain": [
       "<Figure size 1440x576 with 2 Axes>"
      ]
     },
     "metadata": {
      "needs_background": "light"
     },
     "output_type": "display_data"
    }
   ],
   "source": [
    "f = plt.figure(figsize=(20,8))\n",
    "plot1 = f.add_subplot(1, 2, 1)\n",
    "plot1.hist([random.gauss(MathematicalFemaleMean, MathematicalFemaleSd) for i in range(10000)], alpha=.4)\n",
    "plot1.hist([random.gauss(MathematicalMaleMean, MathematicalMaleSd) for i in range(10000)], alpha=.4)\n",
    "plot1.set_title(\"Differences in Mathematical Ability\")\n",
    "plot2 = f.add_subplot(1, 2, 2)\n",
    "plot2.hist([random.gauss(ReadingFemaleMean, ReadingFemaleSd) for i in range(10000)], alpha=.4)\n",
    "plot2.hist([random.gauss(ReadingMaleMean, ReadingMaleSd) for i in range(10000)], alpha=.4)\n",
    "plot2.set_title(\"Differences in Reading Ability\")"
   ]
  },
  {
   "cell_type": "markdown",
   "metadata": {},
   "source": [
    "What is the next step, is to start making the model, that we are going to be using for researching these differences. \n",
    "\n",
    "What needs to be done first, is to create the agents, that we can make them do stuff so we can find out something new about it. Each of these agents has some attributes and have some ability to do something. \n",
    "\n",
    "Let us start by making an agent with some attributes. In our case, the agent is a human, with a gender, a specific level of the mathematical skills and a specific level of the reading (read: verbal) skills. We are also going to be giving him a very limited memory. He will be able to keep track of the work it will do.\n",
    "\n",
    "So each of our \"humans\" will be randomly assigned the gender. It will only pick between two option, and I am not sorry for ignoring a certain minority here. Then, based on the gender, it will be also assigned the level of each skill, sampled from the distribution. And on the end, we will imprint on their memories, that they have done no work yet. "
   ]
  },
  {
   "cell_type": "code",
   "execution_count": 6,
   "metadata": {},
   "outputs": [],
   "source": [
    "class Human(Agent):\n",
    "    \n",
    "    def __init__(self, unique_id, model):\n",
    "        super().__init__(unique_id, model)\n",
    "        self.gender = random.choice([\"female\", \"male\"])\n",
    "        if self.gender == \"female\":\n",
    "            self.reading = random.gauss(ReadingFemaleMean, ReadingFemaleSd)\n",
    "            self.mathematical = random.gauss(MathematicalFemaleMean, MathematicalFemaleSd)\n",
    "        elif self.gender == \"male\":\n",
    "            self.reading = random.gauss(ReadingMaleMean, ReadingMaleSd)\n",
    "            self.mathematical = random.gauss(MathematicalMaleMean, MathematicalMaleSd)\n",
    "        self.work = 0"
   ]
  },
  {
   "cell_type": "markdown",
   "metadata": {},
   "source": [
    "But this people will also need to make a choice of what kind of work they will be doing. Here, I am going to be borrowing from the person starting the modern day economics, David Ricardo and his comparable advantage. What his theory of comparable advantage says is, that if people trade based on the opportunity costs, they are better off.\n",
    "\n",
    "So in our case, this is based on the skills. Let us take a very simple example. We have two people, are have the same skills in reading. But one person is better in mathematics than the other. And let us say that that person is twice as good. These two people can still trade, as in time, since the first person can create twice as much of mathematical value in the time they need to create one unit of reading value. So the first person can trade a fraction of his mathematical work (between the work output of the second person and his whole output) for that one unit of reading, and there is still some left over for him. And the second person gets more mathematical value, then they would get by working on it themselves. \n",
    "\n",
    "I have decided on the simple case, and the end decision is binary. One person does the unit of mathematical work or the unit of reading work or nothing. There are no fractions. \n",
    "\n",
    "Here it is also seen how I decided to keep track of the work. If a person does mathematical work, then they add one to their memory of work. If they do the reading work, then they subtract one from their memory of work. And if they do no work, then there is no change. So, if they end up with a positive number on the end, then they did more mathematical work, and if they end up with a negative number, then they did more reading work. This is what we will check on the end. "
   ]
  },
  {
   "cell_type": "code",
   "execution_count": 7,
   "metadata": {},
   "outputs": [],
   "source": [
    "class Human(Agent):\n",
    "    \n",
    "    def __init__(self, unique_id, model):\n",
    "        super().__init__(unique_id, model)\n",
    "        self.gender = random.choice([\"female\", \"male\"])\n",
    "        if self.gender == \"female\":\n",
    "            self.reading = random.gauss(ReadingFemaleMean, ReadingFemaleSd)\n",
    "            self.mathematical = random.gauss(MathematicalFemaleMean, MathematicalFemaleSd)\n",
    "        elif self.gender == \"male\":\n",
    "            self.reading = random.gauss(ReadingMaleMean, ReadingMaleSd)\n",
    "            self.mathematical = random.gauss(MathematicalMaleMean, MathematicalMaleSd)\n",
    "        self.work = 0\n",
    "        \n",
    "    def skill(self, mathematical1, reading1, mathematical2, reading2):\n",
    "        ratio1 = mathematical1/reading1\n",
    "        ratio2 = mathematical2/reading2\n",
    "        #First person doing math work\n",
    "        if ratio1 > ratio2:\n",
    "            return 1\n",
    "        #First person doing verbal work\n",
    "        elif ratio1 < ratio2:\n",
    "            return -1\n",
    "        #Nobody does any work\n",
    "        else:\n",
    "            return 0"
   ]
  },
  {
   "cell_type": "markdown",
   "metadata": {},
   "source": [
    "Sure, our \"human\" can now make a decision, but we still need to tell him to make a decision. This is why each agent usually has the function step, where we tell him what to do in this step. \n",
    "\n",
    "In our case, we are going to tell our \"human\" to randomly grab a random person. Then compare their skills and decide, if they want to do any trading. If they want to, then they do the work and say goodbye. So there is going to be no tracking of the network of people. Which is something, that would also be interesting, but we are not going to tackle here. "
   ]
  },
  {
   "cell_type": "code",
   "execution_count": 8,
   "metadata": {},
   "outputs": [],
   "source": [
    "class Human(Agent):\n",
    "    \n",
    "    def __init__(self, unique_id, model):\n",
    "        super().__init__(unique_id, model)\n",
    "        self.gender = random.choice([\"female\", \"male\"])\n",
    "        if self.gender == \"female\":\n",
    "            self.reading = random.gauss(ReadingFemaleMean, ReadingFemaleSd)\n",
    "            self.mathematical = random.gauss(MathematicalFemaleMean, MathematicalFemaleSd)\n",
    "        elif self.gender == \"male\":\n",
    "            self.reading = random.gauss(ReadingMaleMean, ReadingMaleSd)\n",
    "            self.mathematical = random.gauss(MathematicalMaleMean, MathematicalMaleSd)\n",
    "        self.work = 0\n",
    "        \n",
    "    def step(self):\n",
    "        other_agent = random.choice(self.model.schedule.agents)\n",
    "        work_done = self.skill(self.mathematical, self.reading, other_agent.mathematical, other_agent.reading)\n",
    "        self.work = self.work + work_done\n",
    "        other_agent.work = other_agent.work + (work_done * (-1))\n",
    "        \n",
    "    def skill(self, mathematical1, reading1, mathematical2, reading2):\n",
    "        ratio1 = mathematical1/reading1\n",
    "        ratio2 = mathematical2/reading2\n",
    "        #First person doing math work\n",
    "        if ratio1 > ratio2:\n",
    "            return 1\n",
    "        #First person doing verbal work\n",
    "        elif ratio1 < ratio2:\n",
    "            return -1\n",
    "        #Nobody does any work\n",
    "        else:\n",
    "            return 0"
   ]
  },
  {
   "cell_type": "markdown",
   "metadata": {},
   "source": [
    "So, now that we have out \"humans\" that we have created, we now need to put them in a \"world\" where they can act. Or, as more commonly known as the model. So what this does is save the number of \"humans\" that we create. We also track them (thankfully the GDPR does not apply to agents we create so we can track them however we want). Then we tell the model, that in each step, go randomly through all the \"humans\" and execute their step function. "
   ]
  },
  {
   "cell_type": "code",
   "execution_count": 9,
   "metadata": {},
   "outputs": [],
   "source": [
    "class ExchangeModel(Model):\n",
    "    \n",
    "    def __init__(self, N):\n",
    "        self.num_agents = N\n",
    "        self.schedule = RandomActivation(self)\n",
    "        for i in range(self.num_agents):\n",
    "            a = Human(i, self)\n",
    "            self.schedule.add(a)\n",
    "            \n",
    "    def step(self):\n",
    "        self.schedule.step()"
   ]
  },
  {
   "cell_type": "markdown",
   "metadata": {},
   "source": [
    "So now the last step, before we can actually run the model. We need to tell the model, how many \"humans\" to create and how many times we will force them to go through action. In our case, we create 100 \"humans\" and make them go through 100 cycles, which on average means 200 exchanges. "
   ]
  },
  {
   "cell_type": "code",
   "execution_count": 10,
   "metadata": {},
   "outputs": [],
   "source": [
    "model = ExchangeModel(100)\n",
    "for i in range(100):\n",
    "    model.step()"
   ]
  },
  {
   "cell_type": "markdown",
   "metadata": {},
   "source": [
    "Now let us see some statistics. First, we will get the values of work for all out created humans, based on gender. "
   ]
  },
  {
   "cell_type": "code",
   "execution_count": 11,
   "metadata": {},
   "outputs": [],
   "source": [
    "women_work = [a.work for a in model.schedule.agents if a.gender == \"female\"]\n",
    "men_work = [a.work for a in model.schedule.agents if a.gender == \"male\"]"
   ]
  },
  {
   "cell_type": "markdown",
   "metadata": {},
   "source": [
    "And now we can calculate the ratio of people of each gender, that did more mathematical work (because I would count programming and more mathematical type of work). "
   ]
  },
  {
   "cell_type": "code",
   "execution_count": 12,
   "metadata": {},
   "outputs": [],
   "source": [
    "ratio_of_women_in_STEM = len([woman for woman in women_work if woman > 0])/len(women_work)"
   ]
  },
  {
   "cell_type": "code",
   "execution_count": 13,
   "metadata": {},
   "outputs": [],
   "source": [
    "ratio_of_men_in_STEM = len([men for men in men_work if men > 0])/len(men_work)"
   ]
  },
  {
   "cell_type": "code",
   "execution_count": 14,
   "metadata": {},
   "outputs": [
    {
     "data": {
      "text/plain": [
       "(0.423728813559322, 0.5853658536585366)"
      ]
     },
     "execution_count": 14,
     "metadata": {},
     "output_type": "execute_result"
    }
   ],
   "source": [
    "(ratio_of_women_in_STEM, ratio_of_men_in_STEM)"
   ]
  },
  {
   "cell_type": "markdown",
   "metadata": {},
   "source": [
    "As you can see, there are already noticeable gender differences, even though seeing the graphs before, we would not think this. \n",
    "\n",
    "In order to make sure, we would not need to write this much, we are going to create a function. Because we are going to be running quite a couple more simulations. All I did was to put the above calculations into one function."
   ]
  },
  {
   "cell_type": "code",
   "execution_count": 15,
   "metadata": {},
   "outputs": [],
   "source": [
    "def get_ratios(schedule):\n",
    "    women_work = [a.work for a in schedule if a.gender == \"female\"]\n",
    "    men_work = [a.work for a in schedule if a.gender == \"male\"]\n",
    "    ratio_of_women_in_STEM = len([woman for woman in women_work if woman > 0])/len(women_work)\n",
    "    ratio_of_men_in_STEM = len([men for men in men_work if men > 0])/len(men_work)\n",
    "    return ratio_of_women_in_STEM, ratio_of_men_in_STEM"
   ]
  },
  {
   "cell_type": "markdown",
   "metadata": {},
   "source": [
    "Which now allows us to see, if this was a fluke. Maybe we just got that one run, that was a bit more extreme. So let us now repeat the simulations multiple times. \n",
    "\n",
    "All I did this time, was to run the same simulation 100 times. And then I saved the results of each run for the ratio of \"humans\" choosing the mathematical work for each gender. "
   ]
  },
  {
   "cell_type": "code",
   "execution_count": 16,
   "metadata": {},
   "outputs": [],
   "source": [
    "all_rations_women = []\n",
    "all_rations_men = []"
   ]
  },
  {
   "cell_type": "code",
   "execution_count": 17,
   "metadata": {},
   "outputs": [],
   "source": [
    "for j in range(100):\n",
    "    model = ExchangeModel(100)\n",
    "    for i in range(100):\n",
    "        model.step()\n",
    "    ratios = get_ratios(model.schedule.agents)\n",
    "    all_rations_women.append(ratios[0])\n",
    "    all_rations_men.append(ratios[1])"
   ]
  },
  {
   "cell_type": "markdown",
   "metadata": {},
   "source": [
    "Let us first see the mean ratio for each gender. As you can see, the ratios are still quite different. "
   ]
  },
  {
   "cell_type": "code",
   "execution_count": 18,
   "metadata": {},
   "outputs": [
    {
     "data": {
      "text/plain": [
       "0.42062172336144804"
      ]
     },
     "execution_count": 18,
     "metadata": {},
     "output_type": "execute_result"
    }
   ],
   "source": [
    "statistics.mean(all_rations_women)"
   ]
  },
  {
   "cell_type": "code",
   "execution_count": 19,
   "metadata": {},
   "outputs": [
    {
     "data": {
      "text/plain": [
       "0.5779696834173701"
      ]
     },
     "execution_count": 19,
     "metadata": {},
     "output_type": "execute_result"
    }
   ],
   "source": [
    "statistics.mean(all_rations_men)"
   ]
  },
  {
   "cell_type": "markdown",
   "metadata": {},
   "source": [
    "Let us now also plot the distribution of ratios for each gender. I used very similar code to the one for the upper graph.\n",
    "\n",
    "As you can see from the graph, the distributions are a lot less overlapping than the ones only based on skills. Men are a lot more likely to simply choose the mathematical work (at least from economical perspective). "
   ]
  },
  {
   "cell_type": "code",
   "execution_count": 20,
   "metadata": {},
   "outputs": [
    {
     "data": {
      "text/plain": [
       "Text(0.5, 1.0, 'Ratio of mathematical work based on gender')"
      ]
     },
     "execution_count": 20,
     "metadata": {},
     "output_type": "execute_result"
    },
    {
     "data": {
      "image/png": "[encoded data removed]",
      "text/plain": [
       "<Figure size 1440x576 with 1 Axes>"
      ]
     },
     "metadata": {
      "needs_background": "light"
     },
     "output_type": "display_data"
    }
   ],
   "source": [
    "f = plt.figure(figsize=(20,8))\n",
    "plot1 = f.add_subplot(1, 1, 1)\n",
    "plot1.hist(all_rations_women, alpha=.4)\n",
    "plot1.hist(all_rations_men, alpha=.4)\n",
    "plot1.set_title(\"Ratio of mathematical work based on gender\")"
   ]
  },
  {
   "cell_type": "markdown",
   "metadata": {},
   "source": [
    "### Modeling differences in Interest"
   ]
  },
  {
   "cell_type": "markdown",
   "metadata": {},
   "source": [
    "Not only there are skills differences, but they are also differences in interest. One of the measurements for the differences in interests is the empathizing-systemizing difference. What this tells us is, how interested is a person is systems vs. how interested is a person is humans and art (or everything else that can be approached in a non-systemized way - like based on emotions or intuition). It is much more about how the world is categorized or organized, but these also show quite interesting differences in what people are interested in. For example, in children, the men are more interested in toy cars and the women in dolls (on average). And some of this differences can be covered by these measurements. \n",
    "\n",
    "It is not directly connected to the skills. Though there are some (for me) very unintuitive results as well. For example, systemizing have no effect on mathematical skills in children, but empathizing does. The higher the empathizing score, the lower the mathematical skill. (Article: [The Empathizing-Systemizing Theory, Social Abilities, and Mathematical Achievement in Children](https://doi.org/10.1038/srep23011))\n",
    "\n",
    "This theory is a lot of times mentioned in a case of autism studies, where the autistic people are considered people with extreme-male brains, or people with very high systemizing, and lower empathizing scores. \n",
    "\n",
    "Here, I did not (so far) found any Slovenian data, so the data here is from the US. (Article: [Measuring Empathizing and Systemizing with a Large US Sample](https://doi.org/10.1371/journal.pone.0031661))"
   ]
  },
  {
   "cell_type": "code",
   "execution_count": 21,
   "metadata": {},
   "outputs": [],
   "source": [
    "EmpathizingFemaleMean = 3.089\n",
    "EmpathizingFemaleSd = 0.297\n",
    "EmpathizingMaleMean = 2.897\n",
    "EmpathizingMaleSd = 0.309\n",
    "SystemizingFemaleMean = 2.582\n",
    "SystemizingFemaleSd = 0.374\n",
    "SystemizingMaleMean = 2.757\n",
    "SystemizingMaleSd = 0.376"
   ]
  },
  {
   "cell_type": "markdown",
   "metadata": {},
   "source": [
    "So now let us look at the distribution of gender differences here. As you are going to see, the gender differences are again very much overlapping. Even though there is again a noticeable shift in the empathizing graph. \n",
    "\n",
    "The graphs were again created very similarly to the first example. "
   ]
  },
  {
   "cell_type": "code",
   "execution_count": 22,
   "metadata": {},
   "outputs": [
    {
     "data": {
      "text/plain": [
       "Text(0.5, 1.0, 'Differences in Empathizing')"
      ]
     },
     "execution_count": 22,
     "metadata": {},
     "output_type": "execute_result"
    },
    {
     "data": {
      "image/png": "[encoded data removed]",
      "text/plain": [
       "<Figure size 1440x576 with 2 Axes>"
      ]
     },
     "metadata": {
      "needs_background": "light"
     },
     "output_type": "display_data"
    }
   ],
   "source": [
    "f = plt.figure(figsize=(20,8))\n",
    "plot1 = f.add_subplot(1, 2, 1)\n",
    "plot1.hist([random.gauss(SystemizingFemaleMean, SystemizingFemaleSd) for i in range(10000)], alpha=.4)\n",
    "plot1.hist([random.gauss(SystemizingMaleMean, SystemizingMaleSd) for i in range(10000)], alpha=.4)\n",
    "plot1.set_title(\"Differences in Systemizing\")\n",
    "plot2 = f.add_subplot(1, 2, 2)\n",
    "plot2.hist([random.gauss(EmpathizingFemaleMean, EmpathizingFemaleSd) for i in range(10000)], alpha=.4)\n",
    "plot2.hist([random.gauss(EmpathizingMaleMean, EmpathizingMaleSd) for i in range(10000)], alpha=.4)\n",
    "plot2.set_title(\"Differences in Empathizing\")"
   ]
  },
  {
   "cell_type": "markdown",
   "metadata": {},
   "source": [
    "There is just one problem with the data. Since it was measured with different surveys for different construct (empathizing vs. systemizing) we can get the gender difference, but not the relative strength of each interest in one person. So I am going to use standardization, in order to try to correct for this. \n",
    "\n",
    "What I am going to do first, it that I am going to simulate the data for each of the concept and for each gender. My samples are going to be 10.000 \"people\" big. "
   ]
  },
  {
   "cell_type": "code",
   "execution_count": 23,
   "metadata": {},
   "outputs": [],
   "source": [
    "EmpathizingMaleDist = [random.gauss(EmpathizingMaleMean, EmpathizingMaleSd) for i in range(10000)]\n",
    "EmpathizingFemaleDist = [random.gauss(EmpathizingFemaleMean, EmpathizingFemaleSd) for i in range(10000)]\n",
    "SystemizingMaleDist = [random.gauss(SystemizingMaleMean, SystemizingMaleSd) for i in range(10000)]\n",
    "SystemizingFemaleDist = [random.gauss(SystemizingFemaleMean, SystemizingFemaleSd) for i in range(10000)]"
   ]
  },
  {
   "cell_type": "markdown",
   "metadata": {},
   "source": [
    "Next, I am going to be standardizing each concept, putting both genders together. And then I am going to divide results by gender again. "
   ]
  },
  {
   "cell_type": "code",
   "execution_count": 24,
   "metadata": {},
   "outputs": [],
   "source": [
    "SystemizingDist = list(scale(SystemizingMaleDist + SystemizingFemaleDist))\n",
    "EmpathizingDist = list(scale(EmpathizingMaleDist + EmpathizingFemaleDist))\n",
    "EmpathizingMaleDist = EmpathizingDist[:10000]\n",
    "EmpathizingFemaleDist = EmpathizingDist[10000:]\n",
    "SystemizingMaleDist = SystemizingDist[:10000]\n",
    "SystemizingFemaleDist = SystemizingDist[10000:]"
   ]
  },
  {
   "cell_type": "markdown",
   "metadata": {},
   "source": [
    "And we come up with distribution, that is very similar to the one, made from the original data. "
   ]
  },
  {
   "cell_type": "code",
   "execution_count": 25,
   "metadata": {},
   "outputs": [
    {
     "data": {
      "text/plain": [
       "Text(0.5, 1.0, 'Differences in Empathizing')"
      ]
     },
     "execution_count": 25,
     "metadata": {},
     "output_type": "execute_result"
    },
    {
     "data": {
      "image/png": "[encoded data removed]",
      "text/plain": [
       "<Figure size 1440x576 with 2 Axes>"
      ]
     },
     "metadata": {
      "needs_background": "light"
     },
     "output_type": "display_data"
    }
   ],
   "source": [
    "f = plt.figure(figsize=(20,8))\n",
    "plot1 = f.add_subplot(1, 2, 1)\n",
    "plot1.hist(SystemizingFemaleDist, alpha=.4)\n",
    "plot1.hist(SystemizingMaleDist, alpha=.4)\n",
    "plot1.set_title(\"Differences in Systemizing\")\n",
    "plot2 = f.add_subplot(1, 2, 2)\n",
    "plot2.hist(EmpathizingFemaleDist, alpha=.4)\n",
    "plot2.hist(EmpathizingMaleDist, alpha=.4)\n",
    "plot2.set_title(\"Differences in Empathizing\")"
   ]
  },
  {
   "cell_type": "markdown",
   "metadata": {},
   "source": [
    "So now we can calculate the values we are going to be using from this new distributions. All that happens here is a calculation of mean and standard deviation for each distribution we generated. "
   ]
  },
  {
   "cell_type": "code",
   "execution_count": 26,
   "metadata": {},
   "outputs": [],
   "source": [
    "EmpathizingFemaleMean = statistics.mean(EmpathizingFemaleDist)\n",
    "EmpathizingFemaleSd = statistics.stdev(EmpathizingFemaleDist)\n",
    "EmpathizingMaleMean = statistics.mean(EmpathizingMaleDist)\n",
    "EmpathizingMaleSd = statistics.stdev(EmpathizingMaleDist)\n",
    "SystemizingFemaleMean = statistics.mean(SystemizingFemaleDist)\n",
    "SystemizingFemaleSd = statistics.stdev(SystemizingFemaleDist)\n",
    "SystemizingMaleMean = statistics.mean(SystemizingMaleDist)\n",
    "SystemizingMaleSd = statistics.stdev(SystemizingMaleDist)"
   ]
  },
  {
   "cell_type": "markdown",
   "metadata": {},
   "source": [
    "Now we can print these values to check them."
   ]
  },
  {
   "cell_type": "code",
   "execution_count": 27,
   "metadata": {},
   "outputs": [
    {
     "name": "stdout",
     "output_type": "stream",
     "text": [
      "0.2987862382044011 0.9408303560293565\n",
      "-0.29878623820440137 0.9677158531646203\n",
      "-0.2286852604595836 0.9680245030268926\n",
      "0.22868526045958226 0.979042503879627\n"
     ]
    }
   ],
   "source": [
    "print(EmpathizingFemaleMean, EmpathizingFemaleSd)\n",
    "print(EmpathizingMaleMean, EmpathizingMaleSd)\n",
    "print(SystemizingFemaleMean, SystemizingFemaleSd)\n",
    "print(SystemizingMaleMean, SystemizingMaleSd)"
   ]
  },
  {
   "cell_type": "markdown",
   "metadata": {},
   "source": [
    "Now we are going again to engineering out \"humans\". As before, we first define the attributes. It is very similar to the first model, except that now instead of skills, we are going to have interest."
   ]
  },
  {
   "cell_type": "code",
   "execution_count": 28,
   "metadata": {},
   "outputs": [],
   "source": [
    "class Human(Agent):\n",
    "    \n",
    "    def __init__(self, unique_id, model):\n",
    "        super().__init__(unique_id, model)\n",
    "        self.gender = random.choice([\"female\", \"male\"])\n",
    "        if self.gender == \"female\":\n",
    "            self.systemizing = random.gauss(SystemizingFemaleMean, SystemizingFemaleSd)\n",
    "            self.emphatizing = random.gauss(EmpathizingFemaleMean, EmpathizingFemaleSd)\n",
    "        elif self.gender == \"male\":\n",
    "            self.systemizing = random.gauss(SystemizingMaleMean, SystemizingMaleSd)\n",
    "            self.emphatizing = random.gauss(EmpathizingMaleMean, EmpathizingMaleSd)\n",
    "        self.work = 0"
   ]
  },
  {
   "cell_type": "markdown",
   "metadata": {},
   "source": [
    "Next, we need to define his decision process. In this case, I don't think the economics are going to be as helpful. Instead, we are going to make the decision simple. If one agent is more interested in one type of work, and the other agent is more interested in another type of work, then they will trade. If not, then they will not trade. So I imagine that there is going to be a lot less completed trades here, but it is again another thing that we are not going to check. "
   ]
  },
  {
   "cell_type": "code",
   "execution_count": 29,
   "metadata": {},
   "outputs": [],
   "source": [
    "class Human(Agent):\n",
    "    \n",
    "    def __init__(self, unique_id, model):\n",
    "        super().__init__(unique_id, model)\n",
    "        self.gender = random.choice([\"female\", \"male\"])\n",
    "        if self.gender == \"female\":\n",
    "            self.systemizing = random.gauss(SystemizingFemaleMean, SystemizingFemaleSd)\n",
    "            self.emphatizing = random.gauss(EmpathizingFemaleMean, EmpathizingFemaleSd)\n",
    "        elif self.gender == \"male\":\n",
    "            self.systemizing = random.gauss(SystemizingMaleMean, SystemizingMaleSd)\n",
    "            self.emphatizing = random.gauss(EmpathizingMaleMean, EmpathizingMaleSd)\n",
    "        self.work = 0\n",
    "        \n",
    "    def interest(self, systemizing1, emphatizing1, systemizing2, emphatizing2):\n",
    "        #First person doing math work\n",
    "        if systemizing1 > emphatizing1 and systemizing2 < emphatizing2:\n",
    "            return 1\n",
    "        #First person doing verbal work\n",
    "        elif systemizing1 < emphatizing1 and systemizing2 > emphatizing2:\n",
    "            return -1\n",
    "        #Nobody does any work\n",
    "        else:\n",
    "            return 0"
   ]
  },
  {
   "cell_type": "markdown",
   "metadata": {},
   "source": [
    "Like any agent, this one also needs a step function, which tells it what to do each time. The step function is very similar to the first example, the only thing we will do it change which function it uses for decision."
   ]
  },
  {
   "cell_type": "code",
   "execution_count": 30,
   "metadata": {},
   "outputs": [],
   "source": [
    "class Human(Agent):\n",
    "    \n",
    "    def __init__(self, unique_id, model):\n",
    "        super().__init__(unique_id, model)\n",
    "        self.gender = random.choice([\"female\", \"male\"])\n",
    "        if self.gender == \"female\":\n",
    "            self.systemizing = random.gauss(SystemizingFemaleMean, SystemizingFemaleSd)\n",
    "            self.emphatizing = random.gauss(EmpathizingFemaleMean, EmpathizingFemaleSd)\n",
    "        elif self.gender == \"male\":\n",
    "            self.systemizing = random.gauss(SystemizingMaleMean, SystemizingMaleSd)\n",
    "            self.emphatizing = random.gauss(EmpathizingMaleMean, EmpathizingMaleSd)\n",
    "        self.work = 0\n",
    "        \n",
    "    def step(self):\n",
    "        other_agent = random.choice(self.model.schedule.agents)\n",
    "        work_done = self.interest(self.systemizing, self.emphatizing, other_agent.systemizing, other_agent.emphatizing)\n",
    "        self.work = self.work + work_done\n",
    "        other_agent.work = other_agent.work + (work_done * (-1))\n",
    "        \n",
    "    def interest(self, systemizing1, emphatizing1, systemizing2, emphatizing2):\n",
    "        #First person doing math work\n",
    "        if systemizing1 > emphatizing1 and systemizing2 < emphatizing2:\n",
    "            return 1\n",
    "        #First person doing verbal work\n",
    "        elif systemizing1 < emphatizing1 and systemizing2 > emphatizing2:\n",
    "            return -1\n",
    "        #Nobody does any work\n",
    "        else:\n",
    "            return 0"
   ]
  },
  {
   "cell_type": "markdown",
   "metadata": {},
   "source": [
    "We can use exactly the same model that we defined for the first model. So we are not going to repeat it here. \n",
    "\n",
    "So now we will again run the model for 100 times with 100 \"humans\" doing 100 cycles and having on average 200 trade opportunities. "
   ]
  },
  {
   "cell_type": "code",
   "execution_count": 31,
   "metadata": {},
   "outputs": [],
   "source": [
    "all_rations_women = []\n",
    "all_rations_men = []"
   ]
  },
  {
   "cell_type": "code",
   "execution_count": 32,
   "metadata": {},
   "outputs": [],
   "source": [
    "for j in range(100):\n",
    "    model = ExchangeModel(100)\n",
    "    for i in range(100):\n",
    "        model.step()\n",
    "    ratios = get_ratios(model.schedule.agents)\n",
    "    all_rations_women.append(ratios[0])\n",
    "    all_rations_men.append(ratios[1])"
   ]
  },
  {
   "cell_type": "markdown",
   "metadata": {},
   "source": [
    "And again, just like before, we can see the mean ratio for each gender."
   ]
  },
  {
   "cell_type": "code",
   "execution_count": 33,
   "metadata": {},
   "outputs": [
    {
     "data": {
      "text/plain": [
       "0.3331739044778136"
      ]
     },
     "execution_count": 33,
     "metadata": {},
     "output_type": "execute_result"
    }
   ],
   "source": [
    "statistics.mean(all_rations_women)"
   ]
  },
  {
   "cell_type": "code",
   "execution_count": 34,
   "metadata": {},
   "outputs": [
    {
     "data": {
      "text/plain": [
       "0.6430994827527692"
      ]
     },
     "execution_count": 34,
     "metadata": {},
     "output_type": "execute_result"
    }
   ],
   "source": [
    "statistics.mean(all_rations_men)"
   ]
  },
  {
   "cell_type": "markdown",
   "metadata": {},
   "source": [
    "And we can check the distribution for each gender. As you can see here, the things are even more extreme, than in the previous example. Here the distributions are no longer overlapping. "
   ]
  },
  {
   "cell_type": "code",
   "execution_count": 35,
   "metadata": {},
   "outputs": [
    {
     "data": {
      "text/plain": [
       "Text(0.5, 1.0, 'Ratio of mathematical work based on gender')"
      ]
     },
     "execution_count": 35,
     "metadata": {},
     "output_type": "execute_result"
    },
    {
     "data": {
      "image/png": "[encoded data removed]",
      "text/plain": [
       "<Figure size 1440x576 with 1 Axes>"
      ]
     },
     "metadata": {
      "needs_background": "light"
     },
     "output_type": "display_data"
    }
   ],
   "source": [
    "f = plt.figure(figsize=(20,8))\n",
    "plot1 = f.add_subplot(1, 1, 1)\n",
    "plot1.hist(all_rations_women, alpha=.4)\n",
    "plot1.hist(all_rations_men, alpha=.4)\n",
    "plot1.set_title(\"Ratio of mathematical work based on gender\")"
   ]
  },
  {
   "cell_type": "markdown",
   "metadata": {},
   "source": [
    "### Combining the models"
   ]
  },
  {
   "cell_type": "markdown",
   "metadata": {},
   "source": [
    "In the last model, that we are going to do here, we are going to combine the previous two model and added the effect of the habits. \n",
    "\n",
    "The first thing that we are going to do, is to simply combine the attributes, that we have defined in the previous two models. We are also going to simply copy the two decision-making rules, that we had already defined. "
   ]
  },
  {
   "cell_type": "code",
   "execution_count": 36,
   "metadata": {},
   "outputs": [],
   "source": [
    "class Human(Agent):\n",
    "    \n",
    "    def __init__(self, unique_id, model):\n",
    "        super().__init__(unique_id, model)\n",
    "        self.gender = random.choice([\"female\", \"male\"])\n",
    "        if self.gender == \"female\":\n",
    "            self.reading = random.gauss(ReadingFemaleMean, ReadingFemaleSd)\n",
    "            self.mathematical = random.gauss(MathematicalFemaleMean, MathematicalFemaleSd)\n",
    "            self.systemizing = random.gauss(SystemizingFemaleMean, SystemizingFemaleSd)\n",
    "            self.emphatizing = random.gauss(EmpathizingFemaleMean, EmpathizingFemaleSd)\n",
    "        elif self.gender == \"male\":\n",
    "            self.reading = random.gauss(ReadingMaleMean, ReadingMaleSd)\n",
    "            self.mathematical = random.gauss(MathematicalMaleMean, MathematicalMaleSd)\n",
    "            self.systemizing = random.gauss(SystemizingMaleMean, SystemizingMaleSd)\n",
    "            self.emphatizing = random.gauss(EmpathizingMaleMean, EmpathizingMaleSd)\n",
    "        self.work = 0\n",
    "    \n",
    "    def skill(self, mathematical1, reading1, mathematical2, reading2):\n",
    "        ratio1 = mathematical1/reading1\n",
    "        ratio2 = mathematical2/reading2\n",
    "        #First person doing math work\n",
    "        if ratio1 > ratio2:\n",
    "            return 1\n",
    "        #First person doing verbal work\n",
    "        elif ratio1 < ratio2:\n",
    "            return -1\n",
    "        #Nobody does any work\n",
    "        else:\n",
    "            return 0\n",
    "        \n",
    "    def interest(self, systemizing1, emphatizing1, systemizing2, emphatizing2):\n",
    "        #First person doing math work\n",
    "        if systemizing1 > emphatizing1 and systemizing2 < emphatizing2:\n",
    "            return 1\n",
    "        #First person doing verbal work\n",
    "        elif systemizing1 < emphatizing1 and systemizing2 > emphatizing2:\n",
    "            return -1\n",
    "        #Nobody does any work\n",
    "        else:\n",
    "            return 0"
   ]
  },
  {
   "cell_type": "markdown",
   "metadata": {},
   "source": [
    "Next, we are going to be adding the decision-making rule based on the habits. So people are going to be more likely to do the work, that they have done more frequently in the past. So if the person has done more mathematical work in the past, then they will be more willing to do more mathematical work. And if they did more verbal work in the past, they will be more willing to do more verbal work going forward."
   ]
  },
  {
   "cell_type": "code",
   "execution_count": 37,
   "metadata": {},
   "outputs": [],
   "source": [
    "class Human(Agent):\n",
    "    \n",
    "    def __init__(self, unique_id, model):\n",
    "        super().__init__(unique_id, model)\n",
    "        self.gender = random.choice([\"female\", \"male\"])\n",
    "        if self.gender == \"female\":\n",
    "            self.reading = random.gauss(ReadingFemaleMean, ReadingFemaleSd)\n",
    "            self.mathematical = random.gauss(MathematicalFemaleMean, MathematicalFemaleSd)\n",
    "            self.systemizing = random.gauss(SystemizingFemaleMean, SystemizingFemaleSd)\n",
    "            self.emphatizing = random.gauss(EmpathizingFemaleMean, EmpathizingFemaleSd)\n",
    "        elif self.gender == \"male\":\n",
    "            self.reading = random.gauss(ReadingMaleMean, ReadingMaleSd)\n",
    "            self.mathematical = random.gauss(MathematicalMaleMean, MathematicalMaleSd)\n",
    "            self.systemizing = random.gauss(SystemizingMaleMean, SystemizingMaleSd)\n",
    "            self.emphatizing = random.gauss(EmpathizingMaleMean, EmpathizingMaleSd)\n",
    "        self.work = 0\n",
    "    \n",
    "    def skill(self, mathematical1, reading1, mathematical2, reading2):\n",
    "        ratio1 = mathematical1/reading1\n",
    "        ratio2 = mathematical2/reading2\n",
    "        #First person doing math work\n",
    "        if ratio1 > ratio2:\n",
    "            return 1\n",
    "        #First person doing verbal work\n",
    "        elif ratio1 < ratio2:\n",
    "            return -1\n",
    "        #Nobody does any work\n",
    "        else:\n",
    "            return 0\n",
    "        \n",
    "    def interest(self, systemizing1, emphatizing1, systemizing2, emphatizing2):\n",
    "        #First person doing math work\n",
    "        if systemizing1 > emphatizing1 and systemizing2 < emphatizing2:\n",
    "            return 1\n",
    "        #First person doing verbal work\n",
    "        elif systemizing1 < emphatizing1 and systemizing2 > emphatizing2:\n",
    "            return -1\n",
    "        #Nobody does any work\n",
    "        else:\n",
    "            return 0\n",
    "        \n",
    "    def habits(self, work1, work2):\n",
    "        # if they are both indiferent, they don't work\n",
    "        if work1 == work2 == 0:\n",
    "            return 0\n",
    "        #First person doing math work\n",
    "        if work1 >= 0 and work2 <= 0:\n",
    "            return 1\n",
    "        #First person doing verbal work\n",
    "        elif work1 <= 0 and work1 >= 0:\n",
    "            return -1\n",
    "        #Nobody does any work\n",
    "        else:\n",
    "            return 0"
   ]
  },
  {
   "cell_type": "markdown",
   "metadata": {},
   "source": [
    "So for the last part, we now need to create a step function, which will combine these decision-making rules. In decision-making theory, the non-weighted decisions are more robust and produce better results in most situations. So this is what will be used in the model. Our \"humans\" will check all the decision-making rules, and see in which way are they leaning. Then they will make a decision that will have more decision-making rules pointing in that direction. The non-trade decisions will be ignored. If the same amount of decision will point in both direction, then no trade will happen. "
   ]
  },
  {
   "cell_type": "code",
   "execution_count": 38,
   "metadata": {},
   "outputs": [],
   "source": [
    "class Human(Agent):\n",
    "    \n",
    "    def __init__(self, unique_id, model):\n",
    "        super().__init__(unique_id, model)\n",
    "        self.gender = random.choice([\"female\", \"male\"])\n",
    "        if self.gender == \"female\":\n",
    "            self.reading = random.gauss(ReadingFemaleMean, ReadingFemaleSd)\n",
    "            self.mathematical = random.gauss(MathematicalFemaleMean, MathematicalFemaleSd)\n",
    "            self.systemizing = random.gauss(SystemizingFemaleMean, SystemizingFemaleSd)\n",
    "            self.emphatizing = random.gauss(EmpathizingFemaleMean, EmpathizingFemaleSd)\n",
    "        elif self.gender == \"male\":\n",
    "            self.reading = random.gauss(ReadingMaleMean, ReadingMaleSd)\n",
    "            self.mathematical = random.gauss(MathematicalMaleMean, MathematicalMaleSd)\n",
    "            self.systemizing = random.gauss(SystemizingMaleMean, SystemizingMaleSd)\n",
    "            self.emphatizing = random.gauss(EmpathizingMaleMean, EmpathizingMaleSd)\n",
    "        self.work = 0\n",
    "        \n",
    "    def step(self):\n",
    "        other_agent = random.choice(self.model.schedule.agents)\n",
    "        work_done_skills = self.skill(self.mathematical, self.reading, other_agent.mathematical, other_agent.reading)\n",
    "        work_done_interest = self.interest(self.systemizing, self.emphatizing, other_agent.systemizing, other_agent.emphatizing)\n",
    "        work_done_habit = self.habit(self.work, other_agent.work)\n",
    "        work_done_sum = sum([work_done_skills, work_done_interest, work_done_habit])\n",
    "        if work_done_sum > 0:\n",
    "            work_done = 1\n",
    "        elif work_done_sum < 0:\n",
    "            work_done = -1\n",
    "        else:\n",
    "            work_done = 0\n",
    "        self.work = self.work + work_done\n",
    "        other_agent.work = other_agent.work + (work_done * (-1))\n",
    "    \n",
    "    def skill(self, mathematical1, reading1, mathematical2, reading2):\n",
    "        ratio1 = mathematical1/reading1\n",
    "        ratio2 = mathematical2/reading2\n",
    "        #First person doing math work\n",
    "        if ratio1 > ratio2:\n",
    "            return 1\n",
    "        #First person doing verbal work\n",
    "        elif ratio1 < ratio2:\n",
    "            return -1\n",
    "        #Nobody does any work\n",
    "        else:\n",
    "            return 0\n",
    "        \n",
    "    def interest(self, systemizing1, emphatizing1, systemizing2, emphatizing2):\n",
    "        #First person doing math work\n",
    "        if systemizing1 > emphatizing1 and systemizing2 < emphatizing2:\n",
    "            return 1\n",
    "        #First person doing verbal work\n",
    "        elif systemizing1 < emphatizing1 and systemizing2 > emphatizing2:\n",
    "            return -1\n",
    "        #Nobody does any work\n",
    "        else:\n",
    "            return 0\n",
    "        \n",
    "    def habit(self, work1, work2):\n",
    "        # if they are both indiferent, they don't work\n",
    "        if work1 == work2 == 0:\n",
    "            return 0\n",
    "        #First person doing math work\n",
    "        if work1 >= 0 and work2 <= 0:\n",
    "            return 1\n",
    "        #First person doing verbal work\n",
    "        elif work1 <= 0 and work1 >= 0:\n",
    "            return -1\n",
    "        #Nobody does any work\n",
    "        else:\n",
    "            return 0"
   ]
  },
  {
   "cell_type": "markdown",
   "metadata": {},
   "source": [
    "Now the only thing left is to run the simulations again, the same way we did in both of the previous cases. "
   ]
  },
  {
   "cell_type": "code",
   "execution_count": 39,
   "metadata": {},
   "outputs": [],
   "source": [
    "all_rations_women = []\n",
    "all_rations_men = []"
   ]
  },
  {
   "cell_type": "code",
   "execution_count": 40,
   "metadata": {},
   "outputs": [],
   "source": [
    "for j in range(100):\n",
    "    model = ExchangeModel(100)\n",
    "    for i in range(100):\n",
    "        model.step()\n",
    "    ratios = get_ratios(model.schedule.agents)\n",
    "    all_rations_women.append(ratios[0])\n",
    "    all_rations_men.append(ratios[1])"
   ]
  },
  {
   "cell_type": "markdown",
   "metadata": {},
   "source": [
    "Now, just like before, let us check the mean of distributions of ratios. "
   ]
  },
  {
   "cell_type": "code",
   "execution_count": 41,
   "metadata": {},
   "outputs": [
    {
     "data": {
      "text/plain": [
       "0.38707279528104044"
      ]
     },
     "execution_count": 41,
     "metadata": {},
     "output_type": "execute_result"
    }
   ],
   "source": [
    "statistics.mean(all_rations_women)"
   ]
  },
  {
   "cell_type": "code",
   "execution_count": 42,
   "metadata": {},
   "outputs": [
    {
     "data": {
      "text/plain": [
       "0.6140420879258315"
      ]
     },
     "execution_count": 42,
     "metadata": {},
     "output_type": "execute_result"
    }
   ],
   "source": [
    "statistics.mean(all_rations_men)"
   ]
  },
  {
   "cell_type": "markdown",
   "metadata": {},
   "source": [
    "And let us check, how much are the distributions overlapping. Again, it seems that the distributions are not overlapping a lot. "
   ]
  },
  {
   "cell_type": "code",
   "execution_count": 43,
   "metadata": {},
   "outputs": [
    {
     "data": {
      "text/plain": [
       "Text(0.5, 1.0, 'Ratio of mathematical work based on gender')"
      ]
     },
     "execution_count": 43,
     "metadata": {},
     "output_type": "execute_result"
    },
    {
     "data": {
      "image/png": "[encoded data removed]",
      "text/plain": [
       "<Figure size 1440x576 with 1 Axes>"
      ]
     },
     "metadata": {
      "needs_background": "light"
     },
     "output_type": "display_data"
    }
   ],
   "source": [
    "f = plt.figure(figsize=(20,8))\n",
    "plot1 = f.add_subplot(1, 1, 1)\n",
    "plot1.hist(all_rations_women, alpha=.4)\n",
    "plot1.hist(all_rations_men, alpha=.4)\n",
    "plot1.set_title(\"Ratio of mathematical work based on gender\")"
   ]
  },
  {
   "cell_type": "markdown",
   "metadata": {},
   "source": [
    "So here, we have presented a couple of possible reasons, why there is not an equal distribution of gender in programming, which has nothing to do with the cultural factors or upbringing. "
   ]
  }
 ],
 "metadata": {
  "kernelspec": {
   "display_name": "Python 3",
   "language": "python",
   "name": "python3"
  },
  "language_info": {
   "codemirror_mode": {
    "name": "ipython",
    "version": 3
   },
   "file_extension": ".py",
   "mimetype": "text/x-python",
   "name": "python",
   "nbconvert_exporter": "python",
   "pygments_lexer": "ipython3",
   "version": "3.7.1"
  }
 },
 "nbformat": 4,
 "nbformat_minor": 2
}
