{
 "cells": [
  {
   "cell_type": "markdown",
   "metadata": {},
   "source": [
    "# Getting information from Stack Exchange Sites"
   ]
  },
  {
   "cell_type": "code",
   "execution_count": 23,
   "metadata": {
    "collapsed": true
   },
   "outputs": [],
   "source": [
    "from stackapi import StackAPI\n",
    "import datetime"
   ]
  },
  {
   "cell_type": "markdown",
   "metadata": {},
   "source": [
    "There is more than one python wrapper for Stack Exchange API. One of them is StackAPI. The documentation can be found on http://stackapi.readthedocs.io/en/latest/user/intro.html"
   ]
  },
  {
   "cell_type": "markdown",
   "metadata": {},
   "source": [
    "First we are going to start the object, that has the ability to get information from the Stack Exchange. Here we are using \"stackoverflow\" as variable, since we want results from this subsite. "
   ]
  },
  {
   "cell_type": "code",
   "execution_count": 24,
   "metadata": {
    "collapsed": true
   },
   "outputs": [],
   "source": [
    "reader = StackAPI(\"stackoverflow\")"
   ]
  },
  {
   "cell_type": "markdown",
   "metadata": {},
   "source": [
    "Here we are declaring how many results do we want to get. Max_pages refer to how many API calles there are. Page_size refer to how many results do we get with each API call. So the result number = max_pages * page_size"
   ]
  },
  {
   "cell_type": "code",
   "execution_count": 25,
   "metadata": {
    "collapsed": true
   },
   "outputs": [],
   "source": [
    "reader.page_size = 100\n",
    "reader.max_pages = 1"
   ]
  },
  {
   "cell_type": "markdown",
   "metadata": {},
   "source": [
    "This call finds the questions, that were postet between 1th of January 2017 and 2nd of Januar 2017, that use the tag Python and have at least 0 reputation. "
   ]
  },
  {
   "cell_type": "code",
   "execution_count": 26,
   "metadata": {
    "collapsed": true
   },
   "outputs": [],
   "source": [
    "questions = reader.fetch(\"questions\", \n",
    "                         fromdate=datetime.date(2017, 1, 1), \n",
    "                         todate=datetime.date(2017, 1, 2), \n",
    "                         tagged=\"python\", \n",
    "                         min=0)"
   ]
  },
  {
   "cell_type": "markdown",
   "metadata": {},
   "source": [
    "The results are found in the list, under the dictionary key \"items\". The below code displays one of these results. "
   ]
  },
  {
   "cell_type": "code",
   "execution_count": 28,
   "metadata": {},
   "outputs": [
    {
     "data": {
      "text/plain": [
       "{'answer_count': 0,\n",
       " 'creation_date': 1483285873,\n",
       " 'is_answered': False,\n",
       " 'last_activity_date': 1483367481,\n",
       " 'link': 'http://stackoverflow.com/questions/41416699/this-error-while-running-selenium-script-with-python-on-ubuntu',\n",
       " 'owner': {'display_name': 'user7362553',\n",
       "  'link': 'http://stackoverflow.com/users/7362553/user7362553',\n",
       "  'profile_image': 'https://www.gravatar.com/avatar/9fbef7cf14f0baf0febd4cff6916e8d3?s=128&d=identicon&r=PG&f=1',\n",
       "  'reputation': 6,\n",
       "  'user_id': 7362553,\n",
       "  'user_type': 'registered'},\n",
       " 'question_id': 41416699,\n",
       " 'score': 1,\n",
       " 'tags': ['python', 'selenium'],\n",
       " 'title': 'this error while running selenium script with Python on Ubuntu',\n",
       " 'view_count': 77}"
      ]
     },
     "execution_count": 28,
     "metadata": {},
     "output_type": "execute_result"
    }
   ],
   "source": [
    "questions[\"items\"][50]"
   ]
  }
 ],
 "metadata": {
  "kernelspec": {
   "display_name": "Python 3",
   "language": "python",
   "name": "python3"
  },
  "language_info": {
   "codemirror_mode": {
    "name": "ipython",
    "version": 3
   },
   "file_extension": ".py",
   "mimetype": "text/x-python",
   "name": "python",
   "nbconvert_exporter": "python",
   "pygments_lexer": "ipython3",
   "version": "3.6.0"
  }
 },
 "nbformat": 4,
 "nbformat_minor": 2
}
