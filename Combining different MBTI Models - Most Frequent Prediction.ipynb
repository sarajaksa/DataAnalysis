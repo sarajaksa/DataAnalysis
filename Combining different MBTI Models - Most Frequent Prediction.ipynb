{
 "cells": [
  {
   "cell_type": "markdown",
   "metadata": {},
   "source": [
    "# Conbining different MBTI Models - Most Frequent Prediction Method"
   ]
  },
  {
   "cell_type": "markdown",
   "metadata": {},
   "source": [
    "By: Sara Jakša"
   ]
  },
  {
   "cell_type": "markdown",
   "metadata": {},
   "source": [
    "In this project, we are going to be combining different models or order to bust our prediction rate."
   ]
  },
  {
   "cell_type": "code",
   "execution_count": 1,
   "metadata": {},
   "outputs": [
    {
     "name": "stderr",
     "output_type": "stream",
     "text": [
      "/usr/lib/python3.6/site-packages/sklearn/cross_validation.py:44: DeprecationWarning: This module was deprecated in version 0.18 in favor of the model_selection module into which all the refactored classes and functions are moved. Also note that the interface of the new CV iterators are different from that of this module. This module will be removed in 0.20.\n",
      "  \"This module will be removed in 0.20.\", DeprecationWarning)\n"
     ]
    }
   ],
   "source": [
    "from sklearn.feature_extraction.text import TfidfTransformer, CountVectorizer\n",
    "from sklearn.tree import DecisionTreeClassifier\n",
    "from sklearn.ensemble import RandomForestClassifier\n",
    "from sklearn.linear_model import LogisticRegression\n",
    "from sklearn.linear_model import SGDClassifier\n",
    "from sklearn.naive_bayes import MultinomialNB\n",
    "from sklearn.pipeline import Pipeline\n",
    "from sklearn.svm import LinearSVC\n",
    "from sklearn import cross_validation\n",
    "from sklearn.metrics import confusion_matrix\n",
    "from collections import defaultdict\n",
    "import matplotlib.pyplot as plt\n",
    "import numpy as np\n",
    "import random\n",
    "import pickle\n",
    "%matplotlib inline"
   ]
  },
  {
   "cell_type": "markdown",
   "metadata": {},
   "source": [
    "This part is here because it is a value that I am frequently using in the script."
   ]
  },
  {
   "cell_type": "code",
   "execution_count": 2,
   "metadata": {
    "collapsed": true
   },
   "outputs": [],
   "source": [
    "filenames = [\"ENFJ\",\n",
    "             \"ENFP\",\n",
    "             \"ENTJ\",\n",
    "             \"ENTP\",\n",
    "             \"ESFJ\",\n",
    "             \"ESFP\",\n",
    "             \"ESTJ\",\n",
    "             \"ESTP\",\n",
    "             \"INFJ\",\n",
    "             \"INFP\",\n",
    "             \"INTJ\",\n",
    "             \"INTP\",\n",
    "             \"ISFJ\",\n",
    "             \"ISFP\",\n",
    "             \"ISTJ\",\n",
    "             \"ISTP\"]"
   ]
  },
  {
   "cell_type": "markdown",
   "metadata": {},
   "source": [
    "This function here is used to get all the different data for each different label. "
   ]
  },
  {
   "cell_type": "code",
   "execution_count": 3,
   "metadata": {
    "collapsed": true
   },
   "outputs": [],
   "source": [
    "def get_type_texts(filename):\n",
    "    posts = []\n",
    "    with open(\"PersonalityCafePosts/\" + filename, \"r\") as read:\n",
    "        content = read.readlines()\n",
    "    content = \"\".join(content)\n",
    "    content = content.split(\"\\n\\n\\n\")\n",
    "    content = [post.strip() for post in content]\n",
    "    posts = posts + content\n",
    "    with open(\"Reddit/reddit.csv\", \"r\") as read:\n",
    "        content = read.readlines()\n",
    "    for line in content:\n",
    "        typename = line.split(\"\\t\")\n",
    "        if typename[2].strip().lower() == filename.lower():\n",
    "            posts.append(line.strip())\n",
    "    if filename in [\"ESFJ\"]:\n",
    "        with open(\"Tumblr/\" + filename.lower() + \"-posts.csv\", \"r\") as read:\n",
    "            content = read.readlines()\n",
    "            posts = posts + content\n",
    "    return posts"
   ]
  },
  {
   "cell_type": "markdown",
   "metadata": {},
   "source": [
    "This function let us get the number selection of the posts. It is used in order to create submodels which will have balaned data."
   ]
  },
  {
   "cell_type": "code",
   "execution_count": 4,
   "metadata": {
    "collapsed": true
   },
   "outputs": [],
   "source": [
    "def get_random_posts(typename, number_of_posts):\n",
    "    posts = get_type_texts(typename)\n",
    "    return random.sample(posts, number_of_posts)"
   ]
  },
  {
   "cell_type": "markdown",
   "metadata": {},
   "source": [
    "This function simply allows us to check how many instances of each type are there."
   ]
  },
  {
   "cell_type": "code",
   "execution_count": 5,
   "metadata": {
    "collapsed": true
   },
   "outputs": [],
   "source": [
    "def get_number_of_texts():\n",
    "    typeposts = defaultdict(int)\n",
    "    for filename in filenames:\n",
    "        typeposts[filename] = len(get_type_texts(filename))\n",
    "    return typeposts"
   ]
  },
  {
   "cell_type": "markdown",
   "metadata": {},
   "source": [
    "Next we will check how many element does the category with least elements has."
   ]
  },
  {
   "cell_type": "code",
   "execution_count": 6,
   "metadata": {},
   "outputs": [
    {
     "name": "stdout",
     "output_type": "stream",
     "text": [
      "1360\n"
     ]
    }
   ],
   "source": [
    "min_data = min([element for element in get_number_of_texts().values()])\n",
    "print(min_data)"
   ]
  },
  {
   "cell_type": "markdown",
   "metadata": {},
   "source": [
    "This function will allow us to create a model, test it on a seperate part of the data and the output the model. "
   ]
  },
  {
   "cell_type": "code",
   "execution_count": 7,
   "metadata": {
    "collapsed": true
   },
   "outputs": [],
   "source": [
    "def create_model(min_data, function_used, ngram_range_value=(1,2)):\n",
    "    all_data = []\n",
    "    all_labels = []\n",
    "    for filename in filenames:\n",
    "        current_data = get_random_posts(filename, min_data)\n",
    "        all_data = all_data + current_data\n",
    "        all_labels = all_labels + [filename]*len(current_data)\n",
    "    X_train, X_test, y_train, y_test = cross_validation.train_test_split(all_data, all_labels, test_size=0.25)\n",
    "    model = Pipeline([('vect', CountVectorizer(stop_words=\"english\", ngram_range=ngram_range_value)),\n",
    "                  ('tfidf', TfidfTransformer()),\n",
    "                  ('fitting', function_used),\n",
    "                  ])\n",
    "    model.fit(X_train, y_train)\n",
    "    predicted = model.predict(X_test)\n",
    "    print(np.mean(predicted == y_test))\n",
    "    return model"
   ]
  },
  {
   "cell_type": "markdown",
   "metadata": {},
   "source": [
    "This is going to be the list where we will keep track of all the models."
   ]
  },
  {
   "cell_type": "code",
   "execution_count": 8,
   "metadata": {
    "collapsed": true
   },
   "outputs": [],
   "source": [
    "all_models = []"
   ]
  },
  {
   "cell_type": "markdown",
   "metadata": {},
   "source": [
    "Now we are going to be creating the models and saving them in the all_models variable."
   ]
  },
  {
   "cell_type": "code",
   "execution_count": 9,
   "metadata": {},
   "outputs": [
    {
     "name": "stdout",
     "output_type": "stream",
     "text": [
      "0.352205882353\n",
      "0.356801470588\n",
      "0.26875\n",
      "0.254044117647\n",
      "0.272242647059\n",
      "0.361397058824\n"
     ]
    }
   ],
   "source": [
    "for i in range(1):\n",
    "    all_models.append(create_model(min_data, LogisticRegression()))\n",
    "    all_models.append(create_model(min_data, SGDClassifier()))\n",
    "    all_models.append(create_model(min_data, MultinomialNB()))\n",
    "    all_models.append(create_model(min_data, RandomForestClassifier()))\n",
    "    all_models.append(create_model(min_data, DecisionTreeClassifier()))\n",
    "    all_models.append(create_model(min_data, LinearSVC()))"
   ]
  },
  {
   "cell_type": "markdown",
   "metadata": {},
   "source": [
    "Now we are going to save these models in the \"mbti-16-models.obj\" file, so that we will not need to calculate them every single time."
   ]
  },
  {
   "cell_type": "code",
   "execution_count": 10,
   "metadata": {},
   "outputs": [],
   "source": [
    "with open(\"mbti-6-models.obj\", \"wb\") as output_file:\n",
    "    for model in all_models[:7]:\n",
    "        pickle.dump(model, output_file)"
   ]
  },
  {
   "cell_type": "markdown",
   "metadata": {},
   "source": [
    "The next function will simply take the dictionary with all predictions and output the most frequent one."
   ]
  },
  {
   "cell_type": "code",
   "execution_count": 11,
   "metadata": {
    "collapsed": true
   },
   "outputs": [],
   "source": [
    "def get_most_frequent_pred(dictionary):\n",
    "    most_freq_num = 0\n",
    "    most_freq_type = \"\"\n",
    "    for typename, freq in dictionary.items():\n",
    "        if freq > most_freq_num:\n",
    "            most_freq_num = freq\n",
    "            most_freq_type = typename\n",
    "    return most_freq_type"
   ]
  },
  {
   "cell_type": "markdown",
   "metadata": {},
   "source": [
    "The next part is simply to test how well the combined models do."
   ]
  },
  {
   "cell_type": "code",
   "execution_count": 12,
   "metadata": {
    "collapsed": true
   },
   "outputs": [],
   "source": [
    "all_data = []\n",
    "all_labels = []\n",
    "for filename in filenames:\n",
    "    current_data = get_random_posts(filename, min_data)\n",
    "    all_data = all_data + current_data\n",
    "    all_labels = all_labels + [filename]*len(current_data)"
   ]
  },
  {
   "cell_type": "code",
   "execution_count": 13,
   "metadata": {
    "collapsed": true
   },
   "outputs": [],
   "source": [
    "whole_data = list(zip(all_data, all_labels))\n",
    "random.shuffle(whole_data)\n",
    "all_data = [d[0] for d in whole_data]\n",
    "all_labels = [d[1] for d in whole_data]"
   ]
  },
  {
   "cell_type": "code",
   "execution_count": 14,
   "metadata": {
    "collapsed": true
   },
   "outputs": [],
   "source": [
    "predicted = []\n",
    "i = 0\n",
    "for data in all_data[:500]:\n",
    "    i += 1\n",
    "    all_pred = defaultdict(int)\n",
    "    for model in all_models[:50]:\n",
    "        something = []\n",
    "        something.append(data)\n",
    "        pred = model.predict(something)\n",
    "        all_pred[pred[0]] += 1\n",
    "    pred = get_most_frequent_pred(all_pred)\n",
    "    predicted.append(pred)"
   ]
  },
  {
   "cell_type": "code",
   "execution_count": 15,
   "metadata": {},
   "outputs": [
    {
     "name": "stdout",
     "output_type": "stream",
     "text": [
      "0.502\n"
     ]
    }
   ],
   "source": [
    "print(np.mean([1 if x == y else 0 for x, y in zip(predicted, all_labels[:500])]))"
   ]
  },
  {
   "cell_type": "code",
   "execution_count": 16,
   "metadata": {},
   "outputs": [
    {
     "data": {
      "image/png": "[encoded data removed]",
      "text/plain": [
       "<matplotlib.figure.Figure at 0x7f9a3fb79c88>"
      ]
     },
     "metadata": {},
     "output_type": "display_data"
    }
   ],
   "source": [
    "conf = confusion_matrix(predicted, all_labels[:500])\n",
    "plt.imshow(conf, cmap='binary', interpolation='None')\n",
    "plt.show()"
   ]
  },
  {
   "cell_type": "markdown",
   "metadata": {},
   "source": [
    "Now if a person just want to import an use them, the the following function can be use."
   ]
  },
  {
   "cell_type": "code",
   "execution_count": 20,
   "metadata": {
    "collapsed": true
   },
   "outputs": [],
   "source": [
    "models = []"
   ]
  },
  {
   "cell_type": "code",
   "execution_count": 21,
   "metadata": {},
   "outputs": [],
   "source": [
    "with open(\"mbti-6-models.obj\", \"rb\") as f:\n",
    "    for i in range(6):\n",
    "        models.append(pickle.load(f))"
   ]
  },
  {
   "cell_type": "markdown",
   "metadata": {},
   "source": [
    "And then text can be predicted in the following way:"
   ]
  },
  {
   "cell_type": "code",
   "execution_count": 32,
   "metadata": {
    "collapsed": true
   },
   "outputs": [],
   "source": [
    "all_pred = defaultdict(int)"
   ]
  },
  {
   "cell_type": "code",
   "execution_count": 33,
   "metadata": {
    "collapsed": true
   },
   "outputs": [],
   "source": [
    "for model in models:\n",
    "    prediction = model.predict([\"\"\"The third-rate mind is only happy when it is thinking with the majority. \n",
    "                                The second-rate mind is only happy when it is thinking with the minority. \n",
    "                                The first-rate mind is only happy when it is thinking.\"\"\"])\n",
    "    all_pred[prediction[0]] += 1"
   ]
  },
  {
   "cell_type": "code",
   "execution_count": 34,
   "metadata": {},
   "outputs": [
    {
     "data": {
      "text/plain": [
       "'ESFJ'"
      ]
     },
     "execution_count": 34,
     "metadata": {},
     "output_type": "execute_result"
    }
   ],
   "source": [
    "get_most_frequent_pred(all_pred)"
   ]
  },
  {
   "cell_type": "code",
   "execution_count": null,
   "metadata": {
    "collapsed": true
   },
   "outputs": [],
   "source": []
  }
 ],
 "metadata": {
  "kernelspec": {
   "display_name": "Python 3",
   "language": "python",
   "name": "python3"
  },
  "language_info": {
   "codemirror_mode": {
    "name": "ipython",
    "version": 3
   },
   "file_extension": ".py",
   "mimetype": "text/x-python",
   "name": "python",
   "nbconvert_exporter": "python",
   "pygments_lexer": "ipython3",
   "version": "3.6.1"
  }
 },
 "nbformat": 4,
 "nbformat_minor": 2
}
