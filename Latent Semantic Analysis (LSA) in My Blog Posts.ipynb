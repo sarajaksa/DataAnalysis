{
 "cells": [
  {
   "cell_type": "markdown",
   "metadata": {},
   "source": [
    "# LSA Clustering on my Blog Posts"
   ]
  },
  {
   "cell_type": "markdown",
   "metadata": {},
   "source": [
    "This is an example of the LSA clustering. This is a tehniques, that I wanted to try ever since I found out about it during the Grounded cognition class. Now, when way too much time had passed, and I am cleaning my files on the computer, I am finally trying to do it. "
   ]
  },
  {
   "cell_type": "markdown",
   "metadata": {},
   "source": [
    "These are the assumptions of the method:\n",
    "+ langauge describes the word\n",
    "+ co-ocurances are important\n",
    "+ meaning can be represented as a vector"
   ]
  },
  {
   "cell_type": "markdown",
   "metadata": {},
   "source": [
    "Negative sides:\n",
    "+ ignores word order\n",
    "+ ignores poliysemy (multiple meanings of a word)\n",
    "+ not grounded in perception/action\n",
    "+ can't capture creativity in the language"
   ]
  },
  {
   "cell_type": "markdown",
   "metadata": {},
   "source": [
    "I am going to try and cluster the blog posts that I had written until 19. of February 2019. "
   ]
  },
  {
   "cell_type": "markdown",
   "metadata": {},
   "source": [
    "## Imports"
   ]
  },
  {
   "cell_type": "code",
   "execution_count": 180,
   "metadata": {},
   "outputs": [],
   "source": [
    "import os\n",
    "from sklearn.feature_extraction.text import CountVectorizer\n",
    "from sklearn.feature_extraction.text import TfidfTransformer\n",
    "from sklearn.decomposition import TruncatedSVD\n",
    "from sklearn.cluster import KMeans\n",
    "import pandas\n",
    "import numpy\n",
    "import matplotlib.pyplot as plt"
   ]
  },
  {
   "cell_type": "markdown",
   "metadata": {},
   "source": [
    "## Getting the Data"
   ]
  },
  {
   "cell_type": "markdown",
   "metadata": {},
   "source": [
    "I have put the markdown files of all my posts in the data folder. There are 547 files listed there (which means, I did quite some writting in that time). Not all of them were originally written from my blog, but they are all my writtings. "
   ]
  },
  {
   "cell_type": "code",
   "execution_count": 160,
   "metadata": {},
   "outputs": [],
   "source": [
    "all_files = os.listdir(\"data\")"
   ]
  },
  {
   "cell_type": "code",
   "execution_count": 161,
   "metadata": {},
   "outputs": [
    {
     "data": {
      "text/plain": [
       "547"
      ]
     },
     "execution_count": 161,
     "metadata": {},
     "output_type": "execute_result"
    }
   ],
   "source": [
    "len(all_files)"
   ]
  },
  {
   "cell_type": "markdown",
   "metadata": {},
   "source": [
    "## Building the Model"
   ]
  },
  {
   "cell_type": "markdown",
   "metadata": {},
   "source": [
    "Next I created the mode, following this question: https://stackoverflow.com/questions/30590881/python-lsa-with-sklearn"
   ]
  },
  {
   "cell_type": "markdown",
   "metadata": {},
   "source": [
    "First we get the word vector."
   ]
  },
  {
   "cell_type": "code",
   "execution_count": 162,
   "metadata": {},
   "outputs": [],
   "source": [
    "word_vector = CountVectorizer(input='filename',strip_accents='ascii')"
   ]
  },
  {
   "cell_type": "code",
   "execution_count": 163,
   "metadata": {},
   "outputs": [],
   "source": [
    "word_vector_result = word_vector.fit_transform([os.path.join(\"data\", filename) for filename in all_files]).toarray()"
   ]
  },
  {
   "cell_type": "markdown",
   "metadata": {},
   "source": [
    "There are 13 734 different words used. "
   ]
  },
  {
   "cell_type": "code",
   "execution_count": 164,
   "metadata": {},
   "outputs": [
    {
     "data": {
      "text/plain": [
       "13734"
      ]
     },
     "execution_count": 164,
     "metadata": {},
     "output_type": "execute_result"
    }
   ],
   "source": [
    "len(word_vector.get_feature_names())"
   ]
  },
  {
   "cell_type": "markdown",
   "metadata": {},
   "source": [
    "Next, the words that are used get corrected by frequency. "
   ]
  },
  {
   "cell_type": "code",
   "execution_count": 165,
   "metadata": {},
   "outputs": [],
   "source": [
    "word_freq = TfidfTransformer()"
   ]
  },
  {
   "cell_type": "code",
   "execution_count": 166,
   "metadata": {},
   "outputs": [],
   "source": [
    "word_freq_result = word_freq.fit_transform(dtMatrix).toarray()"
   ]
  },
  {
   "cell_type": "markdown",
   "metadata": {},
   "source": [
    "And next we do the LSA. The LSA is just a modified SVD. In this example, I will try to get 5 groups from my blogs. This is a lot less then they recomend. "
   ]
  },
  {
   "cell_type": "code",
   "execution_count": 167,
   "metadata": {},
   "outputs": [],
   "source": [
    "model = TruncatedSVD(n_components = 10)"
   ]
  },
  {
   "cell_type": "code",
   "execution_count": 168,
   "metadata": {},
   "outputs": [],
   "source": [
    "model_result = model.fit_transform(tfidfMatrix)"
   ]
  },
  {
   "cell_type": "code",
   "execution_count": 169,
   "metadata": {},
   "outputs": [],
   "source": [
    "final_data = pandas.DataFrame(model_result)"
   ]
  },
  {
   "cell_type": "markdown",
   "metadata": {},
   "source": [
    "## Results"
   ]
  },
  {
   "cell_type": "markdown",
   "metadata": {},
   "source": [
    "So this is how the results look like. "
   ]
  },
  {
   "cell_type": "code",
   "execution_count": 170,
   "metadata": {},
   "outputs": [
    {
     "data": {
      "text/html": [
       "<div>\n",
       "<style scoped>\n",
       "    .dataframe tbody tr th:only-of-type {\n",
       "        vertical-align: middle;\n",
       "    }\n",
       "\n",
       "    .dataframe tbody tr th {\n",
       "        vertical-align: top;\n",
       "    }\n",
       "\n",
       "    .dataframe thead th {\n",
       "        text-align: right;\n",
       "    }\n",
       "</style>\n",
       "<table border=\"1\" class=\"dataframe\">\n",
       "  <thead>\n",
       "    <tr style=\"text-align: right;\">\n",
       "      <th></th>\n",
       "      <th>0</th>\n",
       "      <th>1</th>\n",
       "      <th>2</th>\n",
       "      <th>3</th>\n",
       "      <th>4</th>\n",
       "      <th>5</th>\n",
       "      <th>6</th>\n",
       "      <th>7</th>\n",
       "      <th>8</th>\n",
       "      <th>9</th>\n",
       "    </tr>\n",
       "  </thead>\n",
       "  <tbody>\n",
       "    <tr>\n",
       "      <th>0</th>\n",
       "      <td>0.121097</td>\n",
       "      <td>-0.046699</td>\n",
       "      <td>-0.008465</td>\n",
       "      <td>0.124442</td>\n",
       "      <td>0.028540</td>\n",
       "      <td>0.074604</td>\n",
       "      <td>-0.047604</td>\n",
       "      <td>0.039494</td>\n",
       "      <td>-0.019425</td>\n",
       "      <td>-0.023659</td>\n",
       "    </tr>\n",
       "    <tr>\n",
       "      <th>1</th>\n",
       "      <td>0.511444</td>\n",
       "      <td>-0.171512</td>\n",
       "      <td>-0.036696</td>\n",
       "      <td>-0.092837</td>\n",
       "      <td>0.237517</td>\n",
       "      <td>0.027576</td>\n",
       "      <td>0.026673</td>\n",
       "      <td>-0.125640</td>\n",
       "      <td>0.069481</td>\n",
       "      <td>-0.096000</td>\n",
       "    </tr>\n",
       "    <tr>\n",
       "      <th>2</th>\n",
       "      <td>0.266740</td>\n",
       "      <td>-0.085150</td>\n",
       "      <td>-0.024219</td>\n",
       "      <td>-0.012151</td>\n",
       "      <td>-0.019944</td>\n",
       "      <td>-0.030245</td>\n",
       "      <td>-0.037541</td>\n",
       "      <td>-0.048234</td>\n",
       "      <td>-0.092022</td>\n",
       "      <td>0.107726</td>\n",
       "    </tr>\n",
       "    <tr>\n",
       "      <th>3</th>\n",
       "      <td>0.512284</td>\n",
       "      <td>0.507296</td>\n",
       "      <td>-0.177583</td>\n",
       "      <td>0.030264</td>\n",
       "      <td>-0.068668</td>\n",
       "      <td>0.069429</td>\n",
       "      <td>0.080944</td>\n",
       "      <td>-0.031136</td>\n",
       "      <td>-0.029869</td>\n",
       "      <td>-0.031501</td>\n",
       "    </tr>\n",
       "    <tr>\n",
       "      <th>4</th>\n",
       "      <td>0.224643</td>\n",
       "      <td>-0.042716</td>\n",
       "      <td>-0.028080</td>\n",
       "      <td>-0.035988</td>\n",
       "      <td>-0.051262</td>\n",
       "      <td>0.027667</td>\n",
       "      <td>0.017532</td>\n",
       "      <td>0.080553</td>\n",
       "      <td>-0.036661</td>\n",
       "      <td>-0.010972</td>\n",
       "    </tr>\n",
       "  </tbody>\n",
       "</table>\n",
       "</div>"
      ],
      "text/plain": [
       "          0         1         2         3         4         5         6  \\\n",
       "0  0.121097 -0.046699 -0.008465  0.124442  0.028540  0.074604 -0.047604   \n",
       "1  0.511444 -0.171512 -0.036696 -0.092837  0.237517  0.027576  0.026673   \n",
       "2  0.266740 -0.085150 -0.024219 -0.012151 -0.019944 -0.030245 -0.037541   \n",
       "3  0.512284  0.507296 -0.177583  0.030264 -0.068668  0.069429  0.080944   \n",
       "4  0.224643 -0.042716 -0.028080 -0.035988 -0.051262  0.027667  0.017532   \n",
       "\n",
       "          7         8         9  \n",
       "0  0.039494 -0.019425 -0.023659  \n",
       "1 -0.125640  0.069481 -0.096000  \n",
       "2 -0.048234 -0.092022  0.107726  \n",
       "3 -0.031136 -0.029869 -0.031501  \n",
       "4  0.080553 -0.036661 -0.010972  "
      ]
     },
     "execution_count": 170,
     "metadata": {},
     "output_type": "execute_result"
    }
   ],
   "source": [
    "final_data.head()"
   ]
  },
  {
   "cell_type": "markdown",
   "metadata": {},
   "source": [
    "Next I am going to try and see, how representitive are the groups. I will create the groups by putting each document in the group they have the higest score for and then I will see, which documents in each group have the higest score. (I have no idea, if this is how it is done)"
   ]
  },
  {
   "cell_type": "markdown",
   "metadata": {},
   "source": [
    "(I have no idea, if this is how it is done)"
   ]
  },
  {
   "cell_type": "code",
   "execution_count": 173,
   "metadata": {},
   "outputs": [],
   "source": [
    "all_elements = dict()"
   ]
  },
  {
   "cell_type": "code",
   "execution_count": 174,
   "metadata": {},
   "outputs": [],
   "source": [
    "for i in final_data.index:\n",
    "    current = numpy.array(final_data.iloc[i])\n",
    "    number = numpy.argmax(current)\n",
    "    if not number in all_elements:\n",
    "        all_elements[number] = []\n",
    "    all_elements[number].append([i, current[number]])"
   ]
  },
  {
   "cell_type": "code",
   "execution_count": 175,
   "metadata": {},
   "outputs": [
    {
     "name": "stdout",
     "output_type": "stream",
     "text": [
      "3 ['how-kurokone-was-recruited.md', 'the-constant-attention.md', 'do-you-use-self-checkouts.md', 'creativity-and-jungs-functions-eight-ways-to-be-creative.md', 'the-tension-and-the-conversation.md']\n",
      "-----------------\n",
      "0 ['uncomplicating-the-love-misunderstanding-3-there-is-nothing-wrong-here-right-gintama-fanfiction.md', 'why-people-mistakenly-think-they-are-ambiverts.md', 'dont-piss-jarvis-off-mcu-fanfiction.md', 'fairy-stage-fiction.md', 'social-media-is-making-us-one-sided.md']\n",
      "-----------------\n",
      "1 ['mbti-typing-austria-country-entj.md', 'the-aptx-murder-investigation-bbc-sherlock-detective-conan-fanfiction.md', 'do-you-use-self-checkouts.md', 'creativity-and-jungs-functions-eight-ways-to-be-creative.md', 'how-they-found-a-cat.md']\n",
      "-----------------\n",
      "2 ['how-to-find-another-persons-mbti-type-the-big-five.md', 'are-we-important.md', 'video-of-my-evolving-music-in-python.md', 'do-you-use-self-checkouts.md', 'your-couch-is-more-comfortable-mcu-fanfiction.md']\n",
      "-----------------\n",
      "8 ['creativity-and-jungs-functions-eight-ways-to-be-creative.md', 'your-couch-is-more-comfortable-mcu-fanfiction.md', 'uncomplicating-the-love-misunderstanding-2-you-fought-again-gintama-fanfiction.md', 'do-you-use-self-checkouts.md', 'how-to-find-another-persons-mbti-type-the-big-five.md']\n",
      "-----------------\n",
      "5 ['video-of-my-evolving-music-in-python.md', 'do-you-use-self-checkouts.md', 'creativity-and-jungs-functions-eight-ways-to-be-creative.md', 'learning-tactics-underlining.md', 'how-to-find-another-persons-mbti-type-the-big-five.md']\n",
      "-----------------\n",
      "9 ['how-to-find-another-persons-mbti-type-the-big-five.md', 'learning-tactics-underlining.md', 'video-of-my-evolving-music-in-python.md', 'how-they-found-a-cat.md']\n",
      "-----------------\n"
     ]
    }
   ],
   "source": [
    "for element, data in all_elements.items():\n",
    "    print(element, [all_files[i] for i in pandas.DataFrame(data).nlargest(5, 1).index])\n",
    "    print(\"-----------------\")"
   ]
  },
  {
   "cell_type": "markdown",
   "metadata": {},
   "source": [
    "Well, none of these make much since to me, so maybe I did it the wrong way?"
   ]
  },
  {
   "cell_type": "markdown",
   "metadata": {},
   "source": [
    "Another potential way would be, to check each group and see the most representitive of this group, even if they are even more representitive of another group. "
   ]
  },
  {
   "cell_type": "code",
   "execution_count": 177,
   "metadata": {},
   "outputs": [
    {
     "name": "stdout",
     "output_type": "stream",
     "text": [
      "0 ['my-first-mbti-typing-john-kennex-almost-human-istp.md', 'a-quick-guide-to-finding-your-mbti-type.md', 'creativity-and-jungs-functions-eight-ways-to-be-creative.md', 'thinker-and-feeler-vs-the-goal-of-feeling-good.md', 'how-jungs-personality-functions-can-help-you-enjoy-your-public-speaking.md']\n",
      "1 ['i-dont-want-it-gintama-fanfiction.md', 'uncomplicating-the-love-misunderstanding-1-how-do-personal-boundaries-work-gintama-fanfiction.md', 'where-i-came-from.md', 'past-experiences-become-todays-knowledge-gintama-fanfiction.md', 'assault-and-bloodbath-gintama-fanfiction.md']\n",
      "2 ['addiction-to-chocolate.md', 'why-the-flowers-fiction.md', 'your-couch-is-more-comfortable-mcu-fanfiction.md', 'usb-answer-fiction.md', 'secretarys-secret-fiction.md']\n",
      "3 ['my-drawing-lessons-2018-11-20.md', 'my-drawing-lessons-2018-11-15.md', 'my-drawing-lessons-2019-01-08.md', 'my-drawing-lessons-2018-11-09.md', 'my-drawing-lessons-2019-01-10.md']\n",
      "4 ['mbti-typing-eric-foreman-house-md-istj.md', 'mbti-typing-robert-chase-house-md-isfj.md', 'mbti-typing-james-wilson-house-md-infj.md', 'mbti-typing-gregory-house-house-md-istp.md', 'a-guess-based-on-mbti-why-gregory-house-and-james-wilson-are-such-a-good-combination.md']\n",
      "5 ['using-stackoverflow-api.md', 'splitting-the-stackoverflow-data.md', 'how-many-pieces-of-knowledge-from-different-places-are-hidden-in-my-code.md', 'i-discovered-jupyter.md', 'dealing-with-unbalanced-data-averaging-results-with-mbti-data.md']\n",
      "6 ['wrong-person-to-ask-for-a-date.md', 'do-you-want-to-go-out-with-me-or-maybe-not-gintama-fanfiction.md', 'mbti-typing-lisa-cuddy-house-md-estj.md', 'my-drawing-lessons-2018-11-09.md', 'mbti-typing-allison-cameron-house-md-infp.md']\n",
      "7 ['i-am-afraid-of-my-incompetence.md', 'frateco-bbc-sherlock-person-of-interest-fanfiction.md', 'shelfish-friendship-bbc-sherlock.md', 'my-facebook-experiment.md', 'breaking-up-with-my-toastmasters-club.md']\n",
      "8 ['the-recipe-for-the-hungarian-cake-madzarica.md', 'easy-chocolate-muffins-recipe.md', 'easy-coconut-pie-recipe.md', 'recipe-homemade-chocolate-take-1.md', 'chocolate-pudding-recipe.md']\n",
      "9 ['positive-habits-for-language-learning.md', 'mental-blocks-in-language-learning.md', 'why-motivation-is-needed-for-language-learning.md', 'why-learning-languages-is-so-hard.md', 'mbti-typing-james-wilson-house-md-infj.md']\n"
     ]
    }
   ],
   "source": [
    "for j in range(10):\n",
    "    print(j, [all_files[i] for i in final_data.nlargest(5, j).index])"
   ]
  },
  {
   "cell_type": "markdown",
   "metadata": {},
   "source": [
    "Well, these results make a lot more sense. The zeroth are MBTI posts. The first is Gintama fanfiction. The second is stories (fiction and fanfiction), the third is drawing, the fourth is MBTI typings and analysis of characters (though, some of these are also in general MBTI), the fifth is programming, the eight is recepies and ninth is learning. \n",
    "\n",
    "These are not all the groups of content on my blog, but they are at least right. Not sure about the sixth and seveth group. I can't see the connection there. But mostly, they are right."
   ]
  },
  {
   "cell_type": "markdown",
   "metadata": {},
   "source": [
    "So I will assume, that this is the correct way to do it. "
   ]
  },
  {
   "cell_type": "markdown",
   "metadata": {},
   "source": [
    "## Clustering"
   ]
  },
  {
   "cell_type": "markdown",
   "metadata": {},
   "source": [
    "Lets first see, how many clusters do we need. "
   ]
  },
  {
   "cell_type": "code",
   "execution_count": 203,
   "metadata": {},
   "outputs": [
    {
     "data": {
      "text/plain": [
       "[<matplotlib.lines.Line2D at 0x7f7255dd45f8>]"
      ]
     },
     "execution_count": 203,
     "metadata": {},
     "output_type": "execute_result"
    },
    {
     "data": {
      "image/png": "[encoded data removed]",
      "text/plain": [
       "<Figure size 1440x720 with 1 Axes>"
      ]
     },
     "metadata": {
      "needs_background": "light"
     },
     "output_type": "display_data"
    }
   ],
   "source": [
    "plt.figure(figsize=(20, 10))\n",
    "interia = []\n",
    "for i in range(1, 11):\n",
    "    model_i = KMeans(n_clusters = i, init = 'k-means++')\n",
    "    model_i.fit(final_data)\n",
    "    interia.append(model_i.inertia_)\n",
    "plt.plot(range(1, 11), interia)"
   ]
  },
  {
   "cell_type": "markdown",
   "metadata": {},
   "source": [
    "If there is any elbow, it is at 2. Maybe at 4. Still, none of them are big enough, so I am going to be using 5. It is just me learning how to use LSA."
   ]
  },
  {
   "cell_type": "code",
   "execution_count": 204,
   "metadata": {},
   "outputs": [
    {
     "data": {
      "text/plain": [
       "KMeans(algorithm='auto', copy_x=True, init='k-means++', max_iter=300,\n",
       "    n_clusters=5, n_init=10, n_jobs=None, precompute_distances='auto',\n",
       "    random_state=None, tol=0.0001, verbose=0)"
      ]
     },
     "execution_count": 204,
     "metadata": {},
     "output_type": "execute_result"
    }
   ],
   "source": [
    "model_clustering = KMeans(n_clusters = 5, init = 'k-means++')\n",
    "model_clustering.fit(final_data)"
   ]
  },
  {
   "cell_type": "markdown",
   "metadata": {},
   "source": [
    "Next, I am putting the cluster centers in the table. In the first table, the ones that are higher than 0.2 are green and in the second one, the ones that are lower than -0.1 are red. "
   ]
  },
  {
   "cell_type": "code",
   "execution_count": 232,
   "metadata": {},
   "outputs": [],
   "source": [
    "model_data = pandas.DataFrame(model_clustering.cluster_centers_)"
   ]
  },
  {
   "cell_type": "code",
   "execution_count": 233,
   "metadata": {},
   "outputs": [
    {
     "data": {
      "text/html": [
       "<style  type=\"text/css\" >\n",
       "    #T_7584471a_3539_11e9_98fa_f8a963538a81row0_col0 {\n",
       "            background:  green;\n",
       "        }    #T_7584471a_3539_11e9_98fa_f8a963538a81row0_col3 {\n",
       "            background:  green;\n",
       "        }    #T_7584471a_3539_11e9_98fa_f8a963538a81row1_col0 {\n",
       "            background:  green;\n",
       "        }    #T_7584471a_3539_11e9_98fa_f8a963538a81row2_col0 {\n",
       "            background:  green;\n",
       "        }    #T_7584471a_3539_11e9_98fa_f8a963538a81row3_col0 {\n",
       "            background:  green;\n",
       "        }    #T_7584471a_3539_11e9_98fa_f8a963538a81row3_col2 {\n",
       "            background:  green;\n",
       "        }    #T_7584471a_3539_11e9_98fa_f8a963538a81row4_col0 {\n",
       "            background:  green;\n",
       "        }    #T_7584471a_3539_11e9_98fa_f8a963538a81row4_col1 {\n",
       "            background:  green;\n",
       "        }</style><table id=\"T_7584471a_3539_11e9_98fa_f8a963538a81\" ><thead>    <tr>        <th class=\"blank level0\" ></th>        <th class=\"col_heading level0 col0\" >0</th>        <th class=\"col_heading level0 col1\" >1</th>        <th class=\"col_heading level0 col2\" >2</th>        <th class=\"col_heading level0 col3\" >3</th>        <th class=\"col_heading level0 col4\" >4</th>        <th class=\"col_heading level0 col5\" >5</th>        <th class=\"col_heading level0 col6\" >6</th>        <th class=\"col_heading level0 col7\" >7</th>        <th class=\"col_heading level0 col8\" >8</th>        <th class=\"col_heading level0 col9\" >9</th>    </tr></thead><tbody>\n",
       "                <tr>\n",
       "                        <th id=\"T_7584471a_3539_11e9_98fa_f8a963538a81level0_row0\" class=\"row_heading level0 row0\" >0</th>\n",
       "                        <td id=\"T_7584471a_3539_11e9_98fa_f8a963538a81row0_col0\" class=\"data row0 col0\" >0.248939</td>\n",
       "                        <td id=\"T_7584471a_3539_11e9_98fa_f8a963538a81row0_col1\" class=\"data row0 col1\" >-0.0651318</td>\n",
       "                        <td id=\"T_7584471a_3539_11e9_98fa_f8a963538a81row0_col2\" class=\"data row0 col2\" >0.0285674</td>\n",
       "                        <td id=\"T_7584471a_3539_11e9_98fa_f8a963538a81row0_col3\" class=\"data row0 col3\" >0.509097</td>\n",
       "                        <td id=\"T_7584471a_3539_11e9_98fa_f8a963538a81row0_col4\" class=\"data row0 col4\" >0.136319</td>\n",
       "                        <td id=\"T_7584471a_3539_11e9_98fa_f8a963538a81row0_col5\" class=\"data row0 col5\" >-0.191407</td>\n",
       "                        <td id=\"T_7584471a_3539_11e9_98fa_f8a963538a81row0_col6\" class=\"data row0 col6\" >0.14767</td>\n",
       "                        <td id=\"T_7584471a_3539_11e9_98fa_f8a963538a81row0_col7\" class=\"data row0 col7\" >0.0395201</td>\n",
       "                        <td id=\"T_7584471a_3539_11e9_98fa_f8a963538a81row0_col8\" class=\"data row0 col8\" >-0.0391157</td>\n",
       "                        <td id=\"T_7584471a_3539_11e9_98fa_f8a963538a81row0_col9\" class=\"data row0 col9\" >0.011923</td>\n",
       "            </tr>\n",
       "            <tr>\n",
       "                        <th id=\"T_7584471a_3539_11e9_98fa_f8a963538a81level0_row1\" class=\"row_heading level0 row1\" >1</th>\n",
       "                        <td id=\"T_7584471a_3539_11e9_98fa_f8a963538a81row1_col0\" class=\"data row1 col0\" >0.256235</td>\n",
       "                        <td id=\"T_7584471a_3539_11e9_98fa_f8a963538a81row1_col1\" class=\"data row1 col1\" >-0.0524101</td>\n",
       "                        <td id=\"T_7584471a_3539_11e9_98fa_f8a963538a81row1_col2\" class=\"data row1 col2\" >0.0107045</td>\n",
       "                        <td id=\"T_7584471a_3539_11e9_98fa_f8a963538a81row1_col3\" class=\"data row1 col3\" >0.0654186</td>\n",
       "                        <td id=\"T_7584471a_3539_11e9_98fa_f8a963538a81row1_col4\" class=\"data row1 col4\" >-0.0130649</td>\n",
       "                        <td id=\"T_7584471a_3539_11e9_98fa_f8a963538a81row1_col5\" class=\"data row1 col5\" >0.0710633</td>\n",
       "                        <td id=\"T_7584471a_3539_11e9_98fa_f8a963538a81row1_col6\" class=\"data row1 col6\" >-0.0688132</td>\n",
       "                        <td id=\"T_7584471a_3539_11e9_98fa_f8a963538a81row1_col7\" class=\"data row1 col7\" >-0.0384123</td>\n",
       "                        <td id=\"T_7584471a_3539_11e9_98fa_f8a963538a81row1_col8\" class=\"data row1 col8\" >0.0324199</td>\n",
       "                        <td id=\"T_7584471a_3539_11e9_98fa_f8a963538a81row1_col9\" class=\"data row1 col9\" >-0.00750139</td>\n",
       "            </tr>\n",
       "            <tr>\n",
       "                        <th id=\"T_7584471a_3539_11e9_98fa_f8a963538a81level0_row2\" class=\"row_heading level0 row2\" >2</th>\n",
       "                        <td id=\"T_7584471a_3539_11e9_98fa_f8a963538a81row2_col0\" class=\"data row2 col0\" >0.506597</td>\n",
       "                        <td id=\"T_7584471a_3539_11e9_98fa_f8a963538a81row2_col1\" class=\"data row2 col1\" >-0.118725</td>\n",
       "                        <td id=\"T_7584471a_3539_11e9_98fa_f8a963538a81row2_col2\" class=\"data row2 col2\" >-0.0233928</td>\n",
       "                        <td id=\"T_7584471a_3539_11e9_98fa_f8a963538a81row2_col3\" class=\"data row2 col3\" >-0.0237554</td>\n",
       "                        <td id=\"T_7584471a_3539_11e9_98fa_f8a963538a81row2_col4\" class=\"data row2 col4\" >-0.00283503</td>\n",
       "                        <td id=\"T_7584471a_3539_11e9_98fa_f8a963538a81row2_col5\" class=\"data row2 col5\" >-0.012748</td>\n",
       "                        <td id=\"T_7584471a_3539_11e9_98fa_f8a963538a81row2_col6\" class=\"data row2 col6\" >0.00847393</td>\n",
       "                        <td id=\"T_7584471a_3539_11e9_98fa_f8a963538a81row2_col7\" class=\"data row2 col7\" >0.00813403</td>\n",
       "                        <td id=\"T_7584471a_3539_11e9_98fa_f8a963538a81row2_col8\" class=\"data row2 col8\" >-0.00640678</td>\n",
       "                        <td id=\"T_7584471a_3539_11e9_98fa_f8a963538a81row2_col9\" class=\"data row2 col9\" >0.00368639</td>\n",
       "            </tr>\n",
       "            <tr>\n",
       "                        <th id=\"T_7584471a_3539_11e9_98fa_f8a963538a81level0_row3\" class=\"row_heading level0 row3\" >3</th>\n",
       "                        <td id=\"T_7584471a_3539_11e9_98fa_f8a963538a81row3_col0\" class=\"data row3 col0\" >0.423091</td>\n",
       "                        <td id=\"T_7584471a_3539_11e9_98fa_f8a963538a81row3_col1\" class=\"data row3 col1\" >0.184937</td>\n",
       "                        <td id=\"T_7584471a_3539_11e9_98fa_f8a963538a81row3_col2\" class=\"data row3 col2\" >0.347771</td>\n",
       "                        <td id=\"T_7584471a_3539_11e9_98fa_f8a963538a81row3_col3\" class=\"data row3 col3\" >-0.0210119</td>\n",
       "                        <td id=\"T_7584471a_3539_11e9_98fa_f8a963538a81row3_col4\" class=\"data row3 col4\" >-0.0107358</td>\n",
       "                        <td id=\"T_7584471a_3539_11e9_98fa_f8a963538a81row3_col5\" class=\"data row3 col5\" >0.0668381</td>\n",
       "                        <td id=\"T_7584471a_3539_11e9_98fa_f8a963538a81row3_col6\" class=\"data row3 col6\" >0.0943203</td>\n",
       "                        <td id=\"T_7584471a_3539_11e9_98fa_f8a963538a81row3_col7\" class=\"data row3 col7\" >-0.0343812</td>\n",
       "                        <td id=\"T_7584471a_3539_11e9_98fa_f8a963538a81row3_col8\" class=\"data row3 col8\" >-0.0307898</td>\n",
       "                        <td id=\"T_7584471a_3539_11e9_98fa_f8a963538a81row3_col9\" class=\"data row3 col9\" >0.00503464</td>\n",
       "            </tr>\n",
       "            <tr>\n",
       "                        <th id=\"T_7584471a_3539_11e9_98fa_f8a963538a81level0_row4\" class=\"row_heading level0 row4\" >4</th>\n",
       "                        <td id=\"T_7584471a_3539_11e9_98fa_f8a963538a81row4_col0\" class=\"data row4 col0\" >0.482724</td>\n",
       "                        <td id=\"T_7584471a_3539_11e9_98fa_f8a963538a81row4_col1\" class=\"data row4 col1\" >0.427611</td>\n",
       "                        <td id=\"T_7584471a_3539_11e9_98fa_f8a963538a81row4_col2\" class=\"data row4 col2\" >-0.0674379</td>\n",
       "                        <td id=\"T_7584471a_3539_11e9_98fa_f8a963538a81row4_col3\" class=\"data row4 col3\" >0.000799421</td>\n",
       "                        <td id=\"T_7584471a_3539_11e9_98fa_f8a963538a81row4_col4\" class=\"data row4 col4\" >0.0130038</td>\n",
       "                        <td id=\"T_7584471a_3539_11e9_98fa_f8a963538a81row4_col5\" class=\"data row4 col5\" >-0.0200479</td>\n",
       "                        <td id=\"T_7584471a_3539_11e9_98fa_f8a963538a81row4_col6\" class=\"data row4 col6\" >-0.0330355</td>\n",
       "                        <td id=\"T_7584471a_3539_11e9_98fa_f8a963538a81row4_col7\" class=\"data row4 col7\" >0.0175386</td>\n",
       "                        <td id=\"T_7584471a_3539_11e9_98fa_f8a963538a81row4_col8\" class=\"data row4 col8\" >0.00409286</td>\n",
       "                        <td id=\"T_7584471a_3539_11e9_98fa_f8a963538a81row4_col9\" class=\"data row4 col9\" >-0.00378107</td>\n",
       "            </tr>\n",
       "    </tbody></table>"
      ],
      "text/plain": [
       "<pandas.io.formats.style.Styler at 0x7f7255b79828>"
      ]
     },
     "execution_count": 233,
     "metadata": {},
     "output_type": "execute_result"
    }
   ],
   "source": [
    "model_data.style.apply(lambda x: [\"background: green\" if v > 0.2 else \"\" for v in x], axis = 1)"
   ]
  },
  {
   "cell_type": "code",
   "execution_count": 234,
   "metadata": {},
   "outputs": [
    {
     "data": {
      "text/html": [
       "<style  type=\"text/css\" >\n",
       "    #T_75d9648e_3539_11e9_98fa_f8a963538a81row0_col5 {\n",
       "            background:  red;\n",
       "        }    #T_75d9648e_3539_11e9_98fa_f8a963538a81row2_col1 {\n",
       "            background:  red;\n",
       "        }</style><table id=\"T_75d9648e_3539_11e9_98fa_f8a963538a81\" ><thead>    <tr>        <th class=\"blank level0\" ></th>        <th class=\"col_heading level0 col0\" >0</th>        <th class=\"col_heading level0 col1\" >1</th>        <th class=\"col_heading level0 col2\" >2</th>        <th class=\"col_heading level0 col3\" >3</th>        <th class=\"col_heading level0 col4\" >4</th>        <th class=\"col_heading level0 col5\" >5</th>        <th class=\"col_heading level0 col6\" >6</th>        <th class=\"col_heading level0 col7\" >7</th>        <th class=\"col_heading level0 col8\" >8</th>        <th class=\"col_heading level0 col9\" >9</th>    </tr></thead><tbody>\n",
       "                <tr>\n",
       "                        <th id=\"T_75d9648e_3539_11e9_98fa_f8a963538a81level0_row0\" class=\"row_heading level0 row0\" >0</th>\n",
       "                        <td id=\"T_75d9648e_3539_11e9_98fa_f8a963538a81row0_col0\" class=\"data row0 col0\" >0.248939</td>\n",
       "                        <td id=\"T_75d9648e_3539_11e9_98fa_f8a963538a81row0_col1\" class=\"data row0 col1\" >-0.0651318</td>\n",
       "                        <td id=\"T_75d9648e_3539_11e9_98fa_f8a963538a81row0_col2\" class=\"data row0 col2\" >0.0285674</td>\n",
       "                        <td id=\"T_75d9648e_3539_11e9_98fa_f8a963538a81row0_col3\" class=\"data row0 col3\" >0.509097</td>\n",
       "                        <td id=\"T_75d9648e_3539_11e9_98fa_f8a963538a81row0_col4\" class=\"data row0 col4\" >0.136319</td>\n",
       "                        <td id=\"T_75d9648e_3539_11e9_98fa_f8a963538a81row0_col5\" class=\"data row0 col5\" >-0.191407</td>\n",
       "                        <td id=\"T_75d9648e_3539_11e9_98fa_f8a963538a81row0_col6\" class=\"data row0 col6\" >0.14767</td>\n",
       "                        <td id=\"T_75d9648e_3539_11e9_98fa_f8a963538a81row0_col7\" class=\"data row0 col7\" >0.0395201</td>\n",
       "                        <td id=\"T_75d9648e_3539_11e9_98fa_f8a963538a81row0_col8\" class=\"data row0 col8\" >-0.0391157</td>\n",
       "                        <td id=\"T_75d9648e_3539_11e9_98fa_f8a963538a81row0_col9\" class=\"data row0 col9\" >0.011923</td>\n",
       "            </tr>\n",
       "            <tr>\n",
       "                        <th id=\"T_75d9648e_3539_11e9_98fa_f8a963538a81level0_row1\" class=\"row_heading level0 row1\" >1</th>\n",
       "                        <td id=\"T_75d9648e_3539_11e9_98fa_f8a963538a81row1_col0\" class=\"data row1 col0\" >0.256235</td>\n",
       "                        <td id=\"T_75d9648e_3539_11e9_98fa_f8a963538a81row1_col1\" class=\"data row1 col1\" >-0.0524101</td>\n",
       "                        <td id=\"T_75d9648e_3539_11e9_98fa_f8a963538a81row1_col2\" class=\"data row1 col2\" >0.0107045</td>\n",
       "                        <td id=\"T_75d9648e_3539_11e9_98fa_f8a963538a81row1_col3\" class=\"data row1 col3\" >0.0654186</td>\n",
       "                        <td id=\"T_75d9648e_3539_11e9_98fa_f8a963538a81row1_col4\" class=\"data row1 col4\" >-0.0130649</td>\n",
       "                        <td id=\"T_75d9648e_3539_11e9_98fa_f8a963538a81row1_col5\" class=\"data row1 col5\" >0.0710633</td>\n",
       "                        <td id=\"T_75d9648e_3539_11e9_98fa_f8a963538a81row1_col6\" class=\"data row1 col6\" >-0.0688132</td>\n",
       "                        <td id=\"T_75d9648e_3539_11e9_98fa_f8a963538a81row1_col7\" class=\"data row1 col7\" >-0.0384123</td>\n",
       "                        <td id=\"T_75d9648e_3539_11e9_98fa_f8a963538a81row1_col8\" class=\"data row1 col8\" >0.0324199</td>\n",
       "                        <td id=\"T_75d9648e_3539_11e9_98fa_f8a963538a81row1_col9\" class=\"data row1 col9\" >-0.00750139</td>\n",
       "            </tr>\n",
       "            <tr>\n",
       "                        <th id=\"T_75d9648e_3539_11e9_98fa_f8a963538a81level0_row2\" class=\"row_heading level0 row2\" >2</th>\n",
       "                        <td id=\"T_75d9648e_3539_11e9_98fa_f8a963538a81row2_col0\" class=\"data row2 col0\" >0.506597</td>\n",
       "                        <td id=\"T_75d9648e_3539_11e9_98fa_f8a963538a81row2_col1\" class=\"data row2 col1\" >-0.118725</td>\n",
       "                        <td id=\"T_75d9648e_3539_11e9_98fa_f8a963538a81row2_col2\" class=\"data row2 col2\" >-0.0233928</td>\n",
       "                        <td id=\"T_75d9648e_3539_11e9_98fa_f8a963538a81row2_col3\" class=\"data row2 col3\" >-0.0237554</td>\n",
       "                        <td id=\"T_75d9648e_3539_11e9_98fa_f8a963538a81row2_col4\" class=\"data row2 col4\" >-0.00283503</td>\n",
       "                        <td id=\"T_75d9648e_3539_11e9_98fa_f8a963538a81row2_col5\" class=\"data row2 col5\" >-0.012748</td>\n",
       "                        <td id=\"T_75d9648e_3539_11e9_98fa_f8a963538a81row2_col6\" class=\"data row2 col6\" >0.00847393</td>\n",
       "                        <td id=\"T_75d9648e_3539_11e9_98fa_f8a963538a81row2_col7\" class=\"data row2 col7\" >0.00813403</td>\n",
       "                        <td id=\"T_75d9648e_3539_11e9_98fa_f8a963538a81row2_col8\" class=\"data row2 col8\" >-0.00640678</td>\n",
       "                        <td id=\"T_75d9648e_3539_11e9_98fa_f8a963538a81row2_col9\" class=\"data row2 col9\" >0.00368639</td>\n",
       "            </tr>\n",
       "            <tr>\n",
       "                        <th id=\"T_75d9648e_3539_11e9_98fa_f8a963538a81level0_row3\" class=\"row_heading level0 row3\" >3</th>\n",
       "                        <td id=\"T_75d9648e_3539_11e9_98fa_f8a963538a81row3_col0\" class=\"data row3 col0\" >0.423091</td>\n",
       "                        <td id=\"T_75d9648e_3539_11e9_98fa_f8a963538a81row3_col1\" class=\"data row3 col1\" >0.184937</td>\n",
       "                        <td id=\"T_75d9648e_3539_11e9_98fa_f8a963538a81row3_col2\" class=\"data row3 col2\" >0.347771</td>\n",
       "                        <td id=\"T_75d9648e_3539_11e9_98fa_f8a963538a81row3_col3\" class=\"data row3 col3\" >-0.0210119</td>\n",
       "                        <td id=\"T_75d9648e_3539_11e9_98fa_f8a963538a81row3_col4\" class=\"data row3 col4\" >-0.0107358</td>\n",
       "                        <td id=\"T_75d9648e_3539_11e9_98fa_f8a963538a81row3_col5\" class=\"data row3 col5\" >0.0668381</td>\n",
       "                        <td id=\"T_75d9648e_3539_11e9_98fa_f8a963538a81row3_col6\" class=\"data row3 col6\" >0.0943203</td>\n",
       "                        <td id=\"T_75d9648e_3539_11e9_98fa_f8a963538a81row3_col7\" class=\"data row3 col7\" >-0.0343812</td>\n",
       "                        <td id=\"T_75d9648e_3539_11e9_98fa_f8a963538a81row3_col8\" class=\"data row3 col8\" >-0.0307898</td>\n",
       "                        <td id=\"T_75d9648e_3539_11e9_98fa_f8a963538a81row3_col9\" class=\"data row3 col9\" >0.00503464</td>\n",
       "            </tr>\n",
       "            <tr>\n",
       "                        <th id=\"T_75d9648e_3539_11e9_98fa_f8a963538a81level0_row4\" class=\"row_heading level0 row4\" >4</th>\n",
       "                        <td id=\"T_75d9648e_3539_11e9_98fa_f8a963538a81row4_col0\" class=\"data row4 col0\" >0.482724</td>\n",
       "                        <td id=\"T_75d9648e_3539_11e9_98fa_f8a963538a81row4_col1\" class=\"data row4 col1\" >0.427611</td>\n",
       "                        <td id=\"T_75d9648e_3539_11e9_98fa_f8a963538a81row4_col2\" class=\"data row4 col2\" >-0.0674379</td>\n",
       "                        <td id=\"T_75d9648e_3539_11e9_98fa_f8a963538a81row4_col3\" class=\"data row4 col3\" >0.000799421</td>\n",
       "                        <td id=\"T_75d9648e_3539_11e9_98fa_f8a963538a81row4_col4\" class=\"data row4 col4\" >0.0130038</td>\n",
       "                        <td id=\"T_75d9648e_3539_11e9_98fa_f8a963538a81row4_col5\" class=\"data row4 col5\" >-0.0200479</td>\n",
       "                        <td id=\"T_75d9648e_3539_11e9_98fa_f8a963538a81row4_col6\" class=\"data row4 col6\" >-0.0330355</td>\n",
       "                        <td id=\"T_75d9648e_3539_11e9_98fa_f8a963538a81row4_col7\" class=\"data row4 col7\" >0.0175386</td>\n",
       "                        <td id=\"T_75d9648e_3539_11e9_98fa_f8a963538a81row4_col8\" class=\"data row4 col8\" >0.00409286</td>\n",
       "                        <td id=\"T_75d9648e_3539_11e9_98fa_f8a963538a81row4_col9\" class=\"data row4 col9\" >-0.00378107</td>\n",
       "            </tr>\n",
       "    </tbody></table>"
      ],
      "text/plain": [
       "<pandas.io.formats.style.Styler at 0x7f7255b79208>"
      ]
     },
     "execution_count": 234,
     "metadata": {},
     "output_type": "execute_result"
    }
   ],
   "source": [
    "model_data.style.apply(lambda x: [\"background: red\" if v < -0.1 else \"\" for v in x], axis = 1)"
   ]
  },
  {
   "cell_type": "markdown",
   "metadata": {},
   "source": [
    "So what this means is, that all the clusters are in some way connected with MBTI. The zeroth one is not having any programming and the second one is not having any Gintama fanfiction. The zeroth also have some more drawings, just like the third has some more fiction and the forth has some more Gintama fanfiction."
   ]
  },
  {
   "cell_type": "code",
   "execution_count": null,
   "metadata": {},
   "outputs": [],
   "source": []
  }
 ],
 "metadata": {
  "kernelspec": {
   "display_name": "Python 3",
   "language": "python",
   "name": "python3"
  },
  "language_info": {
   "codemirror_mode": {
    "name": "ipython",
    "version": 3
   },
   "file_extension": ".py",
   "mimetype": "text/x-python",
   "name": "python",
   "nbconvert_exporter": "python",
   "pygments_lexer": "ipython3",
   "version": "3.7.2"
  }
 },
 "nbformat": 4,
 "nbformat_minor": 2
}
