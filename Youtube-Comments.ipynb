{
 "cells": [
  {
   "cell_type": "markdown",
   "metadata": {},
   "source": [
    "# Youtube"
   ]
  },
  {
   "cell_type": "code",
   "execution_count": 1,
   "metadata": {},
   "outputs": [],
   "source": [
    "import requests\n",
    "import json"
   ]
  },
  {
   "cell_type": "code",
   "execution_count": 2,
   "metadata": {},
   "outputs": [],
   "source": [
    "api_key = \"\""
   ]
  },
  {
   "cell_type": "markdown",
   "metadata": {},
   "source": [
    "## Get Videos from Channel"
   ]
  },
  {
   "cell_type": "code",
   "execution_count": 3,
   "metadata": {},
   "outputs": [],
   "source": [
    "channel_id = \"UC3XTzVzaHQEd30rQbuvCtTQ\""
   ]
  },
  {
   "cell_type": "code",
   "execution_count": 4,
   "metadata": {},
   "outputs": [],
   "source": [
    "first_url = 'https://www.googleapis.com/youtube/v3/search?key={}&channelId={}&part=snippet,id&order=date&maxResults=25'.format(api_key, channel_id)"
   ]
  },
  {
   "cell_type": "code",
   "execution_count": 5,
   "metadata": {},
   "outputs": [],
   "source": [
    "video_links = []\n",
    "url = first_url\n",
    "while True:\n",
    "    inp = requests.get(url)\n",
    "    resp = json.loads(inp.text)\n",
    "    for i in resp['items']:\n",
    "        if i['id']['kind'] == \"youtube#video\":\n",
    "            video_links.append(\"https://www.youtube.com/watch?v=\" + i['id']['videoId'])\n",
    "    try:\n",
    "        next_page_token = resp['nextPageToken']\n",
    "        url = first_url + '&pageToken={}'.format(next_page_token)\n",
    "    except:\n",
    "        break"
   ]
  },
  {
   "cell_type": "code",
   "execution_count": 6,
   "metadata": {},
   "outputs": [
    {
     "data": {
      "text/plain": [
       "258"
      ]
     },
     "execution_count": 6,
     "metadata": {},
     "output_type": "execute_result"
    }
   ],
   "source": [
    "len(video_links)"
   ]
  },
  {
   "cell_type": "code",
   "execution_count": 7,
   "metadata": {},
   "outputs": [
    {
     "data": {
      "text/plain": [
       "['https://www.youtube.com/watch?v=YMBj_tU7HRU',\n",
       " 'https://www.youtube.com/watch?v=-qCKR6wy94U',\n",
       " 'https://www.youtube.com/watch?v=jCC8fPQOaxU']"
      ]
     },
     "execution_count": 7,
     "metadata": {},
     "output_type": "execute_result"
    }
   ],
   "source": [
    "video_links[2:5]"
   ]
  },
  {
   "cell_type": "markdown",
   "metadata": {},
   "source": [
    "## Get Comments"
   ]
  },
  {
   "cell_type": "code",
   "execution_count": 8,
   "metadata": {},
   "outputs": [],
   "source": [
    "textFormat = 'plainText'\n",
    "part = 'snippet'\n",
    "maxResult = '10'\n",
    "order = 'relevance'\n",
    "nextToken = ''\n",
    "videoId = 'YMBj_tU7HRU'"
   ]
  },
  {
   "cell_type": "code",
   "execution_count": 9,
   "metadata": {},
   "outputs": [],
   "source": [
    "comments = []\n",
    "while True:\n",
    "    response = requests.get(\"https://www.googleapis.com/youtube/v3/commentThreads?&key=\"+api_key+\"&part=\"+part+\"&videoId=\"+videoId +\"&maxResults=\"+maxResult+\"&order=\"+order+\"&pageToken=\"+nextToken)\n",
    "    data  = response.json() \n",
    "    for item in data['items']:\n",
    "        comments.append(item[\"snippet\"][\"topLevelComment\"][\"snippet\"][\"textOriginal\"])\n",
    "    try:\n",
    "        nextToken = data['nextPageToken']\n",
    "    except:\n",
    "        break\n",
    "    break"
   ]
  },
  {
   "cell_type": "code",
   "execution_count": 10,
   "metadata": {},
   "outputs": [
    {
     "data": {
      "text/plain": [
       "['The moment you realize the nickname \"Stupid Watergate\" was way more accurate than anyone thought.',\n",
       " '\"Good for you bruh,\\nHustle for that muscle\\nSore today strong tomorrow, am I right\\nGet swole feed the soul \\nFrom one beef tower to another \\nRespeeeeect\"\\n5:05 LMAO',\n",
       " 'Not knowing your actions are unlawful has never been substantial grounds to avoid jail. Why is it now?',\n",
       " 'The Baby is HERCULES 🤷\\u200d♂️7:30',\n",
       " 'Clusterfucken - disaster stuffed inside a travesty wrapped in incompetence.',\n",
       " 'So basically: They all tried to collude, but were too dumb; and Trump wanted to obstruct justice, but nobody cared.\\nThis really is the worst reality of them all.',\n",
       " 'I feel like our country is being run by Michael Scott on Bath-Salt!',\n",
       " \"Never thought I'd live to see a US president out-stupid Bush. Sure as hell didn't expect to see it happen in under a decade :/\",\n",
       " \"It's like Arrested Development: Presidential Edition...\",\n",
       " 'oh im subbed to this channel and i only found this video in the recommenced just now 2 weeks later']"
      ]
     },
     "execution_count": 10,
     "metadata": {},
     "output_type": "execute_result"
    }
   ],
   "source": [
    "comments"
   ]
  }
 ],
 "metadata": {
  "kernelspec": {
   "display_name": "Python 3",
   "language": "python",
   "name": "python3"
  },
  "language_info": {
   "codemirror_mode": {
    "name": "ipython",
    "version": 3
   },
   "file_extension": ".py",
   "mimetype": "text/x-python",
   "name": "python",
   "nbconvert_exporter": "python",
   "pygments_lexer": "ipython3",
   "version": "3.7.3"
  }
 },
 "nbformat": 4,
 "nbformat_minor": 2
}
