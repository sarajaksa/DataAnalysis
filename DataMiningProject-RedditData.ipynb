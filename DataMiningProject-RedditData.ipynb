{
 "cells": [
  {
   "cell_type": "markdown",
   "metadata": {},
   "source": [
    "# Getting MBTI tagged posts from Reddit"
   ]
  },
  {
   "cell_type": "markdown",
   "metadata": {},
   "source": [
    "Created by: Sara Jakša"
   ]
  },
  {
   "cell_type": "markdown",
   "metadata": {},
   "source": [
    "First we are importing the necessary libaries. There are just things to access Reddit API this time."
   ]
  },
  {
   "cell_type": "code",
   "execution_count": 1,
   "metadata": {
    "collapsed": true
   },
   "outputs": [],
   "source": [
    "import praw\n",
    "from praw.models import MoreComments"
   ]
  },
  {
   "cell_type": "markdown",
   "metadata": {},
   "source": [
    "This is going to be the file we are going to save our results in."
   ]
  },
  {
   "cell_type": "code",
   "execution_count": 2,
   "metadata": {
    "collapsed": true
   },
   "outputs": [],
   "source": [
    "filename = \"reddit.csv\""
   ]
  },
  {
   "cell_type": "markdown",
   "metadata": {},
   "source": [
    "This are the credentials needed to access Reddit data. You can get it here: [https://www.reddit.com/prefs/apps](https://www.reddit.com/prefs/apps). "
   ]
  },
  {
   "cell_type": "code",
   "execution_count": 12,
   "metadata": {
    "collapsed": true
   },
   "outputs": [],
   "source": [
    "client_id=\"\"\n",
    "client_secret=\"\"\n",
    "user_agent=\"\""
   ]
  },
  {
   "cell_type": "markdown",
   "metadata": {},
   "source": [
    "This are types names that we are going to be using for comparison and accessing subreddits. "
   ]
  },
  {
   "cell_type": "code",
   "execution_count": 5,
   "metadata": {
    "collapsed": true
   },
   "outputs": [],
   "source": [
    "typenames = [\"ENFJ\",\n",
    "             \"ENFP\",\n",
    "             \"ENTJ\",\n",
    "             \"ENTP\",\n",
    "             \"ESFJ\",\n",
    "             \"ESFP\",\n",
    "             \"ESTJ\",\n",
    "             \"ESTP\",\n",
    "             \"INFJ\",\n",
    "             \"INFP\",\n",
    "             \"INTJ\",\n",
    "             \"INTP\",\n",
    "             \"ISFJ\",\n",
    "             \"ISFP\",\n",
    "             \"ISTJ\",\n",
    "             \"ISTP\"]"
   ]
  },
  {
   "cell_type": "markdown",
   "metadata": {},
   "source": [
    "This is a client, that will enable us to get Reddit data."
   ]
  },
  {
   "cell_type": "code",
   "execution_count": 6,
   "metadata": {
    "collapsed": true
   },
   "outputs": [],
   "source": [
    "reddit = praw.Reddit(client_id=client_id,\n",
    "                     client_secret=client_secret,\n",
    "                     user_agent=user_agent)"
   ]
  },
  {
   "cell_type": "markdown",
   "metadata": {},
   "source": [
    "This is a helper function that will phrase the data needed."
   ]
  },
  {
   "cell_type": "code",
   "execution_count": 7,
   "metadata": {
    "collapsed": true
   },
   "outputs": [],
   "source": [
    "def getinfofromdata(post):\n",
    "    postid = post.id\n",
    "    if post.author:\n",
    "        author = post.author.name\n",
    "    else:\n",
    "        return None\n",
    "    try:\n",
    "        text = post.selftext\n",
    "    except AttributeError:\n",
    "        text = post.body\n",
    "    text = text.replace(\"\\n\", \" \").replace(\"\\t\", \" \")\n",
    "    if post.author_flair_text:\n",
    "        typeofpost = post.author_flair_text\n",
    "    else:\n",
    "        return None\n",
    "    if not text.strip():\n",
    "        return None\n",
    "    return postid, author, typeofpost, text"
   ]
  },
  {
   "cell_type": "markdown",
   "metadata": {},
   "source": [
    "This function allows us to access subreddit and get their submissions and comments on these submissions."
   ]
  },
  {
   "cell_type": "code",
   "execution_count": 8,
   "metadata": {
    "collapsed": true
   },
   "outputs": [],
   "source": [
    "def functionformbti(typename):\n",
    "    alltexts = list()\n",
    "\n",
    "    for submission in reddit.subreddit(typename).new(limit=None):\n",
    "        alltexts.append(getinfofromdata(submission))\n",
    "        for comment in submission.comments:\n",
    "            if isinstance(comment, MoreComments):\n",
    "                continue\n",
    "            alltexts.append(getinfofromdata(submission))\n",
    "    return list(set(alltexts))"
   ]
  },
  {
   "cell_type": "markdown",
   "metadata": {},
   "source": [
    "Now we are going to access all of the subreddits that we are interested in."
   ]
  },
  {
   "cell_type": "code",
   "execution_count": 10,
   "metadata": {},
   "outputs": [],
   "source": [
    "alltexts = []\n",
    "for typename in typenames + [\"MBTI\"]:\n",
    "    texts = functionformbti(typename.lower())\n",
    "    texts = list(set(texts))\n",
    "    alltexts.append([text for text in texts if text and text[2].upper().strip() in typenames])"
   ]
  },
  {
   "cell_type": "markdown",
   "metadata": {},
   "source": [
    "And now we will write the results in the file."
   ]
  },
  {
   "cell_type": "code",
   "execution_count": 11,
   "metadata": {
    "collapsed": true
   },
   "outputs": [],
   "source": [
    "with open(filename, \"a\", -1, \"utf-8\") as write:\n",
    "    for typename in alltexts:\n",
    "        for text in typename:\n",
    "            write.write(\"\\t\".join(text) + \"\\n\")"
   ]
  },
  {
   "cell_type": "code",
   "execution_count": null,
   "metadata": {
    "collapsed": true
   },
   "outputs": [],
   "source": []
  }
 ],
 "metadata": {
  "kernelspec": {
   "display_name": "Python 3",
   "language": "python",
   "name": "python3"
  },
  "language_info": {
   "codemirror_mode": {
    "name": "ipython",
    "version": 3
   },
   "file_extension": ".py",
   "mimetype": "text/x-python",
   "name": "python",
   "nbconvert_exporter": "python",
   "pygments_lexer": "ipython3",
   "version": "3.6.0"
  }
 },
 "nbformat": 4,
 "nbformat_minor": 2
}
