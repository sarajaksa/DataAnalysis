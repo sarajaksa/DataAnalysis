{
 "cells": [
  {
   "cell_type": "markdown",
   "metadata": {},
   "source": [
    "# Getting Tumblr data from people with the ESFJ MBTI type"
   ]
  },
  {
   "cell_type": "markdown",
   "metadata": {},
   "source": [
    "Created by: Sara Jakša"
   ]
  },
  {
   "cell_type": "markdown",
   "metadata": {},
   "source": [
    "First we need to import the libaries that we are going to need.\n",
    "\n",
    "As a note, because the API libary for accessing Tumblr is not yet ported to python3, this script is using python2."
   ]
  },
  {
   "cell_type": "code",
   "execution_count": 1,
   "metadata": {
    "collapsed": true
   },
   "outputs": [],
   "source": [
    "from bs4 import BeautifulSoup\n",
    "import pytumblr\n",
    "import codecs\n",
    "import re"
   ]
  },
  {
   "cell_type": "markdown",
   "metadata": {},
   "source": [
    "Add your own consumer key and secret here. You can register your app to get it on [https://www.tumblr.com/oauth/apps](https://www.tumblr.com/oauth/apps)"
   ]
  },
  {
   "cell_type": "code",
   "execution_count": 2,
   "metadata": {
    "collapsed": true
   },
   "outputs": [],
   "source": [
    "consumer_key = ''\n",
    "consumer_secret = ''"
   ]
  },
  {
   "cell_type": "markdown",
   "metadata": {},
   "source": [
    "Here you can specify the tag that is going to be searched and the name of the file where the final results will be saved."
   ]
  },
  {
   "cell_type": "code",
   "execution_count": 3,
   "metadata": {
    "collapsed": true
   },
   "outputs": [],
   "source": [
    "tag = \"ESFJ\"\n",
    "filename = \"tumblr-esfj.csv\""
   ]
  },
  {
   "cell_type": "code",
   "execution_count": 4,
   "metadata": {
    "collapsed": true
   },
   "outputs": [],
   "source": [
    "tumblr_url = r\"[\\w-]+.tumblr.com\""
   ]
  },
  {
   "cell_type": "markdown",
   "metadata": {},
   "source": [
    "Here we are going to start the client, that will enable us to access Tumblr data."
   ]
  },
  {
   "cell_type": "code",
   "execution_count": 5,
   "metadata": {
    "collapsed": true
   },
   "outputs": [],
   "source": [
    "client = pytumblr.TumblrRestClient(\n",
    "    consumer_key,\n",
    "    consumer_secret,\n",
    ")"
   ]
  },
  {
   "cell_type": "markdown",
   "metadata": {},
   "source": [
    "The following part is to first get post that use specific tag. If you provide the timestamp, then it will search from this time backward. Otherwise is searches from the moment that it accesses it backward."
   ]
  },
  {
   "cell_type": "code",
   "execution_count": 7,
   "metadata": {
    "collapsed": true
   },
   "outputs": [],
   "source": [
    "def getData(tag, timestamp=None):\n",
    "    posturlsusingtag = list()\n",
    "    while 1:\n",
    "        timestamp, posturlsusingtag = getTumblrPosts(before=timestamp, tag=tag, limit=20, posturlsusingtag=posturlsusingtag)\n",
    "        if not timestamp:\n",
    "            return None\n",
    "        print(timestamp)\n",
    "    return timestamp, posturlsusingtag"
   ]
  },
  {
   "cell_type": "code",
   "execution_count": 6,
   "metadata": {
    "collapsed": true
   },
   "outputs": [],
   "source": [
    "def getTumblrPosts(before=None, tag=\"ESFJ\", limit=20, posturlsusingtag=[]):\n",
    "    posts = client.tagged(tag, limit=limit, before=before)\n",
    "    if len(posts) == 0:\n",
    "        return None\n",
    "    for post in posts:\n",
    "        if post[\"type\"] == \"text\":\n",
    "            posturlsusingtag.append(post[u\"post_url\"])\n",
    "    return post[u\"timestamp\"], posturlsusingtag"
   ]
  },
  {
   "cell_type": "code",
   "execution_count": 8,
   "metadata": {},
   "outputs": [
    {
     "name": "stdout",
     "output_type": "stream",
     "text": [
      "1490713434\n",
      "1489999136\n",
      "1489188836\n"
     ]
    }
   ],
   "source": [
    "timestamp, posturlsusingtag = getData(tag)"
   ]
  },
  {
   "cell_type": "markdown",
   "metadata": {},
   "source": [
    "This part will allow us to get Tumblr blog names from the urls of the posts."
   ]
  },
  {
   "cell_type": "code",
   "execution_count": 9,
   "metadata": {
    "collapsed": true
   },
   "outputs": [],
   "source": [
    "def getTumblrNameFromUrl(urllist):\n",
    "    tumblrnames = []\n",
    "    for url in urllist:\n",
    "        if \"tumblr.com\" in url:\n",
    "            url = re.search(tumblr_url, url)\n",
    "            url = url.group()\n",
    "            tumblrnames.append(url[:-11])\n",
    "    return list(set(tumblrnames))"
   ]
  },
  {
   "cell_type": "code",
   "execution_count": 10,
   "metadata": {
    "collapsed": true
   },
   "outputs": [],
   "source": [
    "names = getTumblrNameFromUrl(posturlsusingtag)"
   ]
  },
  {
   "cell_type": "markdown",
   "metadata": {},
   "source": [
    "Since people discussing personality types also use the tags of types different then themsleves, this is not a good indication if which type they are. But a lot of times people will simply include their type in their blog description. This is what this function searches for - was the type name mentioned in the description."
   ]
  },
  {
   "cell_type": "code",
   "execution_count": 11,
   "metadata": {
    "collapsed": true
   },
   "outputs": [],
   "source": [
    "def gerTumblrDescription(urllist, tag):\n",
    "    blogurls = []\n",
    "    for url in urllist:\n",
    "        blog = client.blog_info(url + \".tumblr.com\")\n",
    "        try:\n",
    "            if tag.lower() in blog[u\"blog\"][u\"description\"].lower():\n",
    "                blogurls.append(url)\n",
    "        except KeyError:\n",
    "            pass\n",
    "    return list(set(blogurls))"
   ]
  },
  {
   "cell_type": "code",
   "execution_count": 12,
   "metadata": {
    "collapsed": true
   },
   "outputs": [],
   "source": [
    "typenamesonly = gerTumblrDescription(names, tag)"
   ]
  },
  {
   "cell_type": "markdown",
   "metadata": {},
   "source": [
    "Now that we got the blogs of people with actually type we are searching for, now we can simply get the 20 posts of each of them nad save them to file."
   ]
  },
  {
   "cell_type": "code",
   "execution_count": 13,
   "metadata": {
    "collapsed": true
   },
   "outputs": [],
   "source": [
    "def getBlogPosts(filename, blogurls):\n",
    "    with codecs.open(filename, \"a\", \"utf-8\") as write:\n",
    "        for name in blogurls:\n",
    "            blog = client.posts(name)\n",
    "            try:\n",
    "                posts = blog[\"posts\"]\n",
    "            except:\n",
    "                print(blog)\n",
    "                continue\n",
    "            for post in posts:\n",
    "                try:\n",
    "                    body = BeautifulSoup(post[\"body\"], 'html.parser')\n",
    "                except KeyError:\n",
    "                    continue\n",
    "                body = body.get_text()\n",
    "                if not body:\n",
    "                    body = \"\"\n",
    "                if post[\"title\"]:\n",
    "                    title = post[\"title\"]\n",
    "                else:\n",
    "                    title = \"\"\n",
    "                text = title + body\n",
    "                text = text.replace(\"\\t\", \" \").replace(\"\\n\", \" \").replace(\"\\r\", \" \")\n",
    "                write.write(name + \"\\t\" +\n",
    "                            str(post[\"id\"]) + \"\\t\" +\n",
    "                            text + \"\\n\")"
   ]
  },
  {
   "cell_type": "code",
   "execution_count": 14,
   "metadata": {
    "collapsed": true
   },
   "outputs": [],
   "source": [
    "getBlogPosts(filename, typenamesonly)"
   ]
  }
 ],
 "metadata": {
  "kernelspec": {
   "display_name": "Python 2",
   "language": "python2",
   "name": "python2"
  },
  "language_info": {
   "codemirror_mode": {
    "name": "ipython",
    "version": 2
   },
   "file_extension": ".py",
   "mimetype": "text/x-python",
   "name": "python",
   "nbconvert_exporter": "python",
   "pygments_lexer": "ipython2",
   "version": "2.7.13"
  }
 },
 "nbformat": 4,
 "nbformat_minor": 2
}
